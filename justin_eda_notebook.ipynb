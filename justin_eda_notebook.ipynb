{
 "cells": [
  {
   "cell_type": "markdown",
   "metadata": {},
   "source": [
    "## Initial Mental Health Data"
   ]
  },
  {
   "cell_type": "code",
   "execution_count": 1,
   "metadata": {},
   "outputs": [],
   "source": [
    "# import necessary packages\n",
    "import pandas as pd\n",
    "import numpy as np\n",
    "import os\n",
    "\n",
    "# for plotting\n",
    "import matplotlib.pyplot as plt\n",
    "%matplotlib inline\n",
    "import seaborn as sns\n",
    "sns.set_style(style='darkgrid')\n",
    "\n",
    "# set directory\n",
    "DIR = '~/Documents/Flatiron/Project_3/data'\n",
    "PROJECT_DIR = \".\"\n",
    "IMAGES_PATH = os.path.join(PROJECT_DIR, 'images')\n",
    "os.makedirs(IMAGES_PATH, exist_ok=True)\n",
    "\n",
    "# function for saving figures \n",
    "def save_fig(fig_id, tight_layout=True, fig_extension=\"png\", resolution=300):\n",
    "    path = os.path.join(IMAGES_PATH, fig_id + \".\" + fig_extension)\n",
    "    print(\"Saving figure\", fig_id)\n",
    "    if tight_layout:\n",
    "        plt.tight_layout()\n",
    "    plt.savefig(path, format=fig_extension, dpi=resolution)\n",
    "\n",
    "\n",
    "# ignore warnings\n",
    "import warnings\n",
    "warnings.filterwarnings('ignore')"
   ]
  },
  {
   "cell_type": "code",
   "execution_count": 2,
   "metadata": {},
   "outputs": [],
   "source": [
    "# read in data\n",
    "df = pd.read_csv(DIR + '/survey_2014_data.csv') # original survey data to get full questions for data dict\n",
    "df2 = pd.read_csv(DIR + '/archive.zip') # data uploaded to kaggle with new column headers"
   ]
  },
  {
   "cell_type": "code",
   "execution_count": 3,
   "metadata": {},
   "outputs": [
    {
     "data": {
      "text/html": [
       "<div>\n",
       "<style scoped>\n",
       "    .dataframe tbody tr th:only-of-type {\n",
       "        vertical-align: middle;\n",
       "    }\n",
       "\n",
       "    .dataframe tbody tr th {\n",
       "        vertical-align: top;\n",
       "    }\n",
       "\n",
       "    .dataframe thead th {\n",
       "        text-align: right;\n",
       "    }\n",
       "</style>\n",
       "<table border=\"1\" class=\"dataframe\">\n",
       "  <thead>\n",
       "    <tr style=\"text-align: right;\">\n",
       "      <th></th>\n",
       "      <th>Timestamp</th>\n",
       "      <th>Age</th>\n",
       "      <th>Gender</th>\n",
       "      <th>Country</th>\n",
       "      <th>If you live in the United States, which state or territory do you live in?</th>\n",
       "      <th>Are you self-employed?</th>\n",
       "      <th>Do you have a family history of mental illness?</th>\n",
       "      <th>Have you sought treatment for a mental health condition?</th>\n",
       "      <th>If you have a mental health condition, do you feel that it interferes with your work?</th>\n",
       "      <th>How many employees does your company or organization have?</th>\n",
       "      <th>...</th>\n",
       "      <th>How easy is it for you to take medical leave for a mental health condition?</th>\n",
       "      <th>Do you think that discussing a mental health issue with your employer would have negative consequences?</th>\n",
       "      <th>Do you think that discussing a physical health issue with your employer would have negative consequences?</th>\n",
       "      <th>Would you be willing to discuss a mental health issue with your coworkers?</th>\n",
       "      <th>Would you be willing to discuss a mental health issue with your direct supervisor(s)?</th>\n",
       "      <th>Would you bring up a mental health issue with a potential employer in an interview?</th>\n",
       "      <th>Would you bring up a physical health issue with a potential employer in an interview?</th>\n",
       "      <th>Do you feel that your employer takes mental health as seriously as physical health?</th>\n",
       "      <th>Have you heard of or observed negative consequences for coworkers with mental health conditions in your workplace?</th>\n",
       "      <th>Any additional notes or comments</th>\n",
       "    </tr>\n",
       "  </thead>\n",
       "  <tbody>\n",
       "    <tr>\n",
       "      <th>0</th>\n",
       "      <td>8/27/2014 11:29:31</td>\n",
       "      <td>37</td>\n",
       "      <td>Female</td>\n",
       "      <td>United States</td>\n",
       "      <td>IL</td>\n",
       "      <td>NaN</td>\n",
       "      <td>No</td>\n",
       "      <td>Yes</td>\n",
       "      <td>Often</td>\n",
       "      <td>6-25</td>\n",
       "      <td>...</td>\n",
       "      <td>Somewhat easy</td>\n",
       "      <td>No</td>\n",
       "      <td>No</td>\n",
       "      <td>Some of them</td>\n",
       "      <td>Yes</td>\n",
       "      <td>No</td>\n",
       "      <td>Maybe</td>\n",
       "      <td>Yes</td>\n",
       "      <td>No</td>\n",
       "      <td>NaN</td>\n",
       "    </tr>\n",
       "    <tr>\n",
       "      <th>1</th>\n",
       "      <td>8/27/2014 11:29:37</td>\n",
       "      <td>44</td>\n",
       "      <td>M</td>\n",
       "      <td>United States</td>\n",
       "      <td>IN</td>\n",
       "      <td>NaN</td>\n",
       "      <td>No</td>\n",
       "      <td>No</td>\n",
       "      <td>Rarely</td>\n",
       "      <td>More than 1000</td>\n",
       "      <td>...</td>\n",
       "      <td>Don't know</td>\n",
       "      <td>Maybe</td>\n",
       "      <td>No</td>\n",
       "      <td>No</td>\n",
       "      <td>No</td>\n",
       "      <td>No</td>\n",
       "      <td>No</td>\n",
       "      <td>Don't know</td>\n",
       "      <td>No</td>\n",
       "      <td>NaN</td>\n",
       "    </tr>\n",
       "    <tr>\n",
       "      <th>2</th>\n",
       "      <td>8/27/2014 11:29:44</td>\n",
       "      <td>32</td>\n",
       "      <td>Male</td>\n",
       "      <td>Canada</td>\n",
       "      <td>NaN</td>\n",
       "      <td>NaN</td>\n",
       "      <td>No</td>\n",
       "      <td>No</td>\n",
       "      <td>Rarely</td>\n",
       "      <td>6-25</td>\n",
       "      <td>...</td>\n",
       "      <td>Somewhat difficult</td>\n",
       "      <td>No</td>\n",
       "      <td>No</td>\n",
       "      <td>Yes</td>\n",
       "      <td>Yes</td>\n",
       "      <td>Yes</td>\n",
       "      <td>Yes</td>\n",
       "      <td>No</td>\n",
       "      <td>No</td>\n",
       "      <td>NaN</td>\n",
       "    </tr>\n",
       "    <tr>\n",
       "      <th>3</th>\n",
       "      <td>8/27/2014 11:29:46</td>\n",
       "      <td>31</td>\n",
       "      <td>Male</td>\n",
       "      <td>United Kingdom</td>\n",
       "      <td>NaN</td>\n",
       "      <td>NaN</td>\n",
       "      <td>Yes</td>\n",
       "      <td>Yes</td>\n",
       "      <td>Often</td>\n",
       "      <td>26-100</td>\n",
       "      <td>...</td>\n",
       "      <td>Somewhat difficult</td>\n",
       "      <td>Yes</td>\n",
       "      <td>Yes</td>\n",
       "      <td>Some of them</td>\n",
       "      <td>No</td>\n",
       "      <td>Maybe</td>\n",
       "      <td>Maybe</td>\n",
       "      <td>No</td>\n",
       "      <td>Yes</td>\n",
       "      <td>NaN</td>\n",
       "    </tr>\n",
       "    <tr>\n",
       "      <th>4</th>\n",
       "      <td>8/27/2014 11:30:22</td>\n",
       "      <td>31</td>\n",
       "      <td>Male</td>\n",
       "      <td>United States</td>\n",
       "      <td>TX</td>\n",
       "      <td>NaN</td>\n",
       "      <td>No</td>\n",
       "      <td>No</td>\n",
       "      <td>Never</td>\n",
       "      <td>100-500</td>\n",
       "      <td>...</td>\n",
       "      <td>Don't know</td>\n",
       "      <td>No</td>\n",
       "      <td>No</td>\n",
       "      <td>Some of them</td>\n",
       "      <td>Yes</td>\n",
       "      <td>Yes</td>\n",
       "      <td>Yes</td>\n",
       "      <td>Don't know</td>\n",
       "      <td>No</td>\n",
       "      <td>NaN</td>\n",
       "    </tr>\n",
       "  </tbody>\n",
       "</table>\n",
       "<p>5 rows × 27 columns</p>\n",
       "</div>"
      ],
      "text/plain": [
       "            Timestamp  Age  Gender         Country  \\\n",
       "0  8/27/2014 11:29:31   37  Female   United States   \n",
       "1  8/27/2014 11:29:37   44       M   United States   \n",
       "2  8/27/2014 11:29:44   32    Male          Canada   \n",
       "3  8/27/2014 11:29:46   31    Male  United Kingdom   \n",
       "4  8/27/2014 11:30:22   31    Male   United States   \n",
       "\n",
       "  If you live in the United States, which state or territory do you live in?  \\\n",
       "0                                                 IL                           \n",
       "1                                                 IN                           \n",
       "2                                                NaN                           \n",
       "3                                                NaN                           \n",
       "4                                                 TX                           \n",
       "\n",
       "  Are you self-employed? Do you have a family history of mental illness?  \\\n",
       "0                    NaN                                              No   \n",
       "1                    NaN                                              No   \n",
       "2                    NaN                                              No   \n",
       "3                    NaN                                             Yes   \n",
       "4                    NaN                                              No   \n",
       "\n",
       "  Have you sought treatment for a mental health condition?  \\\n",
       "0                                                Yes         \n",
       "1                                                 No         \n",
       "2                                                 No         \n",
       "3                                                Yes         \n",
       "4                                                 No         \n",
       "\n",
       "  If you have a mental health condition, do you feel that it interferes with your work?  \\\n",
       "0                                              Often                                      \n",
       "1                                             Rarely                                      \n",
       "2                                             Rarely                                      \n",
       "3                                              Often                                      \n",
       "4                                              Never                                      \n",
       "\n",
       "  How many employees does your company or organization have?  ...  \\\n",
       "0                                               6-25          ...   \n",
       "1                                     More than 1000          ...   \n",
       "2                                               6-25          ...   \n",
       "3                                             26-100          ...   \n",
       "4                                            100-500          ...   \n",
       "\n",
       "  How easy is it for you to take medical leave for a mental health condition?  \\\n",
       "0                                      Somewhat easy                            \n",
       "1                                         Don't know                            \n",
       "2                                 Somewhat difficult                            \n",
       "3                                 Somewhat difficult                            \n",
       "4                                         Don't know                            \n",
       "\n",
       "  Do you think that discussing a mental health issue with your employer would have negative consequences?  \\\n",
       "0                                                 No                                                        \n",
       "1                                              Maybe                                                        \n",
       "2                                                 No                                                        \n",
       "3                                                Yes                                                        \n",
       "4                                                 No                                                        \n",
       "\n",
       "  Do you think that discussing a physical health issue with your employer would have negative consequences?  \\\n",
       "0                                                 No                                                          \n",
       "1                                                 No                                                          \n",
       "2                                                 No                                                          \n",
       "3                                                Yes                                                          \n",
       "4                                                 No                                                          \n",
       "\n",
       "  Would you be willing to discuss a mental health issue with your coworkers?  \\\n",
       "0                                       Some of them                           \n",
       "1                                                 No                           \n",
       "2                                                Yes                           \n",
       "3                                       Some of them                           \n",
       "4                                       Some of them                           \n",
       "\n",
       "  Would you be willing to discuss a mental health issue with your direct supervisor(s)?  \\\n",
       "0                                                Yes                                      \n",
       "1                                                 No                                      \n",
       "2                                                Yes                                      \n",
       "3                                                 No                                      \n",
       "4                                                Yes                                      \n",
       "\n",
       "  Would you bring up a mental health issue with a potential employer in an interview?  \\\n",
       "0                                                 No                                    \n",
       "1                                                 No                                    \n",
       "2                                                Yes                                    \n",
       "3                                              Maybe                                    \n",
       "4                                                Yes                                    \n",
       "\n",
       "  Would you bring up a physical health issue with a potential employer in an interview?  \\\n",
       "0                                              Maybe                                      \n",
       "1                                                 No                                      \n",
       "2                                                Yes                                      \n",
       "3                                              Maybe                                      \n",
       "4                                                Yes                                      \n",
       "\n",
       "  Do you feel that your employer takes mental health as seriously as physical health?  \\\n",
       "0                                                Yes                                    \n",
       "1                                         Don't know                                    \n",
       "2                                                 No                                    \n",
       "3                                                 No                                    \n",
       "4                                         Don't know                                    \n",
       "\n",
       "  Have you heard of or observed negative consequences for coworkers with mental health conditions in your workplace?  \\\n",
       "0                                                 No                                                                   \n",
       "1                                                 No                                                                   \n",
       "2                                                 No                                                                   \n",
       "3                                                Yes                                                                   \n",
       "4                                                 No                                                                   \n",
       "\n",
       "  Any additional notes or comments  \n",
       "0                              NaN  \n",
       "1                              NaN  \n",
       "2                              NaN  \n",
       "3                              NaN  \n",
       "4                              NaN  \n",
       "\n",
       "[5 rows x 27 columns]"
      ]
     },
     "execution_count": 3,
     "metadata": {},
     "output_type": "execute_result"
    }
   ],
   "source": [
    "df.head()"
   ]
  },
  {
   "cell_type": "markdown",
   "metadata": {},
   "source": [
    "### Data dictionary for study"
   ]
  },
  {
   "cell_type": "code",
   "execution_count": 4,
   "metadata": {},
   "outputs": [
    {
     "data": {
      "text/plain": [
       "Index(['Timestamp', 'Age', 'Gender', 'Country', 'state', 'self_employed',\n",
       "       'family_history', 'treatment', 'work_interfere', 'no_employees',\n",
       "       'remote_work', 'tech_company', 'benefits', 'care_options',\n",
       "       'wellness_program', 'seek_help', 'anonymity', 'leave',\n",
       "       'mental_health_consequence', 'phys_health_consequence', 'coworkers',\n",
       "       'supervisor', 'mental_health_interview', 'phys_health_interview',\n",
       "       'mental_vs_physical', 'obs_consequence', 'comments'],\n",
       "      dtype='object')"
      ]
     },
     "execution_count": 4,
     "metadata": {},
     "output_type": "execute_result"
    }
   ],
   "source": [
    "df2.columns"
   ]
  },
  {
   "cell_type": "code",
   "execution_count": 5,
   "metadata": {},
   "outputs": [],
   "source": [
    "data_dict = pd.DataFrame(df.columns)"
   ]
  },
  {
   "cell_type": "code",
   "execution_count": 6,
   "metadata": {},
   "outputs": [
    {
     "data": {
      "text/html": [
       "<div>\n",
       "<style scoped>\n",
       "    .dataframe tbody tr th:only-of-type {\n",
       "        vertical-align: middle;\n",
       "    }\n",
       "\n",
       "    .dataframe tbody tr th {\n",
       "        vertical-align: top;\n",
       "    }\n",
       "\n",
       "    .dataframe thead th {\n",
       "        text-align: right;\n",
       "    }\n",
       "</style>\n",
       "<table border=\"1\" class=\"dataframe\">\n",
       "  <thead>\n",
       "    <tr style=\"text-align: right;\">\n",
       "      <th></th>\n",
       "      <th>0</th>\n",
       "    </tr>\n",
       "  </thead>\n",
       "  <tbody>\n",
       "    <tr>\n",
       "      <th>0</th>\n",
       "      <td>Timestamp</td>\n",
       "    </tr>\n",
       "    <tr>\n",
       "      <th>1</th>\n",
       "      <td>Age</td>\n",
       "    </tr>\n",
       "    <tr>\n",
       "      <th>2</th>\n",
       "      <td>Gender</td>\n",
       "    </tr>\n",
       "    <tr>\n",
       "      <th>3</th>\n",
       "      <td>Country</td>\n",
       "    </tr>\n",
       "    <tr>\n",
       "      <th>4</th>\n",
       "      <td>If you live in the United States, which state ...</td>\n",
       "    </tr>\n",
       "  </tbody>\n",
       "</table>\n",
       "</div>"
      ],
      "text/plain": [
       "                                                   0\n",
       "0                                          Timestamp\n",
       "1                                                Age\n",
       "2                                             Gender\n",
       "3                                            Country\n",
       "4  If you live in the United States, which state ..."
      ]
     },
     "execution_count": 6,
     "metadata": {},
     "output_type": "execute_result"
    }
   ],
   "source": [
    "data_dict.head()"
   ]
  },
  {
   "cell_type": "code",
   "execution_count": 7,
   "metadata": {},
   "outputs": [],
   "source": [
    "data_dict['Field_Name'] = df2.columns"
   ]
  },
  {
   "cell_type": "code",
   "execution_count": 8,
   "metadata": {},
   "outputs": [],
   "source": [
    "data_dict.set_index('Field_Name', inplace=True)"
   ]
  },
  {
   "cell_type": "code",
   "execution_count": 9,
   "metadata": {},
   "outputs": [
    {
     "data": {
      "text/html": [
       "<div>\n",
       "<style scoped>\n",
       "    .dataframe tbody tr th:only-of-type {\n",
       "        vertical-align: middle;\n",
       "    }\n",
       "\n",
       "    .dataframe tbody tr th {\n",
       "        vertical-align: top;\n",
       "    }\n",
       "\n",
       "    .dataframe thead th {\n",
       "        text-align: right;\n",
       "    }\n",
       "</style>\n",
       "<table border=\"1\" class=\"dataframe\">\n",
       "  <thead>\n",
       "    <tr style=\"text-align: right;\">\n",
       "      <th></th>\n",
       "      <th>0</th>\n",
       "    </tr>\n",
       "    <tr>\n",
       "      <th>Field_Name</th>\n",
       "      <th></th>\n",
       "    </tr>\n",
       "  </thead>\n",
       "  <tbody>\n",
       "    <tr>\n",
       "      <th>Timestamp</th>\n",
       "      <td>Timestamp</td>\n",
       "    </tr>\n",
       "    <tr>\n",
       "      <th>Age</th>\n",
       "      <td>Age</td>\n",
       "    </tr>\n",
       "    <tr>\n",
       "      <th>Gender</th>\n",
       "      <td>Gender</td>\n",
       "    </tr>\n",
       "    <tr>\n",
       "      <th>Country</th>\n",
       "      <td>Country</td>\n",
       "    </tr>\n",
       "    <tr>\n",
       "      <th>state</th>\n",
       "      <td>If you live in the United States, which state or territory do you live in?</td>\n",
       "    </tr>\n",
       "    <tr>\n",
       "      <th>self_employed</th>\n",
       "      <td>Are you self-employed?</td>\n",
       "    </tr>\n",
       "    <tr>\n",
       "      <th>family_history</th>\n",
       "      <td>Do you have a family history of mental illness?</td>\n",
       "    </tr>\n",
       "    <tr>\n",
       "      <th>treatment</th>\n",
       "      <td>Have you sought treatment for a mental health condition?</td>\n",
       "    </tr>\n",
       "    <tr>\n",
       "      <th>work_interfere</th>\n",
       "      <td>If you have a mental health condition, do you feel that it interferes with your work?</td>\n",
       "    </tr>\n",
       "    <tr>\n",
       "      <th>no_employees</th>\n",
       "      <td>How many employees does your company or organization have?</td>\n",
       "    </tr>\n",
       "    <tr>\n",
       "      <th>remote_work</th>\n",
       "      <td>Do you work remotely (outside of an office) at least 50% of the time?</td>\n",
       "    </tr>\n",
       "    <tr>\n",
       "      <th>tech_company</th>\n",
       "      <td>Is your employer primarily a tech company/organization?</td>\n",
       "    </tr>\n",
       "    <tr>\n",
       "      <th>benefits</th>\n",
       "      <td>Does your employer provide mental health benefits?</td>\n",
       "    </tr>\n",
       "    <tr>\n",
       "      <th>care_options</th>\n",
       "      <td>Do you know the options for mental health care your employer provides?</td>\n",
       "    </tr>\n",
       "    <tr>\n",
       "      <th>wellness_program</th>\n",
       "      <td>Has your employer ever discussed mental health as part of an employee wellness program?</td>\n",
       "    </tr>\n",
       "    <tr>\n",
       "      <th>seek_help</th>\n",
       "      <td>Does your employer provide resources to learn more about mental health issues and how to seek help?</td>\n",
       "    </tr>\n",
       "    <tr>\n",
       "      <th>anonymity</th>\n",
       "      <td>Is your anonymity protected if you choose to take advantage of mental health or substance abuse treatment resources?</td>\n",
       "    </tr>\n",
       "    <tr>\n",
       "      <th>leave</th>\n",
       "      <td>How easy is it for you to take medical leave for a mental health condition?</td>\n",
       "    </tr>\n",
       "    <tr>\n",
       "      <th>mental_health_consequence</th>\n",
       "      <td>Do you think that discussing a mental health issue with your employer would have negative consequences?</td>\n",
       "    </tr>\n",
       "    <tr>\n",
       "      <th>phys_health_consequence</th>\n",
       "      <td>Do you think that discussing a physical health issue with your employer would have negative consequences?</td>\n",
       "    </tr>\n",
       "    <tr>\n",
       "      <th>coworkers</th>\n",
       "      <td>Would you be willing to discuss a mental health issue with your coworkers?</td>\n",
       "    </tr>\n",
       "    <tr>\n",
       "      <th>supervisor</th>\n",
       "      <td>Would you be willing to discuss a mental health issue with your direct supervisor(s)?</td>\n",
       "    </tr>\n",
       "    <tr>\n",
       "      <th>mental_health_interview</th>\n",
       "      <td>Would you bring up a mental health issue with a potential employer in an interview?</td>\n",
       "    </tr>\n",
       "    <tr>\n",
       "      <th>phys_health_interview</th>\n",
       "      <td>Would you bring up a physical health issue with a potential employer in an interview?</td>\n",
       "    </tr>\n",
       "    <tr>\n",
       "      <th>mental_vs_physical</th>\n",
       "      <td>Do you feel that your employer takes mental health as seriously as physical health?</td>\n",
       "    </tr>\n",
       "    <tr>\n",
       "      <th>obs_consequence</th>\n",
       "      <td>Have you heard of or observed negative consequences for coworkers with mental health conditions in your workplace?</td>\n",
       "    </tr>\n",
       "    <tr>\n",
       "      <th>comments</th>\n",
       "      <td>Any additional notes or comments</td>\n",
       "    </tr>\n",
       "  </tbody>\n",
       "</table>\n",
       "</div>"
      ],
      "text/plain": [
       "                                                                                                                                              0\n",
       "Field_Name                                                                                                                                     \n",
       "Timestamp                  Timestamp                                                                                                           \n",
       "Age                        Age                                                                                                                 \n",
       "Gender                     Gender                                                                                                              \n",
       "Country                    Country                                                                                                             \n",
       "state                      If you live in the United States, which state or territory do you live in?                                          \n",
       "self_employed              Are you self-employed?                                                                                              \n",
       "family_history             Do you have a family history of mental illness?                                                                     \n",
       "treatment                  Have you sought treatment for a mental health condition?                                                            \n",
       "work_interfere             If you have a mental health condition, do you feel that it interferes with your work?                               \n",
       "no_employees               How many employees does your company or organization have?                                                          \n",
       "remote_work                Do you work remotely (outside of an office) at least 50% of the time?                                               \n",
       "tech_company               Is your employer primarily a tech company/organization?                                                             \n",
       "benefits                   Does your employer provide mental health benefits?                                                                  \n",
       "care_options               Do you know the options for mental health care your employer provides?                                              \n",
       "wellness_program           Has your employer ever discussed mental health as part of an employee wellness program?                             \n",
       "seek_help                  Does your employer provide resources to learn more about mental health issues and how to seek help?                 \n",
       "anonymity                  Is your anonymity protected if you choose to take advantage of mental health or substance abuse treatment resources?\n",
       "leave                      How easy is it for you to take medical leave for a mental health condition?                                         \n",
       "mental_health_consequence  Do you think that discussing a mental health issue with your employer would have negative consequences?             \n",
       "phys_health_consequence    Do you think that discussing a physical health issue with your employer would have negative consequences?           \n",
       "coworkers                  Would you be willing to discuss a mental health issue with your coworkers?                                          \n",
       "supervisor                 Would you be willing to discuss a mental health issue with your direct supervisor(s)?                               \n",
       "mental_health_interview    Would you bring up a mental health issue with a potential employer in an interview?                                 \n",
       "phys_health_interview      Would you bring up a physical health issue with a potential employer in an interview?                               \n",
       "mental_vs_physical         Do you feel that your employer takes mental health as seriously as physical health?                                 \n",
       "obs_consequence            Have you heard of or observed negative consequences for coworkers with mental health conditions in your workplace?  \n",
       "comments                   Any additional notes or comments                                                                                    "
      ]
     },
     "execution_count": 9,
     "metadata": {},
     "output_type": "execute_result"
    }
   ],
   "source": [
    "# display full width of columns\n",
    "pd.set_option('display.max_colwidth', -1)\n",
    "\n",
    "#preview data dict\n",
    "data_dict"
   ]
  },
  {
   "cell_type": "code",
   "execution_count": 10,
   "metadata": {},
   "outputs": [],
   "source": [
    "data_dict.to_csv(DIR + '/data_dict.csv')"
   ]
  },
  {
   "cell_type": "markdown",
   "metadata": {},
   "source": [
    "### Null Value Check"
   ]
  },
  {
   "cell_type": "markdown",
   "metadata": {},
   "source": [
    "Check dataframe for NULL values"
   ]
  },
  {
   "cell_type": "code",
   "execution_count": 11,
   "metadata": {},
   "outputs": [
    {
     "data": {
      "text/plain": [
       "Timestamp                    0   \n",
       "Age                          0   \n",
       "Gender                       0   \n",
       "Country                      0   \n",
       "state                        515 \n",
       "self_employed                18  \n",
       "family_history               0   \n",
       "treatment                    0   \n",
       "work_interfere               264 \n",
       "no_employees                 0   \n",
       "remote_work                  0   \n",
       "tech_company                 0   \n",
       "benefits                     0   \n",
       "care_options                 0   \n",
       "wellness_program             0   \n",
       "seek_help                    0   \n",
       "anonymity                    0   \n",
       "leave                        0   \n",
       "mental_health_consequence    0   \n",
       "phys_health_consequence      0   \n",
       "coworkers                    0   \n",
       "supervisor                   0   \n",
       "mental_health_interview      0   \n",
       "phys_health_interview        0   \n",
       "mental_vs_physical           0   \n",
       "obs_consequence              0   \n",
       "comments                     1095\n",
       "dtype: int64"
      ]
     },
     "execution_count": 11,
     "metadata": {},
     "output_type": "execute_result"
    }
   ],
   "source": [
    "df2.isna().sum()"
   ]
  },
  {
   "cell_type": "markdown",
   "metadata": {},
   "source": [
    "Only three columns have NULL values:\n",
    "- `state` \n",
    "    - check to see if they are from US, if not create other column and dummy out states\n",
    "    - if they are from US, create a separate column for from US, state NA\n",
    "- `self_employed`\n",
    "    - will remove because our target is `mental_health_consequences`\n",
    "- `work_interfere`\n",
    "    - unsure"
   ]
  },
  {
   "cell_type": "code",
   "execution_count": 13,
   "metadata": {},
   "outputs": [
    {
     "data": {
      "text/plain": [
       "No     1095\n",
       "Yes    146 \n",
       "Name: self_employed, dtype: int64"
      ]
     },
     "execution_count": 13,
     "metadata": {},
     "output_type": "execute_result"
    }
   ],
   "source": [
    "df2['self_employed'].value_counts()"
   ]
  },
  {
   "cell_type": "code",
   "execution_count": 14,
   "metadata": {},
   "outputs": [],
   "source": [
    "# drop self employed rows equal to Yes\n",
    "df2 = df2[df2['self_employed'] != 'Yes']"
   ]
  },
  {
   "cell_type": "code",
   "execution_count": 32,
   "metadata": {},
   "outputs": [
    {
     "data": {
      "text/plain": [
       "(1113, 32)"
      ]
     },
     "execution_count": 32,
     "metadata": {},
     "output_type": "execute_result"
    }
   ],
   "source": [
    "df2.shape"
   ]
  },
  {
   "cell_type": "code",
   "execution_count": 15,
   "metadata": {},
   "outputs": [
    {
     "data": {
      "text/plain": [
       "Timestamp                    0  \n",
       "Age                          0  \n",
       "Gender                       0  \n",
       "Country                      0  \n",
       "state                        424\n",
       "self_employed                18 \n",
       "family_history               0  \n",
       "treatment                    0  \n",
       "work_interfere               243\n",
       "no_employees                 0  \n",
       "remote_work                  0  \n",
       "tech_company                 0  \n",
       "benefits                     0  \n",
       "care_options                 0  \n",
       "wellness_program             0  \n",
       "seek_help                    0  \n",
       "anonymity                    0  \n",
       "leave                        0  \n",
       "mental_health_consequence    0  \n",
       "phys_health_consequence      0  \n",
       "coworkers                    0  \n",
       "supervisor                   0  \n",
       "mental_health_interview      0  \n",
       "phys_health_interview        0  \n",
       "mental_vs_physical           0  \n",
       "obs_consequence              0  \n",
       "comments                     973\n",
       "dtype: int64"
      ]
     },
     "execution_count": 15,
     "metadata": {},
     "output_type": "execute_result"
    }
   ],
   "source": [
    "df2.isna().sum()"
   ]
  },
  {
   "cell_type": "code",
   "execution_count": 16,
   "metadata": {},
   "outputs": [
    {
     "data": {
      "text/plain": [
       "Sometimes    407\n",
       "Never        189\n",
       "Rarely       158\n",
       "Often        116\n",
       "Name: work_interfere, dtype: int64"
      ]
     },
     "execution_count": 16,
     "metadata": {},
     "output_type": "execute_result"
    }
   ],
   "source": [
    "df2['work_interfere'].value_counts()"
   ]
  },
  {
   "cell_type": "markdown",
   "metadata": {},
   "source": [
    "### Target variable\n",
    "\n",
    "Explore the target variable `mental_health_consequences`\n",
    "\n",
    "Respondents answered _Yes_, _No_ or _Maybe_ if they felt discussing a mental helath issue with their employer could have negative consequens."
   ]
  },
  {
   "cell_type": "code",
   "execution_count": 17,
   "metadata": {},
   "outputs": [
    {
     "name": "stdout",
     "output_type": "stream",
     "text": [
      "2014-08-27 12:54:11    2\n",
      "2014-08-27 15:55:07    2\n",
      "2014-08-27 14:22:43    2\n",
      "2014-08-27 12:44:51    2\n",
      "2014-08-27 12:37:50    2\n",
      "                      ..\n",
      "2014-08-27 11:37:08    1\n",
      "2014-08-27 16:13:31    1\n",
      "2014-08-28 12:42:30    1\n",
      "2014-08-29 17:04:12    1\n",
      "2014-08-27 12:53:05    1\n",
      "Name: Timestamp, Length: 1103, dtype: int64\n",
      " 29      80\n",
      " 32      72\n",
      " 27      67\n",
      " 28      66\n",
      " 26      64\n",
      " 34      58\n",
      " 25      58\n",
      " 31      57\n",
      " 33      57\n",
      " 30      51\n",
      " 35      49\n",
      " 23      49\n",
      " 24      41\n",
      " 37      38\n",
      " 38      36\n",
      " 39      30\n",
      " 36      28\n",
      " 40      28\n",
      " 43      23\n",
      " 41      19\n",
      " 42      18\n",
      " 22      17\n",
      " 21      15\n",
      " 46      11\n",
      " 45      11\n",
      " 44      9 \n",
      " 19      8 \n",
      " 18      7 \n",
      " 48      6 \n",
      " 20      6 \n",
      " 50      4 \n",
      " 51      4 \n",
      " 49      3 \n",
      " 55      3 \n",
      " 56      3 \n",
      " 57      3 \n",
      " 54      2 \n",
      " 47      2 \n",
      " 60      2 \n",
      "-1726    1 \n",
      "-29      1 \n",
      " 53      1 \n",
      " 58      1 \n",
      " 62      1 \n",
      " 72      1 \n",
      " 329     1 \n",
      " 5       1 \n",
      "Name: Age, dtype: int64\n",
      "Male                                              548\n",
      "male                                              170\n",
      "Female                                            114\n",
      "M                                                 107\n",
      "female                                            55 \n",
      "F                                                 35 \n",
      "m                                                 29 \n",
      "f                                                 13 \n",
      "Make                                              4  \n",
      "Male                                              3  \n",
      "Cis Male                                          2  \n",
      "Man                                               2  \n",
      "Female (trans)                                    2  \n",
      "Female                                            2  \n",
      "Woman                                             2  \n",
      "Male (CIS)                                        1  \n",
      "Guy (-ish) ^_^                                    1  \n",
      "non-binary                                        1  \n",
      "fluid                                             1  \n",
      "Trans-female                                      1  \n",
      "Mail                                              1  \n",
      "male leaning androgynous                          1  \n",
      "Androgyne                                         1  \n",
      "Trans woman                                       1  \n",
      "Neuter                                            1  \n",
      "Genderqueer                                       1  \n",
      "msle                                              1  \n",
      "queer/she/they                                    1  \n",
      "Femake                                            1  \n",
      "cis male                                          1  \n",
      "Male-ish                                          1  \n",
      "woman                                             1  \n",
      "maile                                             1  \n",
      "femail                                            1  \n",
      "Malr                                              1  \n",
      "something kinda male?                             1  \n",
      "Enby                                              1  \n",
      "Female (cis)                                      1  \n",
      "Agender                                           1  \n",
      "ostensibly male, unsure what that really means    1  \n",
      "Name: Gender, dtype: int64\n",
      "United States             695\n",
      "United Kingdom            157\n",
      "Canada                    61 \n",
      "Germany                   33 \n",
      "Ireland                   21 \n",
      "Netherlands               20 \n",
      "Australia                 19 \n",
      "France                    11 \n",
      "New Zealand               8  \n",
      "India                     7  \n",
      "Sweden                    7  \n",
      "Belgium                   6  \n",
      "Italy                     6  \n",
      "Switzerland               6  \n",
      "Poland                    5  \n",
      "Israel                    5  \n",
      "Bulgaria                  4  \n",
      "Brazil                    4  \n",
      "Singapore                 4  \n",
      "South Africa              4  \n",
      "Finland                   3  \n",
      "Russia                    3  \n",
      "Colombia                  2  \n",
      "Austria                   2  \n",
      "Portugal                  2  \n",
      "Mexico                    2  \n",
      "Greece                    2  \n",
      "Latvia                    1  \n",
      "Romania                   1  \n",
      "Spain                     1  \n",
      "Norway                    1  \n",
      "Czech Republic            1  \n",
      "Nigeria                   1  \n",
      "Bosnia and Herzegovina    1  \n",
      "Moldova                   1  \n",
      "Georgia                   1  \n",
      "Uruguay                   1  \n",
      "Slovenia                  1  \n",
      "Philippines               1  \n",
      "Costa Rica                1  \n",
      "Croatia                   1  \n",
      "Name: Country, dtype: int64\n",
      "CA    128\n",
      "WA    66 \n",
      "NY    53 \n",
      "TX    42 \n",
      "TN    42 \n",
      "OH    28 \n",
      "OR    28 \n",
      "IL    26 \n",
      "IN    26 \n",
      "PA    26 \n",
      "MN    21 \n",
      "MI    20 \n",
      "MA    19 \n",
      "NC    13 \n",
      "FL    12 \n",
      "MO    12 \n",
      "GA    11 \n",
      "UT    11 \n",
      "WI    10 \n",
      "VA    9  \n",
      "CO    8  \n",
      "MD    7  \n",
      "AZ    6  \n",
      "NJ    6  \n",
      "AL    6  \n",
      "SC    5  \n",
      "OK    5  \n",
      "KY    5  \n",
      "IA    4  \n",
      "DC    4  \n",
      "CT    4  \n",
      "NV    3  \n",
      "VT    3  \n",
      "SD    3  \n",
      "NH    3  \n",
      "KS    3  \n",
      "NE    2  \n",
      "WY    2  \n",
      "NM    2  \n",
      "LA    1  \n",
      "WV    1  \n",
      "ID    1  \n",
      "RI    1  \n",
      "ME    1  \n",
      "Name: state, dtype: int64\n",
      "No    1095\n",
      "Name: self_employed, dtype: int64\n",
      "No     680\n",
      "Yes    433\n",
      "Name: family_history, dtype: int64\n",
      "Yes    559\n",
      "No     554\n",
      "Name: treatment, dtype: int64\n",
      "Sometimes    407\n",
      "Never        189\n",
      "Rarely       158\n",
      "Often        116\n",
      "Name: work_interfere, dtype: int64\n",
      "26-100            281\n",
      "More than 1000    278\n",
      "6-25              259\n",
      "100-500           171\n",
      "1-5               64 \n",
      "500-1000          60 \n",
      "Name: no_employees, dtype: int64\n",
      "No     839\n",
      "Yes    274\n",
      "Name: remote_work, dtype: int64\n",
      "Yes    899\n",
      "No     214\n",
      "Name: tech_company, dtype: int64\n",
      "Yes           456\n",
      "Don't know    378\n",
      "No            279\n",
      "Name: benefits, dtype: int64\n",
      "No          448\n",
      "Yes         381\n",
      "Not sure    284\n",
      "Name: care_options, dtype: int64\n",
      "No            741\n",
      "Yes           203\n",
      "Don't know    169\n",
      "Name: wellness_program, dtype: int64\n",
      "No            547\n",
      "Don't know    339\n",
      "Yes           227\n",
      "Name: seek_help, dtype: int64\n",
      "Don't know    747\n",
      "Yes           315\n",
      "No            51 \n",
      "Name: anonymity, dtype: int64\n",
      "Don't know            536\n",
      "Somewhat easy         231\n",
      "Very easy             169\n",
      "Somewhat difficult    104\n",
      "Very difficult        73 \n",
      "Name: leave, dtype: int64\n",
      "Maybe    434\n",
      "No       418\n",
      "Yes      261\n",
      "Name: mental_health_consequence, dtype: int64\n",
      "No       822\n",
      "Maybe    242\n",
      "Yes      49 \n",
      "Name: phys_health_consequence, dtype: int64\n",
      "Some of them    687\n",
      "No              238\n",
      "Yes             188\n",
      "Name: coworkers, dtype: int64\n",
      "Yes             449\n",
      "No              353\n",
      "Some of them    311\n",
      "Name: supervisor, dtype: int64\n",
      "No       904\n",
      "Maybe    176\n",
      "Yes      33 \n",
      "Name: mental_health_interview, dtype: int64\n",
      "Maybe    485\n",
      "No       451\n",
      "Yes      177\n",
      "Name: phys_health_interview, dtype: int64\n",
      "Don't know    528\n",
      "No            310\n",
      "Yes           275\n",
      "Name: mental_vs_physical, dtype: int64\n",
      "No     962\n",
      "Yes    151\n",
      "Name: obs_consequence, dtype: int64\n",
      "* Small family business - YMMV.                                                                                                                                                                                                                                                                                                                                                                                                                                                                                                                                                                                                                                                                5\n",
      "I have an exceptional employer. I haven't run into problems with any employer I've had but consider myself lucky.                                                                                                                                                                                                                                                                                                                                                                                                                                                                                                                                                                              1\n",
      "Although my employer does everything they can to accommodate employees with mental health problems when those individuals cannot carry out any work assigned to them (even over the course of months) they appear to have no alternative but to terminate their employment. However I believe this would be the same for a physical health problem.                                                                                                                                                                                                                                                                                                                                            1\n",
      "In Russia we have mandatory medical insurance. Every employer must pay 3.6% of every employee's salary to the insurance fund like a tax. Everyone gets free healthcare at public clinics and hospitals. Some types of healthcare including mental health are still funded from the government budget but that doesn't matter it's still FREE!However this is Russia :D I don't know much about what actually happens in mental hospitals here except that a lot of young people with male in their passports use these to avoid military draft and doctors seem to help them.                                                                                                                  1\n",
      "In Belgium we have all medical care so perhaps some question are not relevant                                                                                                                                                                                                                                                                                                                                                                                                                                                                                                                                                                                                                  1\n",
      "                                                                                                                                                                                                                                                                                                                                                                                                                                                                                                                                                                                                                                                                                              ..\n",
      "My employer employs 17k people worldwide and my previous employer only 140 globally both have been very supportive and accommodating with my moderate depression and intense anxiety.                                                                                                                                                                                                                                                                                                                                                                                                                                                                                                          1\n",
      "A strong mind goes a long way. Stay strong. Take some time off to help. Its all in your head.                                                                                                                                                                                                                                                                                                                                                                                                                                                                                                                                                                                                  1\n",
      "If a man in tech is afraid of speaking up about these things it is even worse for women in tech who are already fearful of and fighting against the stigma of incompetence.  On the other hand if a female in tech does not commiserate with her male coworkers on mental health problems she will no longer be seen as a team player. It is really a catch-22 for women in STEM.                                                                                                                                                                                                                                                                                                              1\n",
      "I have been incredibly public about my own struggle in my own conversations and in social media insofar as how I can use my depression to raise awareness or help others. Because of that my employer - or any future employer - kind of knows by default. It's not a secret. That said the downside of that openness is that I have no faith that I wouldn't be discriminated against at a future job simply because the information is public. Likewise I worry I'm seen as less-than by my employer in some circumstances. Regerdless I don't regret being public and raising awareness. My point is that even those of us who do publicly discuss the issue fear systemic retribution.     1\n",
      "Some of these questions are not really suitable for non US people.                                                                                                                                                                                                                                                                                                                                                                                                                                                                                                                                                                                                                             1\n",
      "Name: comments, Length: 136, dtype: int64\n"
     ]
    }
   ],
   "source": [
    "for col in df2.columns:\n",
    "    print(df2[col].value_counts())"
   ]
  },
  {
   "cell_type": "code",
   "execution_count": 18,
   "metadata": {},
   "outputs": [
    {
     "data": {
      "text/plain": [
       "Maybe    434\n",
       "No       418\n",
       "Yes      261\n",
       "Name: mental_health_consequence, dtype: int64"
      ]
     },
     "execution_count": 18,
     "metadata": {},
     "output_type": "execute_result"
    }
   ],
   "source": [
    "# target variable value counts\n",
    "df2['mental_health_consequence'].value_counts()"
   ]
  },
  {
   "cell_type": "code",
   "execution_count": 101,
   "metadata": {},
   "outputs": [
    {
     "name": "stdout",
     "output_type": "stream",
     "text": [
      "Saving figure mental_health_consequences\n"
     ]
    },
    {
     "data": {
      "image/png": "[encoded data removed]",
      "text/plain": [
       "<Figure size 720x432 with 1 Axes>"
      ]
     },
     "metadata": {
      "needs_background": "light"
     },
     "output_type": "display_data"
    }
   ],
   "source": [
    "plt.figure(figsize=(10,6))\n",
    "sns.countplot(df2['mental_health_consequence'], alpha = .80)\n",
    "plt.title('Discuss Mental Health Neg Consequences', fontdict={'fontsize':20})\n",
    "plt.ylabel('# Respondents', fontdict={'fontsize':14})\n",
    "plt.xlabel('')\n",
    "save_fig('mental_health_consequences')"
   ]
  },
  {
   "cell_type": "markdown",
   "metadata": {},
   "source": [
    "### Observations\n",
    "- At first glance it seems that most people answered no, which means they don't believe that discussing mental health issues with their employer could lead to negative consequences.\n",
    "- However, there is a significant amoutn of Maybe's which indicates respondents where unsure if it would or not\n",
    "- for the case of this study, we will group the Yes and Maybe columns together to create a binary classification"
   ]
  },
  {
   "cell_type": "markdown",
   "metadata": {},
   "source": [
    "### Mental health vs. Phys health"
   ]
  },
  {
   "cell_type": "code",
   "execution_count": 102,
   "metadata": {},
   "outputs": [
    {
     "data": {
      "text/html": [
       "<div>\n",
       "<style scoped>\n",
       "    .dataframe tbody tr th:only-of-type {\n",
       "        vertical-align: middle;\n",
       "    }\n",
       "\n",
       "    .dataframe tbody tr th {\n",
       "        vertical-align: top;\n",
       "    }\n",
       "\n",
       "    .dataframe thead th {\n",
       "        text-align: right;\n",
       "    }\n",
       "</style>\n",
       "<table border=\"1\" class=\"dataframe\">\n",
       "  <thead>\n",
       "    <tr style=\"text-align: right;\">\n",
       "      <th></th>\n",
       "      <th>mental_health_consequence</th>\n",
       "    </tr>\n",
       "  </thead>\n",
       "  <tbody>\n",
       "    <tr>\n",
       "      <th>Yes</th>\n",
       "      <td>261</td>\n",
       "    </tr>\n",
       "    <tr>\n",
       "      <th>No</th>\n",
       "      <td>418</td>\n",
       "    </tr>\n",
       "    <tr>\n",
       "      <th>Maybe</th>\n",
       "      <td>434</td>\n",
       "    </tr>\n",
       "  </tbody>\n",
       "</table>\n",
       "</div>"
      ],
      "text/plain": [
       "       mental_health_consequence\n",
       "Yes    261                      \n",
       "No     418                      \n",
       "Maybe  434                      "
      ]
     },
     "execution_count": 102,
     "metadata": {},
     "output_type": "execute_result"
    }
   ],
   "source": [
    "# plot target vs benefits\n",
    "mental_health_cons_val = df2['mental_health_consequence'].value_counts().to_frame() # create mental health df\n",
    "mental_health_cons_val.sort_index(ascending=False, axis=0) # sort alhpabetically by index"
   ]
  },
  {
   "cell_type": "code",
   "execution_count": 103,
   "metadata": {},
   "outputs": [
    {
     "data": {
      "text/html": [
       "<div>\n",
       "<style scoped>\n",
       "    .dataframe tbody tr th:only-of-type {\n",
       "        vertical-align: middle;\n",
       "    }\n",
       "\n",
       "    .dataframe tbody tr th {\n",
       "        vertical-align: top;\n",
       "    }\n",
       "\n",
       "    .dataframe thead th {\n",
       "        text-align: right;\n",
       "    }\n",
       "</style>\n",
       "<table border=\"1\" class=\"dataframe\">\n",
       "  <thead>\n",
       "    <tr style=\"text-align: right;\">\n",
       "      <th></th>\n",
       "      <th>phys_health_consequence</th>\n",
       "    </tr>\n",
       "  </thead>\n",
       "  <tbody>\n",
       "    <tr>\n",
       "      <th>Yes</th>\n",
       "      <td>49</td>\n",
       "    </tr>\n",
       "    <tr>\n",
       "      <th>No</th>\n",
       "      <td>822</td>\n",
       "    </tr>\n",
       "    <tr>\n",
       "      <th>Maybe</th>\n",
       "      <td>242</td>\n",
       "    </tr>\n",
       "  </tbody>\n",
       "</table>\n",
       "</div>"
      ],
      "text/plain": [
       "       phys_health_consequence\n",
       "Yes    49                     \n",
       "No     822                    \n",
       "Maybe  242                    "
      ]
     },
     "execution_count": 103,
     "metadata": {},
     "output_type": "execute_result"
    }
   ],
   "source": [
    "phys_health_cons_val = df2['phys_health_consequence'].value_counts().to_frame() # create benefits df\n",
    "phys_health_cons_val.sort_index(ascending=False, axis=0) # sort alphabetically by index"
   ]
  },
  {
   "cell_type": "code",
   "execution_count": 104,
   "metadata": {},
   "outputs": [
    {
     "data": {
      "text/html": [
       "<div>\n",
       "<style scoped>\n",
       "    .dataframe tbody tr th:only-of-type {\n",
       "        vertical-align: middle;\n",
       "    }\n",
       "\n",
       "    .dataframe tbody tr th {\n",
       "        vertical-align: top;\n",
       "    }\n",
       "\n",
       "    .dataframe thead th {\n",
       "        text-align: right;\n",
       "    }\n",
       "</style>\n",
       "<table border=\"1\" class=\"dataframe\">\n",
       "  <thead>\n",
       "    <tr style=\"text-align: right;\">\n",
       "      <th></th>\n",
       "      <th>Answers</th>\n",
       "      <th>Mental</th>\n",
       "      <th>Physcial</th>\n",
       "    </tr>\n",
       "  </thead>\n",
       "  <tbody>\n",
       "    <tr>\n",
       "      <th>Maybe</th>\n",
       "      <td>Yes</td>\n",
       "      <td>434</td>\n",
       "      <td>242</td>\n",
       "    </tr>\n",
       "    <tr>\n",
       "      <th>No</th>\n",
       "      <td>No</td>\n",
       "      <td>418</td>\n",
       "      <td>822</td>\n",
       "    </tr>\n",
       "    <tr>\n",
       "      <th>Yes</th>\n",
       "      <td>Maybe</td>\n",
       "      <td>261</td>\n",
       "      <td>49</td>\n",
       "    </tr>\n",
       "  </tbody>\n",
       "</table>\n",
       "</div>"
      ],
      "text/plain": [
       "      Answers  Mental  Physcial\n",
       "Maybe  Yes     434     242     \n",
       "No     No      418     822     \n",
       "Yes    Maybe   261     49      "
      ]
     },
     "execution_count": 104,
     "metadata": {},
     "output_type": "execute_result"
    }
   ],
   "source": [
    "plot_frame = pd.DataFrame(\n",
    "    data={'Answers': [\"Yes\", \"No\", \"Maybe\"], \n",
    "          'Mental': mental_health_cons_val['mental_health_consequence'],\n",
    "          'Physcial': phys_health_cons_val['phys_health_consequence']}) # create df with dict combining both df\n",
    "plot_frame"
   ]
  },
  {
   "cell_type": "code",
   "execution_count": 105,
   "metadata": {},
   "outputs": [
    {
     "data": {
      "text/html": [
       "<div>\n",
       "<style scoped>\n",
       "    .dataframe tbody tr th:only-of-type {\n",
       "        vertical-align: middle;\n",
       "    }\n",
       "\n",
       "    .dataframe tbody tr th {\n",
       "        vertical-align: top;\n",
       "    }\n",
       "\n",
       "    .dataframe thead th {\n",
       "        text-align: right;\n",
       "    }\n",
       "</style>\n",
       "<table border=\"1\" class=\"dataframe\">\n",
       "  <thead>\n",
       "    <tr style=\"text-align: right;\">\n",
       "      <th></th>\n",
       "      <th>Answers</th>\n",
       "      <th>Mental</th>\n",
       "      <th>Physical</th>\n",
       "    </tr>\n",
       "  </thead>\n",
       "  <tbody>\n",
       "    <tr>\n",
       "      <th>0</th>\n",
       "      <td>Yes</td>\n",
       "      <td>Mental</td>\n",
       "      <td>434</td>\n",
       "    </tr>\n",
       "    <tr>\n",
       "      <th>1</th>\n",
       "      <td>No</td>\n",
       "      <td>Mental</td>\n",
       "      <td>418</td>\n",
       "    </tr>\n",
       "    <tr>\n",
       "      <th>2</th>\n",
       "      <td>Maybe</td>\n",
       "      <td>Mental</td>\n",
       "      <td>261</td>\n",
       "    </tr>\n",
       "    <tr>\n",
       "      <th>3</th>\n",
       "      <td>Yes</td>\n",
       "      <td>Physcial</td>\n",
       "      <td>242</td>\n",
       "    </tr>\n",
       "    <tr>\n",
       "      <th>4</th>\n",
       "      <td>No</td>\n",
       "      <td>Physcial</td>\n",
       "      <td>822</td>\n",
       "    </tr>\n",
       "    <tr>\n",
       "      <th>5</th>\n",
       "      <td>Maybe</td>\n",
       "      <td>Physcial</td>\n",
       "      <td>49</td>\n",
       "    </tr>\n",
       "  </tbody>\n",
       "</table>\n",
       "</div>"
      ],
      "text/plain": [
       "  Answers    Mental  Physical\n",
       "0  Yes     Mental    434     \n",
       "1  No      Mental    418     \n",
       "2  Maybe   Mental    261     \n",
       "3  Yes     Physcial  242     \n",
       "4  No      Physcial  822     \n",
       "5  Maybe   Physcial  49      "
      ]
     },
     "execution_count": 105,
     "metadata": {},
     "output_type": "execute_result"
    }
   ],
   "source": [
    "plot_frame = pd.melt(plot_frame, id_vars='Answers', var_name='Mental', value_name='Physical') # melt df\n",
    "plot_frame"
   ]
  },
  {
   "cell_type": "code",
   "execution_count": 111,
   "metadata": {
    "scrolled": true
   },
   "outputs": [
    {
     "name": "stdout",
     "output_type": "stream",
     "text": [
      "Saving figure mental_phys_neg_conseq\n"
     ]
    },
    {
     "data": {
      "image/png": "[encoded data removed]",
      "text/plain": [
       "<Figure size 360x360 with 1 Axes>"
      ]
     },
     "metadata": {
      "needs_background": "light"
     },
     "output_type": "display_data"
    }
   ],
   "source": [
    "# plot the melted df\n",
    "sns.catplot(x='Mental', y='Physical', hue='Answers', data=plot_frame, kind='bar', legend_out=False)\\\n",
    ".set(ylabel='Count', xlabel='', title='Mental vs Phys Neg Conseq')\n",
    "save_fig('mental_phys_neg_conseq')"
   ]
  },
  {
   "cell_type": "code",
   "execution_count": 82,
   "metadata": {},
   "outputs": [
    {
     "data": {
      "text/html": [
       "<div>\n",
       "<style scoped>\n",
       "    .dataframe tbody tr th:only-of-type {\n",
       "        vertical-align: middle;\n",
       "    }\n",
       "\n",
       "    .dataframe tbody tr th {\n",
       "        vertical-align: top;\n",
       "    }\n",
       "\n",
       "    .dataframe thead th {\n",
       "        text-align: right;\n",
       "    }\n",
       "</style>\n",
       "<table border=\"1\" class=\"dataframe\">\n",
       "  <thead>\n",
       "    <tr style=\"text-align: right;\">\n",
       "      <th></th>\n",
       "      <th>mental_health_consequence</th>\n",
       "    </tr>\n",
       "  </thead>\n",
       "  <tbody>\n",
       "    <tr>\n",
       "      <th>No</th>\n",
       "      <td>418</td>\n",
       "    </tr>\n",
       "    <tr>\n",
       "      <th>Yes_Maybe</th>\n",
       "      <td>695</td>\n",
       "    </tr>\n",
       "  </tbody>\n",
       "</table>\n",
       "</div>"
      ],
      "text/plain": [
       "           mental_health_consequence\n",
       "No         418                      \n",
       "Yes_Maybe  695                      "
      ]
     },
     "execution_count": 82,
     "metadata": {},
     "output_type": "execute_result"
    }
   ],
   "source": [
    "# create binary target variable graph\n",
    "binary_target = df2['mental_health_consequence'].value_counts().to_frame()\n",
    "\n",
    "# add Yes_Maybe row\n",
    "binary_target.loc['Yes_Maybe'] = binary_target.loc['Maybe'] + binary_target.loc['Yes']\n",
    "\n",
    "# drop individual Yes and Maybe rows\n",
    "binary_target.drop(['Yes', 'Maybe'], inplace=True)\n",
    "binary_target"
   ]
  },
  {
   "cell_type": "code",
   "execution_count": 88,
   "metadata": {},
   "outputs": [
    {
     "data": {
      "text/html": [
       "<div>\n",
       "<style scoped>\n",
       "    .dataframe tbody tr th:only-of-type {\n",
       "        vertical-align: middle;\n",
       "    }\n",
       "\n",
       "    .dataframe tbody tr th {\n",
       "        vertical-align: top;\n",
       "    }\n",
       "\n",
       "    .dataframe thead th {\n",
       "        text-align: right;\n",
       "    }\n",
       "</style>\n",
       "<table border=\"1\" class=\"dataframe\">\n",
       "  <thead>\n",
       "    <tr style=\"text-align: right;\">\n",
       "      <th></th>\n",
       "      <th>index</th>\n",
       "      <th>variable</th>\n",
       "      <th>value</th>\n",
       "    </tr>\n",
       "  </thead>\n",
       "  <tbody>\n",
       "    <tr>\n",
       "      <th>0</th>\n",
       "      <td>No</td>\n",
       "      <td>mental_health_consequence</td>\n",
       "      <td>418</td>\n",
       "    </tr>\n",
       "    <tr>\n",
       "      <th>1</th>\n",
       "      <td>Yes_Maybe</td>\n",
       "      <td>mental_health_consequence</td>\n",
       "      <td>695</td>\n",
       "    </tr>\n",
       "  </tbody>\n",
       "</table>\n",
       "</div>"
      ],
      "text/plain": [
       "       index                   variable  value\n",
       "0  No         mental_health_consequence  418  \n",
       "1  Yes_Maybe  mental_health_consequence  695  "
      ]
     },
     "execution_count": 88,
     "metadata": {},
     "output_type": "execute_result"
    }
   ],
   "source": [
    "melt_bin_tar = pd.melt(binary_target.reset_index(), id_vars='index')\n",
    "melt_bin_tar"
   ]
  },
  {
   "cell_type": "code",
   "execution_count": 109,
   "metadata": {},
   "outputs": [
    {
     "data": {
      "text/plain": [
       "0    False\n",
       "1    True \n",
       "Name: index, dtype: bool"
      ]
     },
     "execution_count": 109,
     "metadata": {},
     "output_type": "execute_result"
    }
   ],
   "source": [
    "melt_bin_tar['index'] == 'Yes_Maybe'"
   ]
  },
  {
   "cell_type": "code",
   "execution_count": 102,
   "metadata": {},
   "outputs": [
    {
     "name": "stdout",
     "output_type": "stream",
     "text": [
      "Saving figure binary_target\n"
     ]
    },
    {
     "data": {
      "image/png": "[encoded data removed]",
      "text/plain": [
       "<Figure size 720x432 with 1 Axes>"
      ]
     },
     "metadata": {
      "needs_background": "light"
     },
     "output_type": "display_data"
    }
   ],
   "source": [
    "# plot binary target\n",
    "plt.figure(figsize=(10,6))\n",
    "sns.barplot(x=melt_bin_tar['index'], y=melt_bin_tar['value'], alpha = .80)\n",
    "plt.title('Discuss Mental Health Neg Consequences', fontdict={'fontsize':20})\n",
    "plt.ylabel('# of Respondents', fontdict={'fontsize':14})\n",
    "plt.xlabel('')\n",
    "save_fig('binary_target')"
   ]
  },
  {
   "cell_type": "code",
   "execution_count": 119,
   "metadata": {},
   "outputs": [],
   "source": [
    "# Impute Yes and Maybe to Yes_Maybe\n",
    "df2['mental_health_consequence'] = \\\n",
    "    np.where(df2['mental_health_consequence'] == 'Yes', 'Yes_Maybe',\n",
    "        np.where(df2['mental_health_consequence'] == 'Maybe', 'Yes_Maybe', df2['mental_health_consequence']))"
   ]
  },
  {
   "cell_type": "code",
   "execution_count": 120,
   "metadata": {},
   "outputs": [
    {
     "data": {
      "text/plain": [
       "Yes_Maybe    695\n",
       "No           418\n",
       "Name: mental_health_consequence, dtype: int64"
      ]
     },
     "execution_count": 120,
     "metadata": {},
     "output_type": "execute_result"
    }
   ],
   "source": [
    "df2['mental_health_consequence'].value_counts()"
   ]
  },
  {
   "cell_type": "code",
   "execution_count": 121,
   "metadata": {},
   "outputs": [
    {
     "data": {
      "text/html": [
       "<div>\n",
       "<style scoped>\n",
       "    .dataframe tbody tr th:only-of-type {\n",
       "        vertical-align: middle;\n",
       "    }\n",
       "\n",
       "    .dataframe tbody tr th {\n",
       "        vertical-align: top;\n",
       "    }\n",
       "\n",
       "    .dataframe thead th {\n",
       "        text-align: right;\n",
       "    }\n",
       "</style>\n",
       "<table border=\"1\" class=\"dataframe\">\n",
       "  <thead>\n",
       "    <tr style=\"text-align: right;\">\n",
       "      <th></th>\n",
       "      <th>work_interfere</th>\n",
       "    </tr>\n",
       "  </thead>\n",
       "  <tbody>\n",
       "    <tr>\n",
       "      <th>Sometimes</th>\n",
       "      <td>287</td>\n",
       "    </tr>\n",
       "    <tr>\n",
       "      <th>Never</th>\n",
       "      <td>105</td>\n",
       "    </tr>\n",
       "    <tr>\n",
       "      <th>Rarely</th>\n",
       "      <td>94</td>\n",
       "    </tr>\n",
       "    <tr>\n",
       "      <th>Often</th>\n",
       "      <td>87</td>\n",
       "    </tr>\n",
       "  </tbody>\n",
       "</table>\n",
       "</div>"
      ],
      "text/plain": [
       "           work_interfere\n",
       "Sometimes  287           \n",
       "Never      105           \n",
       "Rarely     94            \n",
       "Often      87            "
      ]
     },
     "execution_count": 121,
     "metadata": {},
     "output_type": "execute_result"
    }
   ],
   "source": [
    "# work interferes vs binary target\n",
    "work_interfere_yes = df2['work_interfere'].loc[df2['mental_health_consequence'] == 'Yes_Maybe'].value_counts().to_frame()\n",
    "work_interfere_yes"
   ]
  },
  {
   "cell_type": "code",
   "execution_count": 122,
   "metadata": {},
   "outputs": [
    {
     "data": {
      "text/html": [
       "<div>\n",
       "<style scoped>\n",
       "    .dataframe tbody tr th:only-of-type {\n",
       "        vertical-align: middle;\n",
       "    }\n",
       "\n",
       "    .dataframe tbody tr th {\n",
       "        vertical-align: top;\n",
       "    }\n",
       "\n",
       "    .dataframe thead th {\n",
       "        text-align: right;\n",
       "    }\n",
       "</style>\n",
       "<table border=\"1\" class=\"dataframe\">\n",
       "  <thead>\n",
       "    <tr style=\"text-align: right;\">\n",
       "      <th></th>\n",
       "      <th>work_interfere</th>\n",
       "    </tr>\n",
       "  </thead>\n",
       "  <tbody>\n",
       "    <tr>\n",
       "      <th>Sometimes</th>\n",
       "      <td>120</td>\n",
       "    </tr>\n",
       "    <tr>\n",
       "      <th>Never</th>\n",
       "      <td>84</td>\n",
       "    </tr>\n",
       "    <tr>\n",
       "      <th>Rarely</th>\n",
       "      <td>64</td>\n",
       "    </tr>\n",
       "    <tr>\n",
       "      <th>Often</th>\n",
       "      <td>29</td>\n",
       "    </tr>\n",
       "  </tbody>\n",
       "</table>\n",
       "</div>"
      ],
      "text/plain": [
       "           work_interfere\n",
       "Sometimes  120           \n",
       "Never      84            \n",
       "Rarely     64            \n",
       "Often      29            "
      ]
     },
     "execution_count": 122,
     "metadata": {},
     "output_type": "execute_result"
    }
   ],
   "source": [
    "work_intefere_no = df2['work_interfere'].loc[df2['mental_health_consequence'] == 'No'].value_counts().to_frame()\n",
    "work_intefere_no"
   ]
  },
  {
   "cell_type": "code",
   "execution_count": 124,
   "metadata": {},
   "outputs": [
    {
     "data": {
      "text/html": [
       "<div>\n",
       "<style scoped>\n",
       "    .dataframe tbody tr th:only-of-type {\n",
       "        vertical-align: middle;\n",
       "    }\n",
       "\n",
       "    .dataframe tbody tr th {\n",
       "        vertical-align: top;\n",
       "    }\n",
       "\n",
       "    .dataframe thead th {\n",
       "        text-align: right;\n",
       "    }\n",
       "</style>\n",
       "<table border=\"1\" class=\"dataframe\">\n",
       "  <thead>\n",
       "    <tr style=\"text-align: right;\">\n",
       "      <th></th>\n",
       "      <th>Answers</th>\n",
       "      <th>mental_health_yes</th>\n",
       "      <th>mental_health_no</th>\n",
       "    </tr>\n",
       "  </thead>\n",
       "  <tbody>\n",
       "    <tr>\n",
       "      <th>0</th>\n",
       "      <td>Sometimes</td>\n",
       "      <td>287</td>\n",
       "      <td>120</td>\n",
       "    </tr>\n",
       "    <tr>\n",
       "      <th>1</th>\n",
       "      <td>Never</td>\n",
       "      <td>105</td>\n",
       "      <td>84</td>\n",
       "    </tr>\n",
       "    <tr>\n",
       "      <th>2</th>\n",
       "      <td>Rarely</td>\n",
       "      <td>94</td>\n",
       "      <td>64</td>\n",
       "    </tr>\n",
       "    <tr>\n",
       "      <th>3</th>\n",
       "      <td>Often</td>\n",
       "      <td>87</td>\n",
       "      <td>29</td>\n",
       "    </tr>\n",
       "  </tbody>\n",
       "</table>\n",
       "</div>"
      ],
      "text/plain": [
       "     Answers  mental_health_yes  mental_health_no\n",
       "0  Sometimes  287                120             \n",
       "1  Never      105                84              \n",
       "2  Rarely     94                 64              \n",
       "3  Often      87                 29              "
      ]
     },
     "execution_count": 124,
     "metadata": {},
     "output_type": "execute_result"
    }
   ],
   "source": [
    "plot_frame = pd.DataFrame({'mental_health_yes': work_interfere_yes['work_interfere'],\n",
    "                          'mental_health_no': work_intefere_no['work_interfere']})\n",
    "plot_frame.index.name = 'Answers'\n",
    "plot_frame.reset_index(inplace=True)\n",
    "plot_frame"
   ]
  },
  {
   "cell_type": "code",
   "execution_count": 125,
   "metadata": {},
   "outputs": [
    {
     "data": {
      "text/html": [
       "<div>\n",
       "<style scoped>\n",
       "    .dataframe tbody tr th:only-of-type {\n",
       "        vertical-align: middle;\n",
       "    }\n",
       "\n",
       "    .dataframe tbody tr th {\n",
       "        vertical-align: top;\n",
       "    }\n",
       "\n",
       "    .dataframe thead th {\n",
       "        text-align: right;\n",
       "    }\n",
       "</style>\n",
       "<table border=\"1\" class=\"dataframe\">\n",
       "  <thead>\n",
       "    <tr style=\"text-align: right;\">\n",
       "      <th></th>\n",
       "      <th>Answers</th>\n",
       "      <th>mental_health_yes</th>\n",
       "      <th>mental_health_no</th>\n",
       "    </tr>\n",
       "  </thead>\n",
       "  <tbody>\n",
       "    <tr>\n",
       "      <th>0</th>\n",
       "      <td>Sometimes</td>\n",
       "      <td>mental_health_yes</td>\n",
       "      <td>287</td>\n",
       "    </tr>\n",
       "    <tr>\n",
       "      <th>1</th>\n",
       "      <td>Never</td>\n",
       "      <td>mental_health_yes</td>\n",
       "      <td>105</td>\n",
       "    </tr>\n",
       "    <tr>\n",
       "      <th>2</th>\n",
       "      <td>Rarely</td>\n",
       "      <td>mental_health_yes</td>\n",
       "      <td>94</td>\n",
       "    </tr>\n",
       "    <tr>\n",
       "      <th>3</th>\n",
       "      <td>Often</td>\n",
       "      <td>mental_health_yes</td>\n",
       "      <td>87</td>\n",
       "    </tr>\n",
       "    <tr>\n",
       "      <th>4</th>\n",
       "      <td>Sometimes</td>\n",
       "      <td>mental_health_no</td>\n",
       "      <td>120</td>\n",
       "    </tr>\n",
       "    <tr>\n",
       "      <th>5</th>\n",
       "      <td>Never</td>\n",
       "      <td>mental_health_no</td>\n",
       "      <td>84</td>\n",
       "    </tr>\n",
       "    <tr>\n",
       "      <th>6</th>\n",
       "      <td>Rarely</td>\n",
       "      <td>mental_health_no</td>\n",
       "      <td>64</td>\n",
       "    </tr>\n",
       "    <tr>\n",
       "      <th>7</th>\n",
       "      <td>Often</td>\n",
       "      <td>mental_health_no</td>\n",
       "      <td>29</td>\n",
       "    </tr>\n",
       "  </tbody>\n",
       "</table>\n",
       "</div>"
      ],
      "text/plain": [
       "     Answers  mental_health_yes  mental_health_no\n",
       "0  Sometimes  mental_health_yes  287             \n",
       "1  Never      mental_health_yes  105             \n",
       "2  Rarely     mental_health_yes  94              \n",
       "3  Often      mental_health_yes  87              \n",
       "4  Sometimes  mental_health_no   120             \n",
       "5  Never      mental_health_no   84              \n",
       "6  Rarely     mental_health_no   64              \n",
       "7  Often      mental_health_no   29              "
      ]
     },
     "execution_count": 125,
     "metadata": {},
     "output_type": "execute_result"
    }
   ],
   "source": [
    "plot_frame = pd.melt(plot_frame, id_vars='Answers', var_name='mental_health_yes', value_name='mental_health_no')\n",
    "plot_frame"
   ]
  },
  {
   "cell_type": "code",
   "execution_count": 131,
   "metadata": {},
   "outputs": [
    {
     "name": "stdout",
     "output_type": "stream",
     "text": [
      "Saving figure mental_health_int_work\n"
     ]
    },
    {
     "data": {
      "image/png": "[encoded data removed]",
      "text/plain": [
       "<Figure size 360x360 with 1 Axes>"
      ]
     },
     "metadata": {
      "needs_background": "light"
     },
     "output_type": "display_data"
    }
   ],
   "source": [
    "sns.catplot(x='mental_health_yes', y='mental_health_no', hue='Answers', data=plot_frame, kind='bar', legend_out=False)\\\n",
    "    .set(ylabel='# of Respondents', xlabel='', title='Mental Health Intefere Work?')\\\n",
    "    .set_xticklabels(['Mental Health Yes', 'Mental Health No'])\n",
    "save_fig('mental_health_int_work');"
   ]
  },
  {
   "cell_type": "markdown",
   "metadata": {},
   "source": [
    "Attempt to create a 3 categorical, saved code incase I can figure it out"
   ]
  },
  {
   "cell_type": "code",
   "execution_count": 41,
   "metadata": {},
   "outputs": [],
   "source": [
    "# # attempt at graphing a catplot with phys_health_consquence yes, no, maybe vs. mental\n",
    "# mental_health_yes = df2['mental_health_consequence'].loc[df2['phys_health_consequence'] == 'Yes'].value_counts().to_frame()\n",
    "\n",
    "# mental_health_no = df2['mental_health_consequence'].loc[df2['phys_health_consequence'] == 'No'].value_counts().to_frame()\n",
    "\n",
    "# mental_health_maybe = df2['mental_health_consequence'].loc[df2['phys_health_consequence'] == 'Maybe'].value_counts().to_frame()\n",
    "\n",
    "# plot_frame = pd.DataFrame({'phys_health_consequence_yes': mental_health_yes['mental_health_consequence'], \n",
    "#                            'phys_health_consequence_no': mental_health_no['mental_health_consequence'],\n",
    "#                           'phys_health_consequence_maybe': mental_health_maybe['mental_health_consequence']})\n",
    "# plot_frame.index.name='Answers'\n",
    "# plot_frame.reset_index(inplace=True)\n",
    "# plot_frame = pd.melt(plot_frame, \n",
    "#                      id_vars='Answers', \n",
    "#                      var_name='phys_health_consequence_yes', \n",
    "#                      value_name='phys_health_consequence_no')\n",
    "\n",
    "# sns.catplot(x='phys_health_consequence_yes', \n",
    "#             y='phys_health_consequence_no', \n",
    "#             hue='Answers', \n",
    "#             data=plot_frame, kind='bar', legend_out=False)\\\n",
    "#             .set(ylabel='Count', xlabel='')"
   ]
  },
  {
   "cell_type": "markdown",
   "metadata": {},
   "source": [
    "### Observations\n",
    "- Yes is the highest value in mental, showing that respondents felt discussing mental health with their employer would have negative consequence\n",
    "- No is by far the highest value in physical, showing \n",
    "\n",
    "Judging from the extreme difference in how many people answered no to phyiscal as opposed to mental, respondents believe that disscussing mental illness with their employer would have negative consequences, while phyiscal would not as much. "
   ]
  },
  {
   "cell_type": "markdown",
   "metadata": {},
   "source": [
    "### Age"
   ]
  },
  {
   "cell_type": "code",
   "execution_count": 14,
   "metadata": {},
   "outputs": [],
   "source": [
    "# changes format to 2 decimal places\n",
    "pd.set_option('display.float_format', '{:.2f}'.format)"
   ]
  },
  {
   "cell_type": "code",
   "execution_count": 15,
   "metadata": {
    "scrolled": true
   },
   "outputs": [
    {
     "data": {
      "text/html": [
       "<div>\n",
       "<style scoped>\n",
       "    .dataframe tbody tr th:only-of-type {\n",
       "        vertical-align: middle;\n",
       "    }\n",
       "\n",
       "    .dataframe tbody tr th {\n",
       "        vertical-align: top;\n",
       "    }\n",
       "\n",
       "    .dataframe thead th {\n",
       "        text-align: right;\n",
       "    }\n",
       "</style>\n",
       "<table border=\"1\" class=\"dataframe\">\n",
       "  <thead>\n",
       "    <tr style=\"text-align: right;\">\n",
       "      <th></th>\n",
       "      <th>Age</th>\n",
       "    </tr>\n",
       "  </thead>\n",
       "  <tbody>\n",
       "    <tr>\n",
       "      <th>count</th>\n",
       "      <td>1259.00</td>\n",
       "    </tr>\n",
       "    <tr>\n",
       "      <th>mean</th>\n",
       "      <td>79428148.31</td>\n",
       "    </tr>\n",
       "    <tr>\n",
       "      <th>std</th>\n",
       "      <td>2818299442.98</td>\n",
       "    </tr>\n",
       "    <tr>\n",
       "      <th>min</th>\n",
       "      <td>-1726.00</td>\n",
       "    </tr>\n",
       "    <tr>\n",
       "      <th>25%</th>\n",
       "      <td>27.00</td>\n",
       "    </tr>\n",
       "    <tr>\n",
       "      <th>50%</th>\n",
       "      <td>31.00</td>\n",
       "    </tr>\n",
       "    <tr>\n",
       "      <th>75%</th>\n",
       "      <td>36.00</td>\n",
       "    </tr>\n",
       "    <tr>\n",
       "      <th>max</th>\n",
       "      <td>99999999999.00</td>\n",
       "    </tr>\n",
       "  </tbody>\n",
       "</table>\n",
       "</div>"
      ],
      "text/plain": [
       "                 Age\n",
       "count 1259.00       \n",
       "mean  79428148.31   \n",
       "std   2818299442.98 \n",
       "min   -1726.00      \n",
       "25%   27.00         \n",
       "50%   31.00         \n",
       "75%   36.00         \n",
       "max   99999999999.00"
      ]
     },
     "execution_count": 15,
     "metadata": {},
     "output_type": "execute_result"
    }
   ],
   "source": [
    "df2.describe()"
   ]
  },
  {
   "cell_type": "markdown",
   "metadata": {},
   "source": [
    "Some odd age numbers, will have to deal with outliers"
   ]
  },
  {
   "cell_type": "code",
   "execution_count": 37,
   "metadata": {},
   "outputs": [],
   "source": [
    "# Function to find outliers in Age column\n",
    "def outliers(df):\n",
    "    '''Takes in a dataframe and returns a list of outliers > 99th and < 1 percentile'''\n",
    "    outliers = []\n",
    "    for i in df:\n",
    "        q1 = np.percentile(df, .5)\n",
    "        q3 = np.percentile(df, 99.5)\n",
    "        if i > q3 or i < q1:\n",
    "            outliers.append(i)\n",
    "    print(\"Outliers:\", outliers)\n",
    "    return outliers"
   ]
  },
  {
   "cell_type": "code",
   "execution_count": 38,
   "metadata": {},
   "outputs": [
    {
     "name": "stdout",
     "output_type": "stream",
     "text": [
      "Outliers: [-29, 60, 329, 58, 62, -1726, 5, 72, 60]\n"
     ]
    }
   ],
   "source": [
    "age_outliers = outliers(df2['Age'])"
   ]
  },
  {
   "cell_type": "code",
   "execution_count": 18,
   "metadata": {},
   "outputs": [],
   "source": [
    "df2 = df2.loc[~df2['Age'].isin(age_outliers)]"
   ]
  },
  {
   "cell_type": "code",
   "execution_count": 19,
   "metadata": {},
   "outputs": [
    {
     "data": {
      "text/html": [
       "<div>\n",
       "<style scoped>\n",
       "    .dataframe tbody tr th:only-of-type {\n",
       "        vertical-align: middle;\n",
       "    }\n",
       "\n",
       "    .dataframe tbody tr th {\n",
       "        vertical-align: top;\n",
       "    }\n",
       "\n",
       "    .dataframe thead th {\n",
       "        text-align: right;\n",
       "    }\n",
       "</style>\n",
       "<table border=\"1\" class=\"dataframe\">\n",
       "  <thead>\n",
       "    <tr style=\"text-align: right;\">\n",
       "      <th></th>\n",
       "      <th>Age</th>\n",
       "    </tr>\n",
       "  </thead>\n",
       "  <tbody>\n",
       "    <tr>\n",
       "      <th>count</th>\n",
       "      <td>1234.00</td>\n",
       "    </tr>\n",
       "    <tr>\n",
       "      <th>mean</th>\n",
       "      <td>31.92</td>\n",
       "    </tr>\n",
       "    <tr>\n",
       "      <th>std</th>\n",
       "      <td>6.77</td>\n",
       "    </tr>\n",
       "    <tr>\n",
       "      <th>min</th>\n",
       "      <td>19.00</td>\n",
       "    </tr>\n",
       "    <tr>\n",
       "      <th>25%</th>\n",
       "      <td>27.00</td>\n",
       "    </tr>\n",
       "    <tr>\n",
       "      <th>50%</th>\n",
       "      <td>31.00</td>\n",
       "    </tr>\n",
       "    <tr>\n",
       "      <th>75%</th>\n",
       "      <td>36.00</td>\n",
       "    </tr>\n",
       "    <tr>\n",
       "      <th>max</th>\n",
       "      <td>56.00</td>\n",
       "    </tr>\n",
       "  </tbody>\n",
       "</table>\n",
       "</div>"
      ],
      "text/plain": [
       "          Age\n",
       "count 1234.00\n",
       "mean  31.92  \n",
       "std   6.77   \n",
       "min   19.00  \n",
       "25%   27.00  \n",
       "50%   31.00  \n",
       "75%   36.00  \n",
       "max   56.00  "
      ]
     },
     "execution_count": 19,
     "metadata": {},
     "output_type": "execute_result"
    }
   ],
   "source": [
    "df2.describe()"
   ]
  },
  {
   "cell_type": "code",
   "execution_count": 30,
   "metadata": {
    "scrolled": true
   },
   "outputs": [
    {
     "name": "stdout",
     "output_type": "stream",
     "text": [
      "Saving figure age_hist_no_outliers\n"
     ]
    },
    {
     "data": {
      "image/png": "[encoded data removed]",
      "text/plain": [
       "<Figure size 432x288 with 1 Axes>"
      ]
     },
     "metadata": {},
     "output_type": "display_data"
    }
   ],
   "source": [
    "# plt histogram of age no outliers\n",
    "plt.hist(df2['Age'])\n",
    "plt.title('Distribution of Age (No Outliers)')\n",
    "save_fig('age_hist_no_outliers')\n",
    "plt.show()\n"
   ]
  },
  {
   "cell_type": "code",
   "execution_count": 21,
   "metadata": {
    "scrolled": true
   },
   "outputs": [
    {
     "name": "stdout",
     "output_type": "stream",
     "text": [
      "<class 'pandas.core.frame.DataFrame'>\n",
      "Int64Index: 1234 entries, 0 to 1258\n",
      "Data columns (total 27 columns):\n",
      "Timestamp                    1234 non-null object\n",
      "Age                          1234 non-null int64\n",
      "Gender                       1234 non-null object\n",
      "Country                      1234 non-null object\n",
      "state                        726 non-null object\n",
      "self_employed                1216 non-null object\n",
      "family_history               1234 non-null object\n",
      "treatment                    1234 non-null object\n",
      "work_interfere               976 non-null object\n",
      "no_employees                 1234 non-null object\n",
      "remote_work                  1234 non-null object\n",
      "tech_company                 1234 non-null object\n",
      "benefits                     1234 non-null object\n",
      "care_options                 1234 non-null object\n",
      "wellness_program             1234 non-null object\n",
      "seek_help                    1234 non-null object\n",
      "anonymity                    1234 non-null object\n",
      "leave                        1234 non-null object\n",
      "mental_health_consequence    1234 non-null object\n",
      "phys_health_consequence      1234 non-null object\n",
      "coworkers                    1234 non-null object\n",
      "supervisor                   1234 non-null object\n",
      "mental_health_interview      1234 non-null object\n",
      "phys_health_interview        1234 non-null object\n",
      "mental_vs_physical           1234 non-null object\n",
      "obs_consequence              1234 non-null object\n",
      "comments                     159 non-null object\n",
      "dtypes: int64(1), object(26)\n",
      "memory usage: 269.9+ KB\n"
     ]
    }
   ],
   "source": [
    "df2.info()"
   ]
  },
  {
   "cell_type": "markdown",
   "metadata": {},
   "source": [
    "After removing outlier age columns 1234 columns left."
   ]
  },
  {
   "cell_type": "markdown",
   "metadata": {},
   "source": [
    "### Timestamp"
   ]
  },
  {
   "cell_type": "code",
   "execution_count": 24,
   "metadata": {},
   "outputs": [],
   "source": [
    "# convert timestamp to datetime\n",
    "df2['Timestamp'] = pd.to_datetime(df2['Timestamp'])"
   ]
  },
  {
   "cell_type": "code",
   "execution_count": 25,
   "metadata": {},
   "outputs": [],
   "source": [
    "# create columns for years, months, days, dow, hour to see when majority of surveys were administered\n",
    "df2['Year'] = df2['Timestamp'].dt.year\n",
    "df2['Month'] = df2['Timestamp'].dt.month\n",
    "df2['Day'] = df2['Timestamp'].dt.day\n",
    "df2['Dow'] = df2['Timestamp'].dt.dayofweek\n",
    "df2['Hour'] = df2['Timestamp'].dt.hour"
   ]
  },
  {
   "cell_type": "code",
   "execution_count": 24,
   "metadata": {},
   "outputs": [
    {
     "data": {
      "text/html": [
       "<div>\n",
       "<style scoped>\n",
       "    .dataframe tbody tr th:only-of-type {\n",
       "        vertical-align: middle;\n",
       "    }\n",
       "\n",
       "    .dataframe tbody tr th {\n",
       "        vertical-align: top;\n",
       "    }\n",
       "\n",
       "    .dataframe thead th {\n",
       "        text-align: right;\n",
       "    }\n",
       "</style>\n",
       "<table border=\"1\" class=\"dataframe\">\n",
       "  <thead>\n",
       "    <tr style=\"text-align: right;\">\n",
       "      <th></th>\n",
       "      <th>Timestamp</th>\n",
       "      <th>Age</th>\n",
       "      <th>Gender</th>\n",
       "      <th>Country</th>\n",
       "      <th>state</th>\n",
       "      <th>self_employed</th>\n",
       "      <th>family_history</th>\n",
       "      <th>treatment</th>\n",
       "      <th>work_interfere</th>\n",
       "      <th>no_employees</th>\n",
       "      <th>...</th>\n",
       "      <th>mental_health_interview</th>\n",
       "      <th>phys_health_interview</th>\n",
       "      <th>mental_vs_physical</th>\n",
       "      <th>obs_consequence</th>\n",
       "      <th>comments</th>\n",
       "      <th>Year</th>\n",
       "      <th>Month</th>\n",
       "      <th>Day</th>\n",
       "      <th>Dow</th>\n",
       "      <th>Hour</th>\n",
       "    </tr>\n",
       "  </thead>\n",
       "  <tbody>\n",
       "    <tr>\n",
       "      <th>0</th>\n",
       "      <td>2014-08-27 11:29:31</td>\n",
       "      <td>37</td>\n",
       "      <td>Female</td>\n",
       "      <td>United States</td>\n",
       "      <td>IL</td>\n",
       "      <td>NaN</td>\n",
       "      <td>No</td>\n",
       "      <td>Yes</td>\n",
       "      <td>Often</td>\n",
       "      <td>6-25</td>\n",
       "      <td>...</td>\n",
       "      <td>No</td>\n",
       "      <td>Maybe</td>\n",
       "      <td>Yes</td>\n",
       "      <td>No</td>\n",
       "      <td>NaN</td>\n",
       "      <td>2014</td>\n",
       "      <td>8</td>\n",
       "      <td>27</td>\n",
       "      <td>2</td>\n",
       "      <td>11</td>\n",
       "    </tr>\n",
       "    <tr>\n",
       "      <th>1</th>\n",
       "      <td>2014-08-27 11:29:37</td>\n",
       "      <td>44</td>\n",
       "      <td>M</td>\n",
       "      <td>United States</td>\n",
       "      <td>IN</td>\n",
       "      <td>NaN</td>\n",
       "      <td>No</td>\n",
       "      <td>No</td>\n",
       "      <td>Rarely</td>\n",
       "      <td>More than 1000</td>\n",
       "      <td>...</td>\n",
       "      <td>No</td>\n",
       "      <td>No</td>\n",
       "      <td>Don't know</td>\n",
       "      <td>No</td>\n",
       "      <td>NaN</td>\n",
       "      <td>2014</td>\n",
       "      <td>8</td>\n",
       "      <td>27</td>\n",
       "      <td>2</td>\n",
       "      <td>11</td>\n",
       "    </tr>\n",
       "    <tr>\n",
       "      <th>2</th>\n",
       "      <td>2014-08-27 11:29:44</td>\n",
       "      <td>32</td>\n",
       "      <td>Male</td>\n",
       "      <td>Canada</td>\n",
       "      <td>NaN</td>\n",
       "      <td>NaN</td>\n",
       "      <td>No</td>\n",
       "      <td>No</td>\n",
       "      <td>Rarely</td>\n",
       "      <td>6-25</td>\n",
       "      <td>...</td>\n",
       "      <td>Yes</td>\n",
       "      <td>Yes</td>\n",
       "      <td>No</td>\n",
       "      <td>No</td>\n",
       "      <td>NaN</td>\n",
       "      <td>2014</td>\n",
       "      <td>8</td>\n",
       "      <td>27</td>\n",
       "      <td>2</td>\n",
       "      <td>11</td>\n",
       "    </tr>\n",
       "    <tr>\n",
       "      <th>3</th>\n",
       "      <td>2014-08-27 11:29:46</td>\n",
       "      <td>31</td>\n",
       "      <td>Male</td>\n",
       "      <td>United Kingdom</td>\n",
       "      <td>NaN</td>\n",
       "      <td>NaN</td>\n",
       "      <td>Yes</td>\n",
       "      <td>Yes</td>\n",
       "      <td>Often</td>\n",
       "      <td>26-100</td>\n",
       "      <td>...</td>\n",
       "      <td>Maybe</td>\n",
       "      <td>Maybe</td>\n",
       "      <td>No</td>\n",
       "      <td>Yes</td>\n",
       "      <td>NaN</td>\n",
       "      <td>2014</td>\n",
       "      <td>8</td>\n",
       "      <td>27</td>\n",
       "      <td>2</td>\n",
       "      <td>11</td>\n",
       "    </tr>\n",
       "    <tr>\n",
       "      <th>4</th>\n",
       "      <td>2014-08-27 11:30:22</td>\n",
       "      <td>31</td>\n",
       "      <td>Male</td>\n",
       "      <td>United States</td>\n",
       "      <td>TX</td>\n",
       "      <td>NaN</td>\n",
       "      <td>No</td>\n",
       "      <td>No</td>\n",
       "      <td>Never</td>\n",
       "      <td>100-500</td>\n",
       "      <td>...</td>\n",
       "      <td>Yes</td>\n",
       "      <td>Yes</td>\n",
       "      <td>Don't know</td>\n",
       "      <td>No</td>\n",
       "      <td>NaN</td>\n",
       "      <td>2014</td>\n",
       "      <td>8</td>\n",
       "      <td>27</td>\n",
       "      <td>2</td>\n",
       "      <td>11</td>\n",
       "    </tr>\n",
       "  </tbody>\n",
       "</table>\n",
       "<p>5 rows × 32 columns</p>\n",
       "</div>"
      ],
      "text/plain": [
       "            Timestamp  Age  Gender         Country state self_employed  \\\n",
       "0 2014-08-27 11:29:31  37   Female  United States   IL    NaN            \n",
       "1 2014-08-27 11:29:37  44   M       United States   IN    NaN            \n",
       "2 2014-08-27 11:29:44  32   Male    Canada          NaN   NaN            \n",
       "3 2014-08-27 11:29:46  31   Male    United Kingdom  NaN   NaN            \n",
       "4 2014-08-27 11:30:22  31   Male    United States   TX    NaN            \n",
       "\n",
       "  family_history treatment work_interfere    no_employees  ...  \\\n",
       "0  No             Yes       Often          6-25            ...   \n",
       "1  No             No        Rarely         More than 1000  ...   \n",
       "2  No             No        Rarely         6-25            ...   \n",
       "3  Yes            Yes       Often          26-100          ...   \n",
       "4  No             No        Never          100-500         ...   \n",
       "\n",
       "  mental_health_interview phys_health_interview mental_vs_physical  \\\n",
       "0  No                      Maybe                 Yes                 \n",
       "1  No                      No                    Don't know          \n",
       "2  Yes                     Yes                   No                  \n",
       "3  Maybe                   Maybe                 No                  \n",
       "4  Yes                     Yes                   Don't know          \n",
       "\n",
       "  obs_consequence comments  Year Month Day Dow Hour  \n",
       "0  No              NaN      2014  8     27  2   11   \n",
       "1  No              NaN      2014  8     27  2   11   \n",
       "2  No              NaN      2014  8     27  2   11   \n",
       "3  Yes             NaN      2014  8     27  2   11   \n",
       "4  No              NaN      2014  8     27  2   11   \n",
       "\n",
       "[5 rows x 32 columns]"
      ]
     },
     "execution_count": 24,
     "metadata": {},
     "output_type": "execute_result"
    }
   ],
   "source": [
    "df2.head()"
   ]
  },
  {
   "cell_type": "code",
   "execution_count": 30,
   "metadata": {
    "scrolled": true
   },
   "outputs": [
    {
     "data": {
      "text/plain": [
       "8     1001\n",
       "9     46  \n",
       "2     45  \n",
       "5     5   \n",
       "11    4   \n",
       "4     4   \n",
       "10    3   \n",
       "12    2   \n",
       "7     1   \n",
       "6     1   \n",
       "1     1   \n",
       "Name: Month, dtype: int64"
      ]
     },
     "execution_count": 30,
     "metadata": {},
     "output_type": "execute_result"
    }
   ],
   "source": [
    "df2['Month'].value_counts()"
   ]
  },
  {
   "cell_type": "code",
   "execution_count": null,
   "metadata": {},
   "outputs": [],
   "source": []
  }
 ],
 "metadata": {
  "kernelspec": {
   "display_name": "Python 3",
   "language": "python",
   "name": "python3"
  },
  "language_info": {
   "codemirror_mode": {
    "name": "ipython",
    "version": 3
   },
   "file_extension": ".py",
   "mimetype": "text/x-python",
   "name": "python",
   "nbconvert_exporter": "python",
   "pygments_lexer": "ipython3",
   "version": "3.7.6"
  }
 },
 "nbformat": 4,
 "nbformat_minor": 4
}
