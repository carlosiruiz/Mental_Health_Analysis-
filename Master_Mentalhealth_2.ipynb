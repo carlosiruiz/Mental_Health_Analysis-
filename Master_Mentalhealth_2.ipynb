{
 "cells": [
  {
   "cell_type": "markdown",
   "metadata": {},
   "source": [
    "## Mental Health in the Tech Industry"
   ]
  },
  {
   "cell_type": "code",
   "execution_count": 1,
   "metadata": {},
   "outputs": [],
   "source": [
    "import pandas as pd\n",
    "import numpy as np\n",
    "from matplotlib import pyplot as plt\n",
    "from sklearn.model_selection import train_test_split\n",
    "from sklearn import metrics\n",
    "from sklearn.feature_selection import RFECV\n",
    "import warnings\n",
    "import seaborn as sns\n",
    "plt.style.use('seaborn')\n",
    "\n",
    "warnings.filterwarnings(\"ignore\")\n",
    "\n",
    "pd.set_option('display.max_columns', 100)"
   ]
  },
  {
   "cell_type": "code",
   "execution_count": 2,
   "metadata": {},
   "outputs": [],
   "source": [
    "#Loading Data \n",
    "df=pd.read_csv('./data/survey.csv')"
   ]
  },
  {
   "cell_type": "code",
   "execution_count": 3,
   "metadata": {},
   "outputs": [],
   "source": [
    "# Fixing column Names\n",
    "df.columns=[x.lower() for x in df.columns]"
   ]
  },
  {
   "cell_type": "code",
   "execution_count": 4,
   "metadata": {},
   "outputs": [],
   "source": [
    "# Dropping self employed since its not relevant to the buisiness question.\n",
    "df.drop(list(df[df.self_employed=='Yes'].index),inplace=True)\n",
    "df.drop('comments',axis=1,inplace=True)"
   ]
  },
  {
   "cell_type": "code",
   "execution_count": 5,
   "metadata": {},
   "outputs": [],
   "source": [
    "# Cleaning the datetime column\n",
    "df['timestamp']=[\" \".join(x[:-9].split('-')).replace(\" \",\"-\") for x in df.timestamp]"
   ]
  },
  {
   "cell_type": "code",
   "execution_count": 6,
   "metadata": {},
   "outputs": [],
   "source": [
    "# make all answers lowercase\n",
    "df.gender = df.gender.str.lower()\n",
    "\n",
    "# create three lists male, female and other of all the entries\n",
    "male = [\"male\", \"m\", \"male-ish\", \"maile\", \"mal\", \"male (cis)\", \"make\", \"male \", \"man\",\"msle\", \"mail\", \"malr\",\"cis man\", \"cis male\"]\n",
    "female = [\"cis female\", \"f\", \"female\", \"woman\", \"femake\", \"female \",\"cis-female/femme\", \"female (cis)\", \"femail\"]\n",
    "gender_variant = [\"trans-female\", \"something kinda male?\", \"queer/she/they\", \"non-binary\",\"nah\", \"all\", \"enby\", \"fluid\", \n",
    "     \"genderqueer\", \"androgyne\", \"agender\", \"male leaning androgynous\", \"guy (-ish) ^_^\", \"trans woman\", \"neuter\", \n",
    "     \"female (trans)\", \"queer\", \"ostensibly male, unsure what that really means\", \"p\", \"a little about you\"]\n",
    "\n",
    "# use .loc and .isin to map male, female and gender variant to\n",
    "df.gender.loc[df.gender.isin(male)] = 'male'\n",
    "df.gender.loc[df.gender.isin(female)] = 'female'\n",
    "df.gender.loc[df.gender.isin(gender_variant)] = 'gender_variant'"
   ]
  },
  {
   "cell_type": "code",
   "execution_count": 7,
   "metadata": {},
   "outputs": [],
   "source": [
    "# Binning Companies employees size to better interpret later.\n",
    "conditions=[\n",
    "    df.no_employees==\"1-5\",            \n",
    "    df.no_employees==\"6-25\",         \n",
    "    df.no_employees==\"26-100\", \n",
    "    df.no_employees==\"100-500\",       \n",
    "    df.no_employees==\"500-1000\" ,           \n",
    "    df.no_employees==\"More than 1000\",\n",
    "]\n",
    "choices=[\n",
    "    \"extra_small\",\n",
    "    \"small\",\n",
    "    \"medium\",\n",
    "    \"medium_large\",\n",
    "    \"large\",\n",
    "    \"extra_large\",\n",
    "    \n",
    "]\n",
    "df['no_employees']=np.select(conditions,choices,default=0)"
   ]
  },
  {
   "cell_type": "code",
   "execution_count": 8,
   "metadata": {},
   "outputs": [],
   "source": [
    "# Making our target feature binary.\n",
    "conditions=[\n",
    "    (df[\"mental_health_consequence\"].str.lower()=='yes'),            \n",
    "    (df[\"mental_health_consequence\"].str.lower()=='no'),\n",
    "    (df[\"mental_health_consequence\"].str.lower()=='maybe')|(df[\"mental_health_consequence\"].str.lower()=='don\\'t know')|(df[\"mental_health_consequence\"].str.lower()=='not sure'),\n",
    "]\n",
    "choises=[\n",
    "    1,\n",
    "    0,\n",
    "    1,\n",
    "\n",
    "]\n",
    "df[\"mental_health_consequence\"]=np.select(conditions,choises,default=0)"
   ]
  },
  {
   "cell_type": "markdown",
   "metadata": {},
   "source": [
    "### Visualize Binary Target"
   ]
  },
  {
   "cell_type": "code",
   "execution_count": 60,
   "metadata": {},
   "outputs": [
    {
     "data": {
      "text/html": [
       "<div>\n",
       "<style scoped>\n",
       "    .dataframe tbody tr th:only-of-type {\n",
       "        vertical-align: middle;\n",
       "    }\n",
       "\n",
       "    .dataframe tbody tr th {\n",
       "        vertical-align: top;\n",
       "    }\n",
       "\n",
       "    .dataframe thead th {\n",
       "        text-align: right;\n",
       "    }\n",
       "</style>\n",
       "<table border=\"1\" class=\"dataframe\">\n",
       "  <thead>\n",
       "    <tr style=\"text-align: right;\">\n",
       "      <th></th>\n",
       "      <th>index</th>\n",
       "      <th>variable</th>\n",
       "      <th>value</th>\n",
       "    </tr>\n",
       "  </thead>\n",
       "  <tbody>\n",
       "    <tr>\n",
       "      <th>0</th>\n",
       "      <td>Yes</td>\n",
       "      <td>mental_health_consequence</td>\n",
       "      <td>689</td>\n",
       "    </tr>\n",
       "    <tr>\n",
       "      <th>1</th>\n",
       "      <td>No</td>\n",
       "      <td>mental_health_consequence</td>\n",
       "      <td>415</td>\n",
       "    </tr>\n",
       "  </tbody>\n",
       "</table>\n",
       "</div>"
      ],
      "text/plain": [
       "  index                   variable  value\n",
       "0   Yes  mental_health_consequence    689\n",
       "1    No  mental_health_consequence    415"
      ]
     },
     "execution_count": 60,
     "metadata": {},
     "output_type": "execute_result"
    }
   ],
   "source": [
    "# create binary target variable graph\n",
    "binary_target = df['mental_health_consequence'].value_counts().to_frame() # create df for target\n",
    "binary_target.rename({1:'Yes', 0:'No'}, inplace=True) # rename rows to Yes/No\n",
    "melt_bin_tar = pd.melt(binary_target.reset_index(), id_vars='index') # melt df for bar graph\n",
    "melt_bin_tar"
   ]
  },
  {
   "cell_type": "code",
   "execution_count": 64,
   "metadata": {},
   "outputs": [
    {
     "data": {
      "image/png": "[encoded data removed]",
      "text/plain": [
       "<Figure size 720x432 with 1 Axes>"
      ]
     },
     "metadata": {},
     "output_type": "display_data"
    }
   ],
   "source": [
    "# plot binary target\n",
    "sns.set('talk')\n",
    "plt.figure(figsize=(10,6))\n",
    "sns.barplot(x=melt_bin_tar['index'], y=melt_bin_tar['value'], alpha = .80)\n",
    "plt.title('Discuss Mental Health Neg Consequences', fontdict={'fontsize':20})\n",
    "plt.ylabel('# of Respondents', fontdict={'fontsize':14})\n",
    "plt.xlabel('')\n",
    "plt.savefig('binary_target', dpi=300)"
   ]
  },
  {
   "cell_type": "code",
   "execution_count": 65,
   "metadata": {},
   "outputs": [],
   "source": [
    "# express binary target as percentage\n",
    "melt_bin_tar['percent'] = round(melt_bin_tar['value']/sum(melt_bin_tar['value']) * 100,2)"
   ]
  },
  {
   "cell_type": "code",
   "execution_count": 66,
   "metadata": {},
   "outputs": [
    {
     "data": {
      "image/png": "[encoded data removed]",
      "text/plain": [
       "<Figure size 720x432 with 1 Axes>"
      ]
     },
     "metadata": {},
     "output_type": "display_data"
    }
   ],
   "source": [
    "# plot binary target as percentage\n",
    "sns.set('talk')\n",
    "plt.figure(figsize=(10,6))\n",
    "sns.barplot(x=melt_bin_tar['index'], y=melt_bin_tar['percent'], alpha = .80)\n",
    "plt.title('Discuss Mental Health Neg Consequences', fontdict={'fontsize':20})\n",
    "plt.ylabel('% of Respondents', fontdict={'fontsize':14})\n",
    "plt.xlabel('')\n",
    "plt.savefig('binary_target_percent', dpi=300)"
   ]
  },
  {
   "cell_type": "code",
   "execution_count": 11,
   "metadata": {},
   "outputs": [],
   "source": [
    "# Making our Nan values Missing to add more information to the model that people may have felt uncomfortable \n",
    "# answering the questions at hand .\n",
    "\n",
    "df.work_interfere=df.work_interfere.fillna(\"Missing\")\n",
    "df.self_employed=df.self_employed.fillna(\"Missing\")"
   ]
  },
  {
   "cell_type": "code",
   "execution_count": 12,
   "metadata": {},
   "outputs": [],
   "source": [
    "# Binning countries location to better interpret the results from each area of the globe.\n",
    "north=['Canada','United States']\n",
    "uk=['United Kingdom']\n",
    "eu=['Germany','Ireland','Netherlands','France','Italy','Belgium','Spain','Norway']\n",
    "for x in df.country.index:\n",
    "    if df.country[x]in north:\n",
    "        df.country[x]= \"North America\"\n",
    "    elif df.country[x]in uk:\n",
    "        df.country[x]= \"United Kingdom\"\n",
    "    elif df.country[x]in eu:\n",
    "        df.country[x]= \"Europe\"\n",
    "    else:\n",
    "        df.country[x]= 'Other'"
   ]
  },
  {
   "cell_type": "code",
   "execution_count": 13,
   "metadata": {
    "scrolled": true
   },
   "outputs": [
    {
     "data": {
      "image/png": "[encoded data removed]",
      "text/plain": [
       "<Figure size 360x360 with 1 Axes>"
      ]
     },
     "metadata": {},
     "output_type": "display_data"
    }
   ],
   "source": [
    "# graph continent feature against target\n",
    "continent_yes = df['country'].loc[df['mental_health_consequence'] == 1].value_counts().to_frame() # yes continent df\n",
    "continent_no = df['country'].loc[df['mental_health_consequence'] == 0].value_counts().to_frame() # no continent df\n",
    "\n",
    "# create df with yes and no continent\n",
    "continent_df = pd.DataFrame({'mental_health_yes':continent_yes['country'],\n",
    "                            'mental_health_no':continent_no['country']})\n",
    "continent_df.index.name = 'Answers'\n",
    "continent_df.reset_index(inplace=True)\n",
    "\n",
    "# melt df for bar graph\n",
    "continent_df = pd.melt(continent_df, id_vars='Answers', var_name='mental_health_yes', value_name='mental_health_no')\n",
    "\n",
    "# plot melted df\n",
    "sns.set(style='darkgrid')\n",
    "sns.catplot(x='mental_health_yes', y='mental_health_no', hue='Answers', data=continent_df, kind='bar', legend_out=False)\\\n",
    "    .set(ylabel='# of Respondents', xlabel='', title='Continent and Mental Health')\\\n",
    "    .set_xticklabels(['Mental Health Yes', 'Mental Health No'])\n",
    "plt.savefig('./images/continent_mental_health', dpi=300)"
   ]
  },
  {
   "cell_type": "code",
   "execution_count": 14,
   "metadata": {
    "scrolled": true
   },
   "outputs": [],
   "source": [
    "# Binning each state to be able to analize how each region may affect mental health. \n",
    "\n",
    "north= ['CT', 'DE', 'IL', 'IN', 'IA', 'KS', 'ME', 'MA', 'MD', 'MI', 'MN', 'MO', 'NE','NH', 'NJ', 'NY', 'ND', 'OH', 'PA', 'RI', 'SD', 'VT', 'WI','DC']\n",
    "south= ['AL', 'AR', 'FL', 'GA', 'KT', 'LA', 'MS', 'NC', 'OK', 'SC', 'TN', 'TX', 'VA', 'WV', 'PR']\n",
    "west= ['AK', 'AZ', 'CA', 'CO', 'HI', 'ID', 'MT', 'NV', 'NM', 'OR', 'UT', 'WA', 'WY']\n",
    "\n",
    "\n",
    "for x in df.state.index:\n",
    "    if df.state[x]in north:\n",
    "        df.state[x]= \"Northern State\"\n",
    "    elif df.state[x]in south:\n",
    "        df.state[x]= \"Southern State\"\n",
    "    elif df.state[x]in west:\n",
    "        df.state[x]= \"Western State\"\n",
    "    else:\n",
    "        df.state[x]= 'Non US'"
   ]
  },
  {
   "cell_type": "code",
   "execution_count": 15,
   "metadata": {},
   "outputs": [
    {
     "data": {
      "image/png": "[encoded data removed]",
      "text/plain": [
       "<Figure size 360x360 with 1 Axes>"
      ]
     },
     "metadata": {},
     "output_type": "display_data"
    }
   ],
   "source": [
    "# graph region feature against target\n",
    "regional_yes = df['state'].loc[df['mental_health_consequence'] == 1].value_counts().to_frame() # yes regional df\n",
    "regional_no = df['state'].loc[df['mental_health_consequence'] == 0].value_counts().to_frame() # no regional df\n",
    "\n",
    "# create df with yes and no region\n",
    "regional_df = pd.DataFrame({'mental_health_yes':regional_yes['state'],\n",
    "                            'mental_health_no':regional_no['state']})\n",
    "regional_df.index.name = 'Answers'\n",
    "regional_df.reset_index(inplace=True)\n",
    "\n",
    "# melt df for bar graph\n",
    "regional_df = pd.melt(regional_df, id_vars='Answers', var_name='mental_health_yes', value_name='mental_health_no')\n",
    "\n",
    "# plot melted df\n",
    "sns.set(style='darkgrid')\n",
    "sns.catplot(x='mental_health_yes', y='mental_health_no', hue='Answers', data=regional_df, kind='bar', legend_out=False)\\\n",
    "    .set(ylabel='# of Respondents', xlabel='', title='US Region and Mental Health')\\\n",
    "    .set_xticklabels(['Mental Health Yes', 'Mental Health No'])\n",
    "plt.savefig('./images/us_region_mental_health', dpi=300)"
   ]
  },
  {
   "cell_type": "code",
   "execution_count": 16,
   "metadata": {},
   "outputs": [],
   "source": [
    "# Creating dummies for our models.\n",
    "df=pd.get_dummies(df,columns=['no_employees','gender','country','state','work_interfere','benefits','care_options','wellness_program','seek_help','anonymity','leave','phys_health_consequence','coworkers','supervisor','mental_health_interview','phys_health_interview','mental_vs_physical',\"self_employed\"],)"
   ]
  },
  {
   "cell_type": "code",
   "execution_count": 17,
   "metadata": {},
   "outputs": [],
   "source": [
    "# Manually dropping the columns from our dummies. We selected the tertiary answers as the ones to drop.\n",
    "df.drop([\"state_Non US\",\"no_employees_extra_small\",'gender_gender_variant','country_Other',\"work_interfere_Missing\",\"benefits_Don't know\",\"care_options_Not sure\",\"wellness_program_Don't know\",\"seek_help_Don't know\",\"anonymity_Don't know\",\"leave_Don't know\",\"phys_health_consequence_Maybe\",'coworkers_Some of them',\"supervisor_Some of them\",\"mental_health_interview_Maybe\",\"phys_health_interview_Maybe\",\"mental_vs_physical_Don't know\",'self_employed_Missing'],axis=1,inplace=True)"
   ]
  },
  {
   "cell_type": "code",
   "execution_count": 18,
   "metadata": {},
   "outputs": [],
   "source": [
    "def binary(column):\n",
    "    \"\"\"\n",
    "    Converts Yes or No answers into variables.\n",
    "    \"\"\"\n",
    "    conditions=[\n",
    "        (df[column].str.lower()=='yes'),            \n",
    "        (df[column].str.lower()=='no'),\n",
    "    ]\n",
    "    choises=[\n",
    "        1,\n",
    "        0,\n",
    "\n",
    "    ]\n",
    "    df[column]=np.select(conditions,choises,default=0)"
   ]
  },
  {
   "cell_type": "code",
   "execution_count": 19,
   "metadata": {},
   "outputs": [],
   "source": [
    "# Converting our columns into binaries. \n",
    "columns=[\"family_history\",\"treatment\",\"remote_work\",\"tech_company\",\"obs_consequence\"]\n",
    "for c in columns:\n",
    "    binary(str(c))"
   ]
  },
  {
   "cell_type": "code",
   "execution_count": 20,
   "metadata": {},
   "outputs": [],
   "source": [
    "# Function to find outliers in Age column\n",
    "def outliers(df):\n",
    "    '''Takes in a dataframe and returns a list of outliers > 99th and < 1 percentile'''\n",
    "    outliers = []\n",
    "    for i in df:\n",
    "        q1 = np.percentile(df, .5)\n",
    "        q3 = np.percentile(df, 99.5)\n",
    "        if i > q3 or i < q1:\n",
    "            outliers.append(i)\n",
    "    print(\"Outliers:\", outliers)\n",
    "    return outliers"
   ]
  },
  {
   "cell_type": "code",
   "execution_count": 21,
   "metadata": {},
   "outputs": [
    {
     "name": "stdout",
     "output_type": "stream",
     "text": [
      "Outliers: [-29, 60, 329, 58, 62, -1726, 5, 72, 60]\n"
     ]
    }
   ],
   "source": [
    "# Removing the age outliers.\n",
    "age_outliers = outliers(df['age'])\n",
    "df = df.loc[~df['age'].isin(age_outliers)]"
   ]
  },
  {
   "cell_type": "code",
   "execution_count": 22,
   "metadata": {},
   "outputs": [],
   "source": [
    "# Transforming our date time column into a timestamp to be able to create dummies.\n",
    "df['timestamp'] = pd.to_datetime(df['timestamp'])"
   ]
  },
  {
   "cell_type": "code",
   "execution_count": 23,
   "metadata": {},
   "outputs": [],
   "source": [
    "# create columns for years, months, days, dow, hour to see when majority of surveys were administered\n",
    "df['Year'] = df['timestamp'].dt.year\n",
    "df['Month'] = df['timestamp'].dt.month\n",
    "df['Day'] = df['timestamp'].dt.day\n",
    "df['Dow'] = df['timestamp'].dt.dayofweek"
   ]
  },
  {
   "cell_type": "code",
   "execution_count": 24,
   "metadata": {},
   "outputs": [
    {
     "data": {
      "text/html": [
       "<div>\n",
       "<style scoped>\n",
       "    .dataframe tbody tr th:only-of-type {\n",
       "        vertical-align: middle;\n",
       "    }\n",
       "\n",
       "    .dataframe tbody tr th {\n",
       "        vertical-align: top;\n",
       "    }\n",
       "\n",
       "    .dataframe thead th {\n",
       "        text-align: right;\n",
       "    }\n",
       "</style>\n",
       "<table border=\"1\" class=\"dataframe\">\n",
       "  <thead>\n",
       "    <tr style=\"text-align: right;\">\n",
       "      <th></th>\n",
       "      <th>timestamp</th>\n",
       "      <th>age</th>\n",
       "      <th>family_history</th>\n",
       "      <th>treatment</th>\n",
       "      <th>remote_work</th>\n",
       "      <th>tech_company</th>\n",
       "      <th>mental_health_consequence</th>\n",
       "      <th>obs_consequence</th>\n",
       "      <th>no_employees_extra_large</th>\n",
       "      <th>no_employees_large</th>\n",
       "      <th>no_employees_medium</th>\n",
       "      <th>no_employees_medium_large</th>\n",
       "      <th>no_employees_small</th>\n",
       "      <th>gender_female</th>\n",
       "      <th>gender_male</th>\n",
       "      <th>country_Europe</th>\n",
       "      <th>country_North America</th>\n",
       "      <th>country_United Kingdom</th>\n",
       "      <th>state_Northern State</th>\n",
       "      <th>state_Southern State</th>\n",
       "      <th>state_Western State</th>\n",
       "      <th>work_interfere_Never</th>\n",
       "      <th>work_interfere_Often</th>\n",
       "      <th>work_interfere_Rarely</th>\n",
       "      <th>work_interfere_Sometimes</th>\n",
       "      <th>benefits_No</th>\n",
       "      <th>benefits_Yes</th>\n",
       "      <th>care_options_No</th>\n",
       "      <th>care_options_Yes</th>\n",
       "      <th>wellness_program_No</th>\n",
       "      <th>wellness_program_Yes</th>\n",
       "      <th>seek_help_No</th>\n",
       "      <th>seek_help_Yes</th>\n",
       "      <th>anonymity_No</th>\n",
       "      <th>anonymity_Yes</th>\n",
       "      <th>leave_Somewhat difficult</th>\n",
       "      <th>leave_Somewhat easy</th>\n",
       "      <th>leave_Very difficult</th>\n",
       "      <th>leave_Very easy</th>\n",
       "      <th>phys_health_consequence_No</th>\n",
       "      <th>phys_health_consequence_Yes</th>\n",
       "      <th>coworkers_No</th>\n",
       "      <th>coworkers_Yes</th>\n",
       "      <th>supervisor_No</th>\n",
       "      <th>supervisor_Yes</th>\n",
       "      <th>mental_health_interview_No</th>\n",
       "      <th>mental_health_interview_Yes</th>\n",
       "      <th>phys_health_interview_No</th>\n",
       "      <th>phys_health_interview_Yes</th>\n",
       "      <th>mental_vs_physical_No</th>\n",
       "      <th>mental_vs_physical_Yes</th>\n",
       "      <th>self_employed_No</th>\n",
       "      <th>Year</th>\n",
       "      <th>Month</th>\n",
       "      <th>Day</th>\n",
       "      <th>Dow</th>\n",
       "    </tr>\n",
       "  </thead>\n",
       "  <tbody>\n",
       "    <tr>\n",
       "      <th>0</th>\n",
       "      <td>2014-08-27</td>\n",
       "      <td>37</td>\n",
       "      <td>0</td>\n",
       "      <td>1</td>\n",
       "      <td>0</td>\n",
       "      <td>1</td>\n",
       "      <td>0</td>\n",
       "      <td>0</td>\n",
       "      <td>0</td>\n",
       "      <td>0</td>\n",
       "      <td>0</td>\n",
       "      <td>0</td>\n",
       "      <td>1</td>\n",
       "      <td>1</td>\n",
       "      <td>0</td>\n",
       "      <td>0</td>\n",
       "      <td>1</td>\n",
       "      <td>0</td>\n",
       "      <td>1</td>\n",
       "      <td>0</td>\n",
       "      <td>0</td>\n",
       "      <td>0</td>\n",
       "      <td>1</td>\n",
       "      <td>0</td>\n",
       "      <td>0</td>\n",
       "      <td>0</td>\n",
       "      <td>1</td>\n",
       "      <td>0</td>\n",
       "      <td>0</td>\n",
       "      <td>1</td>\n",
       "      <td>0</td>\n",
       "      <td>0</td>\n",
       "      <td>1</td>\n",
       "      <td>0</td>\n",
       "      <td>1</td>\n",
       "      <td>0</td>\n",
       "      <td>1</td>\n",
       "      <td>0</td>\n",
       "      <td>0</td>\n",
       "      <td>1</td>\n",
       "      <td>0</td>\n",
       "      <td>0</td>\n",
       "      <td>0</td>\n",
       "      <td>0</td>\n",
       "      <td>1</td>\n",
       "      <td>1</td>\n",
       "      <td>0</td>\n",
       "      <td>0</td>\n",
       "      <td>0</td>\n",
       "      <td>0</td>\n",
       "      <td>1</td>\n",
       "      <td>0</td>\n",
       "      <td>2014</td>\n",
       "      <td>8</td>\n",
       "      <td>27</td>\n",
       "      <td>2</td>\n",
       "    </tr>\n",
       "    <tr>\n",
       "      <th>1</th>\n",
       "      <td>2014-08-27</td>\n",
       "      <td>44</td>\n",
       "      <td>0</td>\n",
       "      <td>0</td>\n",
       "      <td>0</td>\n",
       "      <td>0</td>\n",
       "      <td>1</td>\n",
       "      <td>0</td>\n",
       "      <td>1</td>\n",
       "      <td>0</td>\n",
       "      <td>0</td>\n",
       "      <td>0</td>\n",
       "      <td>0</td>\n",
       "      <td>0</td>\n",
       "      <td>1</td>\n",
       "      <td>0</td>\n",
       "      <td>1</td>\n",
       "      <td>0</td>\n",
       "      <td>1</td>\n",
       "      <td>0</td>\n",
       "      <td>0</td>\n",
       "      <td>0</td>\n",
       "      <td>0</td>\n",
       "      <td>1</td>\n",
       "      <td>0</td>\n",
       "      <td>0</td>\n",
       "      <td>0</td>\n",
       "      <td>1</td>\n",
       "      <td>0</td>\n",
       "      <td>0</td>\n",
       "      <td>0</td>\n",
       "      <td>0</td>\n",
       "      <td>0</td>\n",
       "      <td>0</td>\n",
       "      <td>0</td>\n",
       "      <td>0</td>\n",
       "      <td>0</td>\n",
       "      <td>0</td>\n",
       "      <td>0</td>\n",
       "      <td>1</td>\n",
       "      <td>0</td>\n",
       "      <td>1</td>\n",
       "      <td>0</td>\n",
       "      <td>1</td>\n",
       "      <td>0</td>\n",
       "      <td>1</td>\n",
       "      <td>0</td>\n",
       "      <td>1</td>\n",
       "      <td>0</td>\n",
       "      <td>0</td>\n",
       "      <td>0</td>\n",
       "      <td>0</td>\n",
       "      <td>2014</td>\n",
       "      <td>8</td>\n",
       "      <td>27</td>\n",
       "      <td>2</td>\n",
       "    </tr>\n",
       "    <tr>\n",
       "      <th>2</th>\n",
       "      <td>2014-08-27</td>\n",
       "      <td>32</td>\n",
       "      <td>0</td>\n",
       "      <td>0</td>\n",
       "      <td>0</td>\n",
       "      <td>1</td>\n",
       "      <td>0</td>\n",
       "      <td>0</td>\n",
       "      <td>0</td>\n",
       "      <td>0</td>\n",
       "      <td>0</td>\n",
       "      <td>0</td>\n",
       "      <td>1</td>\n",
       "      <td>0</td>\n",
       "      <td>1</td>\n",
       "      <td>0</td>\n",
       "      <td>1</td>\n",
       "      <td>0</td>\n",
       "      <td>0</td>\n",
       "      <td>0</td>\n",
       "      <td>0</td>\n",
       "      <td>0</td>\n",
       "      <td>0</td>\n",
       "      <td>1</td>\n",
       "      <td>0</td>\n",
       "      <td>1</td>\n",
       "      <td>0</td>\n",
       "      <td>1</td>\n",
       "      <td>0</td>\n",
       "      <td>1</td>\n",
       "      <td>0</td>\n",
       "      <td>1</td>\n",
       "      <td>0</td>\n",
       "      <td>0</td>\n",
       "      <td>0</td>\n",
       "      <td>1</td>\n",
       "      <td>0</td>\n",
       "      <td>0</td>\n",
       "      <td>0</td>\n",
       "      <td>1</td>\n",
       "      <td>0</td>\n",
       "      <td>0</td>\n",
       "      <td>1</td>\n",
       "      <td>0</td>\n",
       "      <td>1</td>\n",
       "      <td>0</td>\n",
       "      <td>1</td>\n",
       "      <td>0</td>\n",
       "      <td>1</td>\n",
       "      <td>1</td>\n",
       "      <td>0</td>\n",
       "      <td>0</td>\n",
       "      <td>2014</td>\n",
       "      <td>8</td>\n",
       "      <td>27</td>\n",
       "      <td>2</td>\n",
       "    </tr>\n",
       "    <tr>\n",
       "      <th>3</th>\n",
       "      <td>2014-08-27</td>\n",
       "      <td>31</td>\n",
       "      <td>1</td>\n",
       "      <td>1</td>\n",
       "      <td>0</td>\n",
       "      <td>1</td>\n",
       "      <td>1</td>\n",
       "      <td>1</td>\n",
       "      <td>0</td>\n",
       "      <td>0</td>\n",
       "      <td>1</td>\n",
       "      <td>0</td>\n",
       "      <td>0</td>\n",
       "      <td>0</td>\n",
       "      <td>1</td>\n",
       "      <td>0</td>\n",
       "      <td>0</td>\n",
       "      <td>1</td>\n",
       "      <td>0</td>\n",
       "      <td>0</td>\n",
       "      <td>0</td>\n",
       "      <td>0</td>\n",
       "      <td>1</td>\n",
       "      <td>0</td>\n",
       "      <td>0</td>\n",
       "      <td>1</td>\n",
       "      <td>0</td>\n",
       "      <td>0</td>\n",
       "      <td>1</td>\n",
       "      <td>1</td>\n",
       "      <td>0</td>\n",
       "      <td>1</td>\n",
       "      <td>0</td>\n",
       "      <td>1</td>\n",
       "      <td>0</td>\n",
       "      <td>1</td>\n",
       "      <td>0</td>\n",
       "      <td>0</td>\n",
       "      <td>0</td>\n",
       "      <td>0</td>\n",
       "      <td>1</td>\n",
       "      <td>0</td>\n",
       "      <td>0</td>\n",
       "      <td>1</td>\n",
       "      <td>0</td>\n",
       "      <td>0</td>\n",
       "      <td>0</td>\n",
       "      <td>0</td>\n",
       "      <td>0</td>\n",
       "      <td>1</td>\n",
       "      <td>0</td>\n",
       "      <td>0</td>\n",
       "      <td>2014</td>\n",
       "      <td>8</td>\n",
       "      <td>27</td>\n",
       "      <td>2</td>\n",
       "    </tr>\n",
       "    <tr>\n",
       "      <th>4</th>\n",
       "      <td>2014-08-27</td>\n",
       "      <td>31</td>\n",
       "      <td>0</td>\n",
       "      <td>0</td>\n",
       "      <td>1</td>\n",
       "      <td>1</td>\n",
       "      <td>0</td>\n",
       "      <td>0</td>\n",
       "      <td>0</td>\n",
       "      <td>0</td>\n",
       "      <td>0</td>\n",
       "      <td>1</td>\n",
       "      <td>0</td>\n",
       "      <td>0</td>\n",
       "      <td>1</td>\n",
       "      <td>0</td>\n",
       "      <td>1</td>\n",
       "      <td>0</td>\n",
       "      <td>0</td>\n",
       "      <td>1</td>\n",
       "      <td>0</td>\n",
       "      <td>1</td>\n",
       "      <td>0</td>\n",
       "      <td>0</td>\n",
       "      <td>0</td>\n",
       "      <td>0</td>\n",
       "      <td>1</td>\n",
       "      <td>1</td>\n",
       "      <td>0</td>\n",
       "      <td>0</td>\n",
       "      <td>0</td>\n",
       "      <td>0</td>\n",
       "      <td>0</td>\n",
       "      <td>0</td>\n",
       "      <td>0</td>\n",
       "      <td>0</td>\n",
       "      <td>0</td>\n",
       "      <td>0</td>\n",
       "      <td>0</td>\n",
       "      <td>1</td>\n",
       "      <td>0</td>\n",
       "      <td>0</td>\n",
       "      <td>0</td>\n",
       "      <td>0</td>\n",
       "      <td>1</td>\n",
       "      <td>0</td>\n",
       "      <td>1</td>\n",
       "      <td>0</td>\n",
       "      <td>1</td>\n",
       "      <td>0</td>\n",
       "      <td>0</td>\n",
       "      <td>0</td>\n",
       "      <td>2014</td>\n",
       "      <td>8</td>\n",
       "      <td>27</td>\n",
       "      <td>2</td>\n",
       "    </tr>\n",
       "  </tbody>\n",
       "</table>\n",
       "</div>"
      ],
      "text/plain": [
       "   timestamp  age  family_history  treatment  remote_work  tech_company  \\\n",
       "0 2014-08-27   37               0          1            0             1   \n",
       "1 2014-08-27   44               0          0            0             0   \n",
       "2 2014-08-27   32               0          0            0             1   \n",
       "3 2014-08-27   31               1          1            0             1   \n",
       "4 2014-08-27   31               0          0            1             1   \n",
       "\n",
       "   mental_health_consequence  obs_consequence  no_employees_extra_large  \\\n",
       "0                          0                0                         0   \n",
       "1                          1                0                         1   \n",
       "2                          0                0                         0   \n",
       "3                          1                1                         0   \n",
       "4                          0                0                         0   \n",
       "\n",
       "   no_employees_large  no_employees_medium  no_employees_medium_large  \\\n",
       "0                   0                    0                          0   \n",
       "1                   0                    0                          0   \n",
       "2                   0                    0                          0   \n",
       "3                   0                    1                          0   \n",
       "4                   0                    0                          1   \n",
       "\n",
       "   no_employees_small  gender_female  gender_male  country_Europe  \\\n",
       "0                   1              1            0               0   \n",
       "1                   0              0            1               0   \n",
       "2                   1              0            1               0   \n",
       "3                   0              0            1               0   \n",
       "4                   0              0            1               0   \n",
       "\n",
       "   country_North America  country_United Kingdom  state_Northern State  \\\n",
       "0                      1                       0                     1   \n",
       "1                      1                       0                     1   \n",
       "2                      1                       0                     0   \n",
       "3                      0                       1                     0   \n",
       "4                      1                       0                     0   \n",
       "\n",
       "   state_Southern State  state_Western State  work_interfere_Never  \\\n",
       "0                     0                    0                     0   \n",
       "1                     0                    0                     0   \n",
       "2                     0                    0                     0   \n",
       "3                     0                    0                     0   \n",
       "4                     1                    0                     1   \n",
       "\n",
       "   work_interfere_Often  work_interfere_Rarely  work_interfere_Sometimes  \\\n",
       "0                     1                      0                         0   \n",
       "1                     0                      1                         0   \n",
       "2                     0                      1                         0   \n",
       "3                     1                      0                         0   \n",
       "4                     0                      0                         0   \n",
       "\n",
       "   benefits_No  benefits_Yes  care_options_No  care_options_Yes  \\\n",
       "0            0             1                0                 0   \n",
       "1            0             0                1                 0   \n",
       "2            1             0                1                 0   \n",
       "3            1             0                0                 1   \n",
       "4            0             1                1                 0   \n",
       "\n",
       "   wellness_program_No  wellness_program_Yes  seek_help_No  seek_help_Yes  \\\n",
       "0                    1                     0             0              1   \n",
       "1                    0                     0             0              0   \n",
       "2                    1                     0             1              0   \n",
       "3                    1                     0             1              0   \n",
       "4                    0                     0             0              0   \n",
       "\n",
       "   anonymity_No  anonymity_Yes  leave_Somewhat difficult  leave_Somewhat easy  \\\n",
       "0             0              1                         0                    1   \n",
       "1             0              0                         0                    0   \n",
       "2             0              0                         1                    0   \n",
       "3             1              0                         1                    0   \n",
       "4             0              0                         0                    0   \n",
       "\n",
       "   leave_Very difficult  leave_Very easy  phys_health_consequence_No  \\\n",
       "0                     0                0                           1   \n",
       "1                     0                0                           1   \n",
       "2                     0                0                           1   \n",
       "3                     0                0                           0   \n",
       "4                     0                0                           1   \n",
       "\n",
       "   phys_health_consequence_Yes  coworkers_No  coworkers_Yes  supervisor_No  \\\n",
       "0                            0             0              0              0   \n",
       "1                            0             1              0              1   \n",
       "2                            0             0              1              0   \n",
       "3                            1             0              0              1   \n",
       "4                            0             0              0              0   \n",
       "\n",
       "   supervisor_Yes  mental_health_interview_No  mental_health_interview_Yes  \\\n",
       "0               1                           1                            0   \n",
       "1               0                           1                            0   \n",
       "2               1                           0                            1   \n",
       "3               0                           0                            0   \n",
       "4               1                           0                            1   \n",
       "\n",
       "   phys_health_interview_No  phys_health_interview_Yes  mental_vs_physical_No  \\\n",
       "0                         0                          0                      0   \n",
       "1                         1                          0                      0   \n",
       "2                         0                          1                      1   \n",
       "3                         0                          0                      1   \n",
       "4                         0                          1                      0   \n",
       "\n",
       "   mental_vs_physical_Yes  self_employed_No  Year  Month  Day  Dow  \n",
       "0                       1                 0  2014      8   27    2  \n",
       "1                       0                 0  2014      8   27    2  \n",
       "2                       0                 0  2014      8   27    2  \n",
       "3                       0                 0  2014      8   27    2  \n",
       "4                       0                 0  2014      8   27    2  "
      ]
     },
     "execution_count": 24,
     "metadata": {},
     "output_type": "execute_result"
    }
   ],
   "source": [
    "# Final Dataset to begin generating models.\n",
    "df.head(5)"
   ]
  },
  {
   "cell_type": "markdown",
   "metadata": {},
   "source": [
    "## Logistic Regression"
   ]
  },
  {
   "cell_type": "code",
   "execution_count": 25,
   "metadata": {},
   "outputs": [],
   "source": [
    "#generating our X and Y variables.\n",
    "x=df.drop(['timestamp','mental_health_consequence'],axis=1)\n",
    "y=df.mental_health_consequence"
   ]
  },
  {
   "cell_type": "code",
   "execution_count": 26,
   "metadata": {},
   "outputs": [],
   "source": [
    "# Creating our first split\n",
    "X_train, X_test, y_train, y_test = train_test_split(x, y, random_state=2020,test_size=0.2)"
   ]
  },
  {
   "cell_type": "code",
   "execution_count": 27,
   "metadata": {},
   "outputs": [
    {
     "data": {
      "text/plain": [
       "LogisticRegression(class_weight='balanced')"
      ]
     },
     "execution_count": 27,
     "metadata": {},
     "output_type": "execute_result"
    }
   ],
   "source": [
    "# Fitting our model\n",
    "from sklearn.linear_model import LogisticRegression\n",
    "lr=LogisticRegression(class_weight='balanced')\n",
    "lr.fit(X_train,y_train)"
   ]
  },
  {
   "cell_type": "code",
   "execution_count": 28,
   "metadata": {},
   "outputs": [],
   "source": [
    "# Generating Predictions\n",
    "y_pred_lr = lr.predict(X_test)"
   ]
  },
  {
   "cell_type": "code",
   "execution_count": 29,
   "metadata": {},
   "outputs": [
    {
     "name": "stdout",
     "output_type": "stream",
     "text": [
      "Logistic Regression Accuracy: 0.8597285067873304\n",
      "Logistic Regression Accuracy: 0.8904593639575972\n"
     ]
    }
   ],
   "source": [
    "# Pulling out our scores.\n",
    "from sklearn import metrics\n",
    "print('Logistic Regression Accuracy: {}'.format(metrics.accuracy_score(y_test, y_pred_lr)))\n",
    "print('Logistic Regression Accuracy: {}'.format(metrics.f1_score(y_test,y_pred_lr)))"
   ]
  },
  {
   "cell_type": "code",
   "execution_count": 30,
   "metadata": {},
   "outputs": [
    {
     "data": {
      "text/html": [
       "<div>\n",
       "<style scoped>\n",
       "    .dataframe tbody tr th:only-of-type {\n",
       "        vertical-align: middle;\n",
       "    }\n",
       "\n",
       "    .dataframe tbody tr th {\n",
       "        vertical-align: top;\n",
       "    }\n",
       "\n",
       "    .dataframe thead th {\n",
       "        text-align: right;\n",
       "    }\n",
       "</style>\n",
       "<table border=\"1\" class=\"dataframe\">\n",
       "  <thead>\n",
       "    <tr style=\"text-align: right;\">\n",
       "      <th></th>\n",
       "      <th>Coeficients</th>\n",
       "    </tr>\n",
       "  </thead>\n",
       "  <tbody>\n",
       "    <tr>\n",
       "      <th>supervisor_No</th>\n",
       "      <td>0.893443</td>\n",
       "    </tr>\n",
       "    <tr>\n",
       "      <th>mental_vs_physical_No</th>\n",
       "      <td>0.615651</td>\n",
       "    </tr>\n",
       "    <tr>\n",
       "      <th>mental_health_interview_No</th>\n",
       "      <td>0.542782</td>\n",
       "    </tr>\n",
       "    <tr>\n",
       "      <th>coworkers_No</th>\n",
       "      <td>0.522709</td>\n",
       "    </tr>\n",
       "    <tr>\n",
       "      <th>benefits_Yes</th>\n",
       "      <td>0.497532</td>\n",
       "    </tr>\n",
       "  </tbody>\n",
       "</table>\n",
       "</div>"
      ],
      "text/plain": [
       "                            Coeficients\n",
       "supervisor_No                  0.893443\n",
       "mental_vs_physical_No          0.615651\n",
       "mental_health_interview_No     0.542782\n",
       "coworkers_No                   0.522709\n",
       "benefits_Yes                   0.497532"
      ]
     },
     "execution_count": 30,
     "metadata": {},
     "output_type": "execute_result"
    }
   ],
   "source": [
    "# Creating a DF were we can identify which coeficient goes with each feature.\n",
    "coef=list(lr.coef_[0])\n",
    "col=x.columns\n",
    "final_coef={}\n",
    "for i in range(len(coef)):\n",
    "    final_coef[col[i]]=coef[i]\n",
    "final_coef=pd.DataFrame(final_coef,index=[0]).T\n",
    "final_coef.columns=['Coeficients']\n",
    "final_coef=final_coef.sort_values(ascending=False,by='Coeficients').head(20)\n",
    "final_coef.head(5)"
   ]
  },
  {
   "cell_type": "markdown",
   "metadata": {},
   "source": [
    "### Logistic Regression with Recursive Feature Elimination"
   ]
  },
  {
   "cell_type": "code",
   "execution_count": 31,
   "metadata": {},
   "outputs": [],
   "source": [
    "# Creating our RFECV\n",
    "from sklearn.feature_selection import RFECV\n",
    "\n",
    "lr = LogisticRegression()\n",
    "selector = RFECV(estimator=lr, step=1, cv=5, scoring='f1', n_jobs=-1)\n",
    "selector.fit(X_train, y_train)\n",
    "rfe_features = x.columns[(selector.get_support())]\n"
   ]
  },
  {
   "cell_type": "code",
   "execution_count": 32,
   "metadata": {},
   "outputs": [],
   "source": [
    "# Re creating our X and Y variables\n",
    "X = df[rfe_features]\n",
    "Y= y.copy()"
   ]
  },
  {
   "cell_type": "code",
   "execution_count": 33,
   "metadata": {},
   "outputs": [],
   "source": [
    "# Instantiating our new Logistic Regression model\n",
    "lr2=LogisticRegression(class_weight=\"balanced\")"
   ]
  },
  {
   "cell_type": "code",
   "execution_count": 34,
   "metadata": {},
   "outputs": [],
   "source": [
    "# Re creating our splits with new features.\n",
    "X_train2,X_test2,y_train2,y_test2=train_test_split(X,Y,random_state=2020, test_size=.2)"
   ]
  },
  {
   "cell_type": "code",
   "execution_count": 35,
   "metadata": {},
   "outputs": [],
   "source": [
    "# Creating our new predictions.\n",
    "lr2.fit(X_train2,y_train2)\n",
    "\n",
    "y_predict_lr2=lr2.predict(X_test2)"
   ]
  },
  {
   "cell_type": "code",
   "execution_count": 36,
   "metadata": {},
   "outputs": [
    {
     "name": "stdout",
     "output_type": "stream",
     "text": [
      "Logistic Regression Accuracy: 0.8687782805429864\n",
      "Logistic Regression Accuracy: 0.8960573476702508\n"
     ]
    }
   ],
   "source": [
    "# Pulling out our scores \n",
    "print('Logistic Regression Accuracy: {}'.format(metrics.accuracy_score(y_test2, y_predict_lr2)))\n",
    "print('Logistic Regression Accuracy: {}'.format(metrics.f1_score(y_test2,y_predict_lr2)))"
   ]
  },
  {
   "cell_type": "code",
   "execution_count": 37,
   "metadata": {
    "scrolled": true
   },
   "outputs": [
    {
     "data": {
      "text/html": [
       "<div>\n",
       "<style scoped>\n",
       "    .dataframe tbody tr th:only-of-type {\n",
       "        vertical-align: middle;\n",
       "    }\n",
       "\n",
       "    .dataframe tbody tr th {\n",
       "        vertical-align: top;\n",
       "    }\n",
       "\n",
       "    .dataframe thead th {\n",
       "        text-align: right;\n",
       "    }\n",
       "</style>\n",
       "<table border=\"1\" class=\"dataframe\">\n",
       "  <thead>\n",
       "    <tr style=\"text-align: right;\">\n",
       "      <th></th>\n",
       "      <th>Coeficients</th>\n",
       "    </tr>\n",
       "  </thead>\n",
       "  <tbody>\n",
       "    <tr>\n",
       "      <th>leave_Very difficult</th>\n",
       "      <td>1.461061</td>\n",
       "    </tr>\n",
       "    <tr>\n",
       "      <th>supervisor_No</th>\n",
       "      <td>1.055773</td>\n",
       "    </tr>\n",
       "    <tr>\n",
       "      <th>work_interfere_Often</th>\n",
       "      <td>0.950929</td>\n",
       "    </tr>\n",
       "    <tr>\n",
       "      <th>mental_health_interview_No</th>\n",
       "      <td>0.814949</td>\n",
       "    </tr>\n",
       "    <tr>\n",
       "      <th>anonymity_No</th>\n",
       "      <td>0.787106</td>\n",
       "    </tr>\n",
       "  </tbody>\n",
       "</table>\n",
       "</div>"
      ],
      "text/plain": [
       "                            Coeficients\n",
       "leave_Very difficult           1.461061\n",
       "supervisor_No                  1.055773\n",
       "work_interfere_Often           0.950929\n",
       "mental_health_interview_No     0.814949\n",
       "anonymity_No                   0.787106"
      ]
     },
     "execution_count": 37,
     "metadata": {},
     "output_type": "execute_result"
    }
   ],
   "source": [
    "# Creating a DF were we can identify which coeficient goes with each feature.\n",
    "coef=list(lr2.coef_[0])\n",
    "col=X.columns\n",
    "final_coef_rfe={}\n",
    "for i in range(len(coef)):\n",
    "    final_coef_rfe[col[i]]=coef[i]\n",
    "final_coef_rfe=pd.DataFrame(final_coef_rfe,index=[0]).T\n",
    "final_coef_rfe.columns=['Coeficients']\n",
    "final_coef_rfe=final_coef_rfe.sort_values(ascending=False,by='Coeficients')\n",
    "final_coef_rfe.head(5)"
   ]
  },
  {
   "cell_type": "markdown",
   "metadata": {},
   "source": [
    "### Decision Tree"
   ]
  },
  {
   "cell_type": "code",
   "execution_count": 38,
   "metadata": {},
   "outputs": [],
   "source": [
    "# Importing our Decision Tree \n",
    "from sklearn.tree import DecisionTreeClassifier"
   ]
  },
  {
   "cell_type": "code",
   "execution_count": 39,
   "metadata": {},
   "outputs": [
    {
     "name": "stdout",
     "output_type": "stream",
     "text": [
      "0.8377358490566039\n"
     ]
    }
   ],
   "source": [
    "# Fitting, predicting and generating our F1 Score\n",
    "dtc = DecisionTreeClassifier(max_depth=5, class_weight='balanced')\n",
    "\n",
    "dtc.fit(X_train, y_train)\n",
    "\n",
    "dtc_preds  = dtc.predict(X_test)\n",
    "\n",
    "dtc_f1 = metrics.f1_score(y_test, dtc_preds)\n",
    "\n",
    "print(dtc_f1)"
   ]
  },
  {
   "cell_type": "markdown",
   "metadata": {},
   "source": [
    "Using RFECV on Decition Tree"
   ]
  },
  {
   "cell_type": "code",
   "execution_count": 40,
   "metadata": {},
   "outputs": [],
   "source": [
    "# Using RFECV on Decision tree to generate new features.\n",
    "dt2 = DecisionTreeClassifier(class_weight='balanced')\n",
    "selector2 = RFECV(estimator=dt2, step=1, cv=5, scoring='f1', n_jobs=-1)\n",
    "selector2.fit(X_train, y_train)\n",
    "rfe_features2 = x.columns[(selector.get_support())]"
   ]
  },
  {
   "cell_type": "code",
   "execution_count": 41,
   "metadata": {},
   "outputs": [
    {
     "name": "stdout",
     "output_type": "stream",
     "text": [
      "0.8475836431226766\n"
     ]
    }
   ],
   "source": [
    "# Fitting the new features, predicting and generating our F1 Score\n",
    "dtc_RFE = DecisionTreeClassifier(max_depth=5, class_weight='balanced')\n",
    "\n",
    "dtc_RFE.fit(X_train2, y_train2)\n",
    "\n",
    "dtc_RFE_preds2 = dtc_RFE.predict(X_test2)\n",
    "\n",
    "dtc_RFE_f1 = metrics.f1_score(y_test2, dtc_RFE_preds2)\n",
    "\n",
    "print(dtc_RFE_f1)"
   ]
  },
  {
   "cell_type": "markdown",
   "metadata": {},
   "source": [
    "### Decision Tree Grid Search "
   ]
  },
  {
   "cell_type": "code",
   "execution_count": 42,
   "metadata": {},
   "outputs": [],
   "source": [
    "# importing Grid Search\n",
    "from sklearn.model_selection import GridSearchCV"
   ]
  },
  {
   "cell_type": "code",
   "execution_count": 43,
   "metadata": {},
   "outputs": [],
   "source": [
    "# Choosing our Parameters.\n",
    "param_grid = {\n",
    "    'max_depth': range(1,21,1),\n",
    "    'criterion':['gini', 'entropy'],\n",
    "    'min_samples_split': range(1,11,1)\n",
    "}"
   ]
  },
  {
   "cell_type": "code",
   "execution_count": 44,
   "metadata": {},
   "outputs": [],
   "source": [
    "# Instantiating our Grid Search \n",
    "grid_dt = GridSearchCV(dtc, param_grid, cv=5, scoring='f1', verbose=1, n_jobs=-1)"
   ]
  },
  {
   "cell_type": "code",
   "execution_count": 45,
   "metadata": {},
   "outputs": [
    {
     "name": "stdout",
     "output_type": "stream",
     "text": [
      "Fitting 5 folds for each of 400 candidates, totalling 2000 fits\n"
     ]
    },
    {
     "name": "stderr",
     "output_type": "stream",
     "text": [
      "[Parallel(n_jobs=-1)]: Using backend LokyBackend with 8 concurrent workers.\n",
      "[Parallel(n_jobs=-1)]: Done  34 tasks      | elapsed:    1.5s\n",
      "[Parallel(n_jobs=-1)]: Done 976 tasks      | elapsed:    5.4s\n",
      "[Parallel(n_jobs=-1)]: Done 2000 out of 2000 | elapsed:    9.5s finished\n"
     ]
    },
    {
     "data": {
      "text/plain": [
       "GridSearchCV(cv=5,\n",
       "             estimator=DecisionTreeClassifier(class_weight='balanced',\n",
       "                                              max_depth=5),\n",
       "             n_jobs=-1,\n",
       "             param_grid={'criterion': ['gini', 'entropy'],\n",
       "                         'max_depth': range(1, 21),\n",
       "                         'min_samples_split': range(1, 11)},\n",
       "             scoring='f1', verbose=1)"
      ]
     },
     "execution_count": 45,
     "metadata": {},
     "output_type": "execute_result"
    }
   ],
   "source": [
    "# Fitting our model\n",
    "grid_dt.fit(X_train, y_train)"
   ]
  },
  {
   "cell_type": "code",
   "execution_count": 46,
   "metadata": {},
   "outputs": [
    {
     "name": "stdout",
     "output_type": "stream",
     "text": [
      "0.8429441657506296\n",
      "{'criterion': 'gini', 'max_depth': 2, 'min_samples_split': 2}\n",
      "DecisionTreeClassifier(class_weight='balanced', max_depth=2)\n"
     ]
    }
   ],
   "source": [
    "# Reviewing our results.\n",
    "print(grid_dt.best_score_)\n",
    "print(grid_dt.best_params_)\n",
    "print(grid_dt.best_estimator_)"
   ]
  },
  {
   "cell_type": "markdown",
   "metadata": {},
   "source": [
    "## Final Results"
   ]
  },
  {
   "cell_type": "code",
   "execution_count": 47,
   "metadata": {
    "scrolled": true
   },
   "outputs": [
    {
     "name": "stdout",
     "output_type": "stream",
     "text": [
      "Decition Tree F1: 0.8377358490566039\n",
      "\n",
      "\n",
      "Decition Tree RFE F1: 0.8475836431226766\n",
      "\n",
      "\n",
      "Decition Tree Grid Search F1: 0.8429441657506296\n",
      "\n",
      "\n",
      "Logistic Regression Without RFE F1: 0.8904593639575972\n",
      "\n",
      "\n",
      "Logistic Regression With RFE F1: 0.8960573476702508\n"
     ]
    }
   ],
   "source": [
    "print('Decition Tree F1: {}'.format(dtc_f1))\n",
    "print('\\n')\n",
    "print('Decition Tree RFE F1: {}'.format(dtc_RFE_f1))\n",
    "print('\\n')\n",
    "print('Decition Tree Grid Search F1: {}'.format(grid_dt.best_score_))\n",
    "print('\\n')\n",
    "print('Logistic Regression Without RFE F1: {}'.format(metrics.f1_score(y_test,y_pred_lr)))\n",
    "print('\\n')\n",
    "print('Logistic Regression With RFE F1: {}'.format(metrics.f1_score(y_test2,y_predict_lr2)))"
   ]
  },
  {
   "cell_type": "markdown",
   "metadata": {},
   "source": [
    "## Final Model"
   ]
  },
  {
   "cell_type": "code",
   "execution_count": 48,
   "metadata": {},
   "outputs": [
    {
     "name": "stdout",
     "output_type": "stream",
     "text": [
      ">> Logistic Regression With RFE F1: 0.8960573476702508 <<\n"
     ]
    }
   ],
   "source": [
    "print('>> Logistic Regression With RFE F1: {} <<'.format(metrics.f1_score(y_test2,y_predict_lr2)))"
   ]
  },
  {
   "cell_type": "code",
   "execution_count": 49,
   "metadata": {},
   "outputs": [
    {
     "name": "stdout",
     "output_type": "stream",
     "text": [
      "                            Coeficients\n",
      "supervisor_No                  0.893443\n",
      "mental_vs_physical_No          0.615651\n",
      "mental_health_interview_No     0.542782\n",
      "coworkers_No                   0.522709\n",
      "benefits_Yes                   0.497532\n",
      "leave_Very difficult           0.402523\n",
      "work_interfere_Often           0.381609\n",
      "obs_consequence                0.356680\n",
      "treatment                      0.309000\n",
      "state_Southern State           0.267912\n",
      "\n",
      "\n",
      "                            Coeficients\n",
      "leave_Very difficult           1.461061\n",
      "supervisor_No                  1.055773\n",
      "work_interfere_Often           0.950929\n",
      "mental_health_interview_No     0.814949\n",
      "anonymity_No                   0.787106\n",
      "benefits_Yes                   0.758548\n",
      "country_United Kingdom         0.664014\n",
      "state_Southern State           0.660779\n",
      "phys_health_interview_Yes      0.633676\n",
      "obs_consequence                0.553888\n"
     ]
    }
   ],
   "source": [
    "# There is an interesting difference between the coefficients and features when the Logistic regression was ran\n",
    "# without RFE and with RFE\n",
    "print(final_coef.head(10))\n",
    "print('\\n')\n",
    "print(final_coef_rfe.head(10))"
   ]
  },
  {
   "cell_type": "code",
   "execution_count": 50,
   "metadata": {},
   "outputs": [
    {
     "ename": "ValueError",
     "evalue": "Length mismatch: Expected axis has 21 elements, new values have 25 elements",
     "output_type": "error",
     "traceback": [
      "\u001b[0;31m---------------------------------------------------------------------------\u001b[0m",
      "\u001b[0;31mValueError\u001b[0m                                Traceback (most recent call last)",
      "\u001b[0;32m<ipython-input-50-2a5bb42f91d5>\u001b[0m in \u001b[0;36m<module>\u001b[0;34m()\u001b[0m\n\u001b[1;32m      9\u001b[0m        \u001b[0;34m'Mental vs Physical (Yes)'\u001b[0m\u001b[0;34m,\u001b[0m \u001b[0;34m'Med leave for MH (Very Easy)'\u001b[0m\u001b[0;34m,\u001b[0m\u001b[0;34m\u001b[0m\u001b[0;34m\u001b[0m\u001b[0m\n\u001b[1;32m     10\u001b[0m        \u001b[0;34m'Dis MH in Interview (Yes)'\u001b[0m\u001b[0;34m,\u001b[0m \u001b[0;34m'Dis MH with Supervisor (Yes)'\u001b[0m\u001b[0;34m,\u001b[0m\u001b[0;34m\u001b[0m\u001b[0;34m\u001b[0m\u001b[0m\n\u001b[0;32m---> 11\u001b[0;31m        \"Physical Hlth Consequence (No)\"]\n\u001b[0m",
      "\u001b[0;32m/opt/anaconda3/envs/learn-env/lib/python3.6/site-packages/pandas/core/generic.py\u001b[0m in \u001b[0;36m__setattr__\u001b[0;34m(self, name, value)\u001b[0m\n\u001b[1;32m   5190\u001b[0m         \u001b[0;32mtry\u001b[0m\u001b[0;34m:\u001b[0m\u001b[0;34m\u001b[0m\u001b[0;34m\u001b[0m\u001b[0m\n\u001b[1;32m   5191\u001b[0m             \u001b[0mobject\u001b[0m\u001b[0;34m.\u001b[0m\u001b[0m__getattribute__\u001b[0m\u001b[0;34m(\u001b[0m\u001b[0mself\u001b[0m\u001b[0;34m,\u001b[0m \u001b[0mname\u001b[0m\u001b[0;34m)\u001b[0m\u001b[0;34m\u001b[0m\u001b[0;34m\u001b[0m\u001b[0m\n\u001b[0;32m-> 5192\u001b[0;31m             \u001b[0;32mreturn\u001b[0m \u001b[0mobject\u001b[0m\u001b[0;34m.\u001b[0m\u001b[0m__setattr__\u001b[0m\u001b[0;34m(\u001b[0m\u001b[0mself\u001b[0m\u001b[0;34m,\u001b[0m \u001b[0mname\u001b[0m\u001b[0;34m,\u001b[0m \u001b[0mvalue\u001b[0m\u001b[0;34m)\u001b[0m\u001b[0;34m\u001b[0m\u001b[0;34m\u001b[0m\u001b[0m\n\u001b[0m\u001b[1;32m   5193\u001b[0m         \u001b[0;32mexcept\u001b[0m \u001b[0mAttributeError\u001b[0m\u001b[0;34m:\u001b[0m\u001b[0;34m\u001b[0m\u001b[0;34m\u001b[0m\u001b[0m\n\u001b[1;32m   5194\u001b[0m             \u001b[0;32mpass\u001b[0m\u001b[0;34m\u001b[0m\u001b[0;34m\u001b[0m\u001b[0m\n",
      "\u001b[0;32mpandas/_libs/properties.pyx\u001b[0m in \u001b[0;36mpandas._libs.properties.AxisProperty.__set__\u001b[0;34m()\u001b[0m\n",
      "\u001b[0;32m/opt/anaconda3/envs/learn-env/lib/python3.6/site-packages/pandas/core/generic.py\u001b[0m in \u001b[0;36m_set_axis\u001b[0;34m(self, axis, labels)\u001b[0m\n\u001b[1;32m    688\u001b[0m \u001b[0;34m\u001b[0m\u001b[0m\n\u001b[1;32m    689\u001b[0m     \u001b[0;32mdef\u001b[0m \u001b[0m_set_axis\u001b[0m\u001b[0;34m(\u001b[0m\u001b[0mself\u001b[0m\u001b[0;34m,\u001b[0m \u001b[0maxis\u001b[0m\u001b[0;34m,\u001b[0m \u001b[0mlabels\u001b[0m\u001b[0;34m)\u001b[0m\u001b[0;34m:\u001b[0m\u001b[0;34m\u001b[0m\u001b[0;34m\u001b[0m\u001b[0m\n\u001b[0;32m--> 690\u001b[0;31m         \u001b[0mself\u001b[0m\u001b[0;34m.\u001b[0m\u001b[0m_data\u001b[0m\u001b[0;34m.\u001b[0m\u001b[0mset_axis\u001b[0m\u001b[0;34m(\u001b[0m\u001b[0maxis\u001b[0m\u001b[0;34m,\u001b[0m \u001b[0mlabels\u001b[0m\u001b[0;34m)\u001b[0m\u001b[0;34m\u001b[0m\u001b[0;34m\u001b[0m\u001b[0m\n\u001b[0m\u001b[1;32m    691\u001b[0m         \u001b[0mself\u001b[0m\u001b[0;34m.\u001b[0m\u001b[0m_clear_item_cache\u001b[0m\u001b[0;34m(\u001b[0m\u001b[0;34m)\u001b[0m\u001b[0;34m\u001b[0m\u001b[0;34m\u001b[0m\u001b[0m\n\u001b[1;32m    692\u001b[0m \u001b[0;34m\u001b[0m\u001b[0m\n",
      "\u001b[0;32m/opt/anaconda3/envs/learn-env/lib/python3.6/site-packages/pandas/core/internals/managers.py\u001b[0m in \u001b[0;36mset_axis\u001b[0;34m(self, axis, new_labels)\u001b[0m\n\u001b[1;32m    181\u001b[0m             raise ValueError(\n\u001b[1;32m    182\u001b[0m                 \u001b[0;34m\"Length mismatch: Expected axis has {old} elements, new \"\u001b[0m\u001b[0;34m\u001b[0m\u001b[0;34m\u001b[0m\u001b[0m\n\u001b[0;32m--> 183\u001b[0;31m                 \u001b[0;34m\"values have {new} elements\"\u001b[0m\u001b[0;34m.\u001b[0m\u001b[0mformat\u001b[0m\u001b[0;34m(\u001b[0m\u001b[0mold\u001b[0m\u001b[0;34m=\u001b[0m\u001b[0mold_len\u001b[0m\u001b[0;34m,\u001b[0m \u001b[0mnew\u001b[0m\u001b[0;34m=\u001b[0m\u001b[0mnew_len\u001b[0m\u001b[0;34m)\u001b[0m\u001b[0;34m\u001b[0m\u001b[0;34m\u001b[0m\u001b[0m\n\u001b[0m\u001b[1;32m    184\u001b[0m             )\n\u001b[1;32m    185\u001b[0m \u001b[0;34m\u001b[0m\u001b[0m\n",
      "\u001b[0;31mValueError\u001b[0m: Length mismatch: Expected axis has 21 elements, new values have 25 elements"
     ]
    }
   ],
   "source": [
    "# Renaming the coeficients so we are able to interpret them in graphics \n",
    "final_coef_rfe.index=['Med leave for MH (Very Difficult)', 'Work Interference (Often)', 'Dis Supervisor (No)',\n",
    "       'MH Benefits (Yes)','Anonymity Protection (No)', 'Dis MH in Interview (No)',\n",
    "       'United Kingdom', 'Southern State',  'European Country',\n",
    "       'Self Employed (No)', 'Work Interfere (Sometimes)',\n",
    "       'Dis PH in Interview (Yes)', \"Obs Negative Consequesnce at Work\",'Western State',\n",
    "        'Mental vs Physical (No)', 'Dis MH with Coworkers (No)', 'Med leave for MH (Somewhat Easy)',\n",
    "       'Med leave for MH (Somewhat Difficult)', 'Tech Company (Yes)', 'MH Resourses (Yes)',\n",
    "       'Mental vs Physical (Yes)', 'Med leave for MH (Very Easy)',\n",
    "       'Dis MH in Interview (Yes)', 'Dis MH with Supervisor (Yes)',\n",
    "       \"Physical Hlth Consequence (No)\"]"
   ]
  },
  {
   "cell_type": "code",
   "execution_count": null,
   "metadata": {
    "scrolled": true
   },
   "outputs": [],
   "source": [
    "# Final coefficients to interpret.\n",
    "final_coef_rfe"
   ]
  },
  {
   "cell_type": "code",
   "execution_count": null,
   "metadata": {},
   "outputs": [],
   "source": [
    "# Top 5 features that influenced our Y (yes) prediction\n",
    "plt.figure(figsize=(15,10))\n",
    "sns.set('talk')\n",
    "top=final_coef_rfe.head(5).copy()\n",
    "ax=sns.barplot(x=top.Coeficients,y=top.index,orient='h',palette=\"vlag\",ci=None)\n",
    "ax.set_xlabel('Size of Importance')\n",
    "ax.set_title('Features',fontsize=30)\n",
    "plt.savefig('./images/top_5_features_yes', dpi=300)"
   ]
  },
  {
   "cell_type": "code",
   "execution_count": null,
   "metadata": {},
   "outputs": [],
   "source": [
    "# Top 5 features that influenced our N (no) prediction\n",
    "plt.figure(figsize=(15,10))\n",
    "sns.set('talk')\n",
    "bottom=final_coef_rfe.tail(5).copy()\n",
    "ax=sns.barplot(x=bottom.Coeficients,y=bottom.index,orient='h',palette=\"vlag\",ci=None)\n",
    "ax.set_xlabel('Size of Importance')\n",
    "ax.set_title('Features',fontsize=30)\n",
    "plt.savefig('./images/top_5_no_features', dpi=300)"
   ]
  },
  {
   "cell_type": "code",
   "execution_count": null,
   "metadata": {},
   "outputs": [],
   "source": [
    "plt.figure(figsize=(15,10))\n",
    "sns.set('talk')\n",
    "ax=sns.barplot(x=final_coef_rfe.Coeficients,y=final_coef_rfe.index,orient='h',palette=\"vlag\",ci=None)\n",
    "ax.set_xlabel('Size of Importance')\n",
    "ax.set_title('Features',fontsize=30)\n",
    "plt.savefig('./images/final_features_coeff_all', dpi=300)"
   ]
  },
  {
   "cell_type": "code",
   "execution_count": null,
   "metadata": {},
   "outputs": [],
   "source": []
  }
 ],
 "metadata": {
  "kernelspec": {
   "display_name": "Python 3",
   "language": "python",
   "name": "python3"
  },
  "language_info": {
   "codemirror_mode": {
    "name": "ipython",
    "version": 3
   },
   "file_extension": ".py",
   "mimetype": "text/x-python",
   "name": "python",
   "nbconvert_exporter": "python",
   "pygments_lexer": "ipython3",
   "version": "3.6.9"
  }
 },
 "nbformat": 4,
 "nbformat_minor": 4
}
