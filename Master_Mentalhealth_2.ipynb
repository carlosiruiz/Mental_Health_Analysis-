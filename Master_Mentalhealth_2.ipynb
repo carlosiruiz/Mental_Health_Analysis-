{
 "cells": [
  {
   "cell_type": "markdown",
   "metadata": {},
   "source": [
    "## Mental Health in the Tech Industry"
   ]
  },
  {
   "cell_type": "code",
   "execution_count": 1,
   "metadata": {},
   "outputs": [],
   "source": [
    "import pandas as pd\n",
    "import numpy as np\n",
    "from matplotlib import pyplot as plt\n",
    "from sklearn.model_selection import train_test_split\n",
    "from sklearn import metrics\n",
    "from sklearn.feature_selection import RFECV\n",
    "import warnings\n",
    "import seaborn as sns\n",
    "plt.style.use('seaborn')\n",
    "\n",
    "warnings.filterwarnings(\"ignore\")\n",
    "\n",
    "pd.set_option('display.max_columns', 100)"
   ]
  },
  {
   "cell_type": "code",
   "execution_count": 2,
   "metadata": {},
   "outputs": [],
   "source": [
    "#Loading Data \n",
    "df=pd.read_csv('./data/survey.csv')"
   ]
  },
  {
   "cell_type": "code",
   "execution_count": 3,
   "metadata": {},
   "outputs": [],
   "source": [
    "# Fixing column Names\n",
    "df.columns=[x.lower() for x in df.columns]"
   ]
  },
  {
   "cell_type": "code",
   "execution_count": 4,
   "metadata": {},
   "outputs": [],
   "source": [
    "# Dropping self employed since its not relevant to the buisiness question.\n",
    "df.drop(list(df[df.self_employed=='Yes'].index),inplace=True)\n",
    "df.drop('comments',axis=1,inplace=True)"
   ]
  },
  {
   "cell_type": "code",
   "execution_count": 5,
   "metadata": {},
   "outputs": [],
   "source": [
    "# Cleaning the datetime column\n",
    "df['timestamp']=[\" \".join(x[:-9].split('-')).replace(\" \",\"-\") for x in df.timestamp]"
   ]
  },
  {
   "cell_type": "code",
   "execution_count": 6,
   "metadata": {},
   "outputs": [],
   "source": [
    "# make all answers lowercase\n",
    "df.gender = df.gender.str.lower()\n",
    "\n",
    "# create three lists male, female and other of all the entries\n",
    "male = [\"male\", \"m\", \"male-ish\", \"maile\", \"mal\", \"male (cis)\", \"make\", \"male \", \"man\",\"msle\", \"mail\", \"malr\",\"cis man\", \"cis male\"]\n",
    "female = [\"cis female\", \"f\", \"female\", \"woman\", \"femake\", \"female \",\"cis-female/femme\", \"female (cis)\", \"femail\"]\n",
    "gender_variant = [\"trans-female\", \"something kinda male?\", \"queer/she/they\", \"non-binary\",\"nah\", \"all\", \"enby\", \"fluid\", \n",
    "     \"genderqueer\", \"androgyne\", \"agender\", \"male leaning androgynous\", \"guy (-ish) ^_^\", \"trans woman\", \"neuter\", \n",
    "     \"female (trans)\", \"queer\", \"ostensibly male, unsure what that really means\", \"p\", \"a little about you\"]\n",
    "\n",
    "# use .loc and .isin to map male, female and gender variant to\n",
    "df.gender.loc[df.gender.isin(male)] = 'male'\n",
    "df.gender.loc[df.gender.isin(female)] = 'female'\n",
    "df.gender.loc[df.gender.isin(gender_variant)] = 'gender_variant'"
   ]
  },
  {
   "cell_type": "code",
   "execution_count": 7,
   "metadata": {},
   "outputs": [],
   "source": [
    "# Binning Companies employees size to better interpret later.\n",
    "conditions=[\n",
    "    df.no_employees==\"1-5\",            \n",
    "    df.no_employees==\"6-25\",         \n",
    "    df.no_employees==\"26-100\", \n",
    "    df.no_employees==\"100-500\",       \n",
    "    df.no_employees==\"500-1000\" ,           \n",
    "    df.no_employees==\"More than 1000\",\n",
    "]\n",
    "choices=[\n",
    "    \"extra_small\",\n",
    "    \"small\",\n",
    "    \"medium\",\n",
    "    \"medium_large\",\n",
    "    \"large\",\n",
    "    \"extra_large\",\n",
    "    \n",
    "]\n",
    "df['no_employees']=np.select(conditions,choices,default=0)"
   ]
  },
  {
   "cell_type": "code",
   "execution_count": 8,
   "metadata": {},
   "outputs": [],
   "source": [
    "# Making our target feature binary.\n",
    "conditions=[\n",
    "    (df[\"mental_health_consequence\"].str.lower()=='yes'),            \n",
    "    (df[\"mental_health_consequence\"].str.lower()=='no'),\n",
    "    (df[\"mental_health_consequence\"].str.lower()=='maybe')|(df[\"mental_health_consequence\"].str.lower()=='don\\'t know')|(df[\"mental_health_consequence\"].str.lower()=='not sure'),\n",
    "]\n",
    "choises=[\n",
    "    1,\n",
    "    0,\n",
    "    1,\n",
    "\n",
    "]\n",
    "df[\"mental_health_consequence\"]=np.select(conditions,choises,default=0)"
   ]
  },
  {
   "cell_type": "markdown",
   "metadata": {},
   "source": [
    "### Visualize Binary Target"
   ]
  },
  {
   "cell_type": "code",
   "execution_count": 60,
   "metadata": {},
   "outputs": [
    {
     "data": {
      "text/html": [
       "<div>\n",
       "<style scoped>\n",
       "    .dataframe tbody tr th:only-of-type {\n",
       "        vertical-align: middle;\n",
       "    }\n",
       "\n",
       "    .dataframe tbody tr th {\n",
       "        vertical-align: top;\n",
       "    }\n",
       "\n",
       "    .dataframe thead th {\n",
       "        text-align: right;\n",
       "    }\n",
       "</style>\n",
       "<table border=\"1\" class=\"dataframe\">\n",
       "  <thead>\n",
       "    <tr style=\"text-align: right;\">\n",
       "      <th></th>\n",
       "      <th>index</th>\n",
       "      <th>variable</th>\n",
       "      <th>value</th>\n",
       "    </tr>\n",
       "  </thead>\n",
       "  <tbody>\n",
       "    <tr>\n",
       "      <th>0</th>\n",
       "      <td>Yes</td>\n",
       "      <td>mental_health_consequence</td>\n",
       "      <td>689</td>\n",
       "    </tr>\n",
       "    <tr>\n",
       "      <th>1</th>\n",
       "      <td>No</td>\n",
       "      <td>mental_health_consequence</td>\n",
       "      <td>415</td>\n",
       "    </tr>\n",
       "  </tbody>\n",
       "</table>\n",
       "</div>"
      ],
      "text/plain": [
       "  index                   variable  value\n",
       "0   Yes  mental_health_consequence    689\n",
       "1    No  mental_health_consequence    415"
      ]
     },
     "execution_count": 60,
     "metadata": {},
     "output_type": "execute_result"
    }
   ],
   "source": [
    "# create binary target variable graph\n",
    "binary_target = df['mental_health_consequence'].value_counts().to_frame() # create df for target\n",
    "binary_target.rename({1:'Yes', 0:'No'}, inplace=True) # rename rows to Yes/No\n",
    "melt_bin_tar = pd.melt(binary_target.reset_index(), id_vars='index') # melt df for bar graph\n",
    "melt_bin_tar"
   ]
  },
  {
   "cell_type": "code",
   "execution_count": 64,
   "metadata": {},
   "outputs": [
    {
     "data": {
      "image/png": "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\n",
      "text/plain": [
       "<Figure size 720x432 with 1 Axes>"
      ]
     },
     "metadata": {},
     "output_type": "display_data"
    }
   ],
   "source": [
    "# plot binary target\n",
    "sns.set('talk')\n",
    "plt.figure(figsize=(10,6))\n",
    "sns.barplot(x=melt_bin_tar['index'], y=melt_bin_tar['value'], alpha = .80)\n",
    "plt.title('Discuss Mental Health Neg Consequences', fontdict={'fontsize':20})\n",
    "plt.ylabel('# of Respondents', fontdict={'fontsize':14})\n",
    "plt.xlabel('')\n",
    "plt.savefig('binary_target', dpi=300)"
   ]
  },
  {
   "cell_type": "code",
   "execution_count": 65,
   "metadata": {},
   "outputs": [],
   "source": [
    "# express binary target as percentage\n",
    "melt_bin_tar['percent'] = round(melt_bin_tar['value']/sum(melt_bin_tar['value']) * 100,2)"
   ]
  },
  {
   "cell_type": "code",
   "execution_count": 66,
   "metadata": {},
   "outputs": [
    {
     "data": {
      "image/png": "iVBORw0KGgoAAAANSUhEUgAAAnAAAAGICAYAAADBOt1KAAAABHNCSVQICAgIfAhkiAAAAAlwSFlzAAALEgAACxIB0t1+/AAAADh0RVh0U29mdHdhcmUAbWF0cGxvdGxpYiB2ZXJzaW9uMy4xLjIsIGh0dHA6Ly9tYXRwbG90bGliLm9yZy8li6FKAAAgAElEQVR4nOzdd1QUV/8G8Gd3BUQWUYm9Y1wUQcSKDSNS1NfyYokFiCIqIPYWzWvHih3UoAIaNYoajYmJShG7JhGw16gY0BhjsACK1Pv7g99uXCmuCgurz+ccz5E7d2e+u+wOz965MyMRQggQERERkc6QlnQBRERERPR2GOCIiIiIdAwDHBEREZGOYYAjIiIi0jEMcEREREQ6hgGOiIiISMcwwFGRCwwMhLm5udq/Ro0aoVmzZnBycsLMmTNx+/btPI+7d+8ezM3NMWrUqBKouuTY29urXqcHDx4U2C8rKwtt2rSBubk53N3dtVJbeno6QkND3/nx06ZNg7m5Oa5du1Zov19//RXm5uaYNm1aof2Ur5U22Nvbo2XLlmptKSkp2LZtm1qbu7s7zM3NkZyc/F7bMjc3x969ewvss3nz5jf20RYhBKKjo+Hr6wt7e3tYWlrC1tYWI0eOxLFjx0q6PKKPQpmSLoA+XF26dEHjxo0BADk5OUhNTcX169exa9cu/Pjjj1i9ejU+++wzVf/y5ctj9OjRMDMzK6GKS15kZCS++OKLfJf98ssvePr0qVbrcXNzQ3x8PIYNG6bV7ZZWzs7OqFy5Mtzc3Ipl/UuWLEGnTp1gampaLOsvCsnJyZg6dSqOHDkCU1NTtG/fHlWqVMFff/2F6OhoHDt2DJ6enpg6dWpJl0r0QWOAo2Lj4OCAPn365Gk/duwYfH19MWHCBOzbtw9169YFkBvgxowZo+0ySwVDQ0NIpdJCA1x4eDjKlSuHFy9eaK2upKQkrW1LFyQlJaFy5crFtv6nT59i4cKFWL58ebFt430IITB+/HicOnUKAwYMwPTp02FoaKha/s8//8DDwwMhISGoVasWBg8eXILVEn3YeAiVtK5Tp04YN24cXrx4gXXr1pV0OaVCmTJl8NlnnyE2NhaPHz/Oszw7OxtRUVGwt7cvgepIG8qVK4d69erhp59+KrWHIffu3YtTp06hQ4cOmDt3rlp4A4BPPvkEq1evhkQiwfr165GZmVlClRJ9+BjgqES4ubnBwMAAERERyMrKApD/HLisrCysWbMGPXv2hLW1NVq3bg1PT0+cOXMmzzofP36MhQsXwt7eHk2bNoWzszNWrlyJ58+fq/oUNF+poPl3W7duRZ8+fWBjY4PmzZtj8ODBOHjwYJ5ta9qvME5OTsjOzsbhw4fzLPvtt9/w+PFjODs75/tYIQR27NgBFxcXNG3aFK1atYK3tzeuXr2q1k8512zv3r347rvv0LNnT1hZWcHOzg5LlixBWlqa2utx//59pKSk5JmfdvPmTUyZMgWdOnWCpaUlmjdvjoEDByI8PPytnnNRuXLlCkaNGoU2bdqgadOm6N27N3bs2IH87hR45MgRDB8+HLa2tmjSpAlsbW0xatSoQufpKV83ALh+/TrMzc0RGBio1ufhw4eYOnUq2rRpg2bNmmHQoEH5vk8LIpPJMG/ePADA3LlzNR5pTU1NxbJly+Dg4ABLS0t07NgRs2fPznf09J9//sGsWbPQsWNHWFtbY/DgwYiLi8PQoUM1+nLw3XffAQC8vb0hkUjy7WNmZoaZM2di5syZaq9/RkYGgoKC0L17d1haWqJNmzbw8fHBpUuX1B6v6XtU6dKlS/Dy8kKHDh1gZWUFZ2dnLFu2DKmpqXlqO3PmDDw8PNCiRQs0a9YMAwYMwKFDh/J9HocPH8bAgQNhY2ODTp06Ye3atThz5kyeeYjm5ubo3bt3nsfv3bsX5ubm2Lx5s1r7o0ePMGfOHNjZ2cHS0hL29vZYunRpnnqV80efPXuG2bNno3379rCyskKfPn3y/ZylpaUhICAAXbt2hbW1Nezt7TF37tw8XwgzMjKwfv16dO/eHVZWVmjbti0mTZqExMTEPOv86aefMHDgQLRq1Qo2Njbo27cvtm/fnu/nirSPAY5KhKGhISwsLPDixYtC/3D6+fkhMDAQFSpUgJubG7p27YoLFy7A09MTv/76q6rfo0eP0K9fP3zzzTeoVasWXF1dUa1aNQQFBcHX11cVEt/Ghg0bMH/+fADAwIED0adPHyQkJGD8+PHYt2/fW/d7Ezs7O5QtWxaRkZF5loWHh6NSpUpo1apVvo/98ssvMWfOHGRmZmLgwIHo2rUrYmJiMHDgwHxDxLZt2zBnzhw0bNgQ7u7uMDAwQGhoqOp5KOcjGhsbQ19fH6NHj4aDgwMA4OLFi+jfvz+OHj2KDh06wMPDAx06dMClS5cwduxYHDlyROPnXBSOHTuGgQMH4pdffkHnzp3h5uaGnJwczJkzB7NmzcrzvL29vfHHH3+gR48e+OKLL/Dpp5/i8OHDcHV1xd9//53vNmrWrInRo0cDyB1lGj16NFq3bq3WZ8iQIbh8+TL69OmDLl26qN6nV65c0fi5tGnTBv369cP9+/exatWqN/ZPSUnBoEGDsHHjRtSqVQtffPEFbGxssGvXLvTv31/t+Tx58gSDBw/Gzp07oVAo4OrqipcvX2LIkCH5nlT0utTUVJw7dw7lypWDjY1NoX1dXV3h4OAAfX19ALknwwwdOhQrV66ETCbDoEGD0K5dO5w8eRKDBg1CVFRUnnW86T0KAPHx8fDw8MC5c+dgb2+PIUOG4JNPPsHGjRvh6+urtr7du3fDw8MDN27cQPfu3TFgwAAkJSVh3LhxCAoKUusbFhaGUaNG4e7du+jZsyc6dOiA9evXY+XKlW98nQrz559/ol+/fggLC0OTJk0wdOhQ1K9fH8HBwXB3d883tHt4eODEiRPo1q0bevbsid9//x3jxo1DTEyMqk9aWhoGDRqEtWvXQi6XY+DAgTA3N8f27dsxZMgQVTjMzMzEiBEjsGLFChgZGcHNzQ0dO3ZEREQE+vXrh5s3b6rWeeDAAUyaNAlPnjyBi4sLBgwYgOTkZMydO5dHTkoLQVTEAgIChEKhEHv27Cm039ixY4VCoRCHDx8WQgiRmJgoFAqF8PHxEUIIkZKSIho1aiRcXV3VHnfx4kWhUCjEmDFjVG1TpkwRCoVCbNq0Sa3vzJkzhUKhEOHh4UIIIdzc3IRCoRDPnj1T6/f6toUQonXr1sLBwUFkZmaq2h48eCAsLS1Fnz593rpfQTp37ixatGghhBDC19dXWFpaipSUFNXy7Oxs0b59ezFz5kzx7NkzoVAohJubm2r5gQMHhEKhEBMnTlSrISEhQbRu3Vp07NhRpKenCyGE+OWXX4RCoRCNGzcWcXFxqr7JycnC1tZWWFlZiefPn+dbm9KwYcOEhYWFuHXrllr7zz//rKpD6csvvxQKhUJcvXq10NdAWVevXr1EQEBAgf9atGghFAqF6nEvXrwQtra2wtbWViQmJqq9ZmPGjBEKhUIcPXpUCCFEenq6aN68uXByclJ7jkIIMXv2bKFQKERYWFihz11Z46uU76kRI0aIjIwMVfumTZuEQqEQfn5+hT7317f19OlT0a5dO9GoUSNx4cKFPOt79XM1Z84coVAoxLZt29TWFxUVJRQKhRg7dqyqbd68eUKhUIjg4GC112ncuHFCoVCIzp07F1rjrVu3hEKhED179nzj83ndmjVrhEKhENOmTVN7j166dEk0bdpUtGzZUvWef5v36OLFi4VCoRBnzpxR297IkSOFQqEQN2/eFEL8+3ns1q2bePz4sapfWlqaGDBggGjUqJG4ceOGEEKIx48fi2bNmokOHTqI+/fvq/qeP39eNGnSJM/vIL/3hBBC7NmzJ88+acSIEcLc3FxER0er9f3mm2+EQqEQS5YsUbUpPzv9+vVTe7/++OOPQqFQiClTpqjaVq1aJRQKhViwYIHIyclRtQcFBQmFQiFCQ0OFEEJs3LhRKBQK4e/vr9bv4sWLokmTJqJv376qNhcXF9GsWTO1fVFKSopo3769sLW1VXs8lQyOwFGJUX47z+9QB5B75qoQAn/++afa5TWsrKwQFRWlmuidkZGByMhI1KtXD0OHDlVbh5eXF7y9vd9p4rkQAo8fP0Z8fLyqrVq1ajh48CC2b9/+1v004eTkhIyMDLU5ULGxsXj06BG6deuW72OUh7X+97//oUyZf89Lql27NgYOHIiHDx/i9OnTao9RHhJRMjY2ho2NDdLT0wu9lAkADB06FEuXLkWDBg3U2tu0aQPg/U58uH79OtasWVPgv5SUFLX+0dHRePz4MYYPH45atWqp2qVSKSZNmgQA2LNnD4DceYR+fn5YsGABypUrp7Ye5Wja+9Q+cuRI6OnpqX5WHpK8d+/eW63HxMQE//vf/5CTk4MZM2YUOHqclZWFffv2oWHDhnB1dVVb1qVLFzRv3hyRkZFITU1FdnY29u/fj5o1a6p9RqRSKaZOnQqZTPbGupTTDoyMjN7q+QDA999/D0NDwzzvUUtLSwwePBjJycmIiIhQe4wm79GcnBwAQFxcnNpjFy1ahDNnzqBhw4YAgB9//BEZGRkYO3YsKlasqOpXtmxZjB07Fjk5Ofj+++8BAEePHsWLFy/wxRdfoEaNGqq+1tbWcHFxeevnrvT333/j+PHj6NSpEzp37qy2zM3NDdWrV8/3EjGurq5q79dOnToBAO7evatq+/nnnyGXyzFp0iS1Q9tubm4YPnw4Pv30UwC5+wpjY2OMHz9erZ+VlRW6du2KS5cu4ffffweQu197+fKl2jQMuVyO7777DocPHy7wEDppD89CpRKjnJv2+h9TpfLly6N79+74+eef4ejoCBsbG9jZ2aFz586qHRIAJCQk4MWLF2jWrFmeddSsWRMTJkx4p/oGDBiADRs2oFevXqo5OJ06dYKVldU79dOEvb099PT0EBERgf/85z8Acg+fVqxYEa1bt1abz6d05coVGBgY4Ntvv82zTBkqr127pnbJlnr16uXpa2xsDABvnHjesWNHALmHra9fv46EhATEx8cjNjYWQG5QelcuLi5YvHhxgcvt7e1x//591c+XL18GkPsavD4nDcidV3b9+nUAuYftu3fvDiD3dbl9+zYSEhLw+++/qw4zKwPBu1CeTa1UoUIFAMj3d/Ym3bt3x48//ogjR44gNDQUI0eOzNMnPj4eL168QHZ2dr7PPT09HdnZ2bhx4wYqVqyIZ8+ewdbWNk9Yq1GjBqpVq/bGmpTP522vd5eamorExEQ0b94ccrk8z/IWLVogNDRU9XtS0uQ96uLigh07dmD16tXYuXMn7OzsYGdnh/bt26vtV5TvkzNnzqgCipLysKVy+8rDiPl9ftu0aYNdu3Zp9Lxfd/XqVQgh8PTp03x/X3p6enjw4AEePnyIqlWrqtrr16+v1k/5GmRkZAAAXr58iT/++AOtWrWCgYGBWl8jIyNMmTIFQO77MD4+HpUrV85zyBjInR8J5O4rGjZsiAEDBmD27NmqecPK/VqLFi0glXLspzRggKMSo/xDXLt27QL7LFmyBJaWlti7dy9+++03/Pbbb1i2bBksLS0xf/58NG7cGM+ePQOAfP84vI+JEyeibt26CAsLw8WLF3HhwgUEBgaifv36mD17Ntq2bftW/TQhl8vRrl07HD9+HOnp6dDX10dERAQcHR0LHCVJSUlRnexREOVrpKQc/XyV8hu1eMME5QcPHsDPzw/R0dEQQkAqlaJevXpo0aJFnpMmiptyRO7nn38usM+rz/3s2bNYtGiRal6agYEBGjVqhCZNmuDBgwfvNTn79T+e72v27Nn49ddfsWbNmnxPXlEGqTt37mj8u//kk0/y7VOlSpUC5/8pVatWDXp6evjzzz+RmZmpNtr4ur/++gtyuRxyuVwVYJXBI79tA7lB5FWavEcbNWqEXbt2ISgoCMeOHcOuXbuwa9culCtXDl988YVqpEn5PgkLCyuwZuXrpOyb3xfLV0fv3pby93X+/HmcP3++wH5Pnz5VC3Cvvw6vvwaa7v+URzoePXqk0ftl4MCBMDU1xZYtWxAbG4sbN25g48aNqFq1KqZNm6b6MkQlhwGOSsSzZ89w69YtlC9fXm007XV6enoYNmwYhg0bhj///BOnTp3CoUOHcPLkSXh5eeHw4cOqQzoFjXS8ePEiz8749T/Ur//xAHJ3lP369UO/fv2QlJSE06dPIzIyEhEREfDx8UF0dDQqVaqkcT9NOTk54dixYzh16hQqVqyIhw8fomvXrgX2L1euHIyMjHD06FGNt/GuhBAYOXIkbt26BS8vLzg4OKBhw4YoW7Ys/vnnH+zevbvYa3iV8ve6efPmNwbl+/fvY8SIETAwMICfnx9atGiBevXqQSaT4cCBA/lOpC9J1atXx8SJEzF//nzMmjUrz2E35fu+d+/e8Pf3L3RdN27cAFDwdAVNRgkNDQ3RsmVLnDlzBufOnctzEserZs2ahVOnTiEoKEh1GLSggKgMNsoRvrfVqFEjrFq1ChkZGTh37hyOHz+OvXv3IigoCFWrVsXgwYNV75OoqKhCvzACuSP/QG7QeV1+l/gB8v/S8/rZssoaRo0ahXHjxr35iWlIud437f+U/Vq2bJnvaH1+HB0d4ejoiOTkZPz666+Ijo7G/v37MWnSJHz66adQKBRF8yTonXAclErEzp07kZWVhW7duhU4spSYmIgVK1aozmqsUaMG+vfvj5CQENja2uLhw4e4d+8e6tevDz09PVy8eDHPOh4+fAgbGxvMnDkTwL/fZl8/2yshIUHt5ydPniAwMFA1L8bU1BQ9e/ZEQEAA+vTpg7S0NFy9elXjfm+jS5cuKFOmjCoEVqhQQTW/LD/m5ub466+/8v2Dc+TIEaxcuTLP4al3dePGDdy8eROOjo6YMGECrKysULZsWQBQncn4PqNYb0t5aQ/lIbJXPX36FAsWLMAPP/wAIPePd1paGsaOHYvPP/8cDRo0UL33SqJ2Tbi6usLa2hq//PKL6nko1a9fH/r6+rhy5Uq+dW/evBnr1q3DkydPYGZmhnLlyuX7GUlOTlabv1kY5Ryw/A7BKd26dQunT5+GoaEhbGxsIJfLUatWLcTHx+cbgM6ePQsAhX6RK8i+ffvg5+cHIQT09fXRpk0bTJkyRXWIUnlYX/k+ef2SJUDuXLIlS5YgOjoaQO68PAD5jpLld0axnp5evmePvn5ZjsLeqwAQEBCADRs2qA6NasrY2BjVq1fHtWvX8jw2IyMD7du3x7Bhw2BsbIwaNWrg1q1b+X5h3bdvHwIDA3Hv3j1kZGTg66+/Vl0CpXz58nB0dMSiRYvg4+ODnJwcnDt37q3qpKLHAEdad+bMGaxduxblypWDl5dXgf3Kli2LjRs3YvXq1Wo7poyMDDx69Aj6+vqoXLkyDAwM4OzsjNu3b+cZAVL+oVGOzijnk7x6qYv09HSEhISoPc7IyAhbtmzBypUr89y+6s8//wSQGyg17fc2KlasiFatWuHo0aOIjIyEo6Oj2sTv17m4uEAIAT8/P7XX6e+//8acOXOwYcOGAucZvomenp7aJHplAH59sv/Tp09Vo0DvcsmWd+Xo6Ai5XI7g4OA8IWTp0qXYsmWLKpwrD3Eq5/ooXb9+HVu2bAHw5tr19PS0enFaqVSK+fPnQ09PL88XAQMDA3Tv3h23bt3Cpk2b1Jb9+uuv8Pf3x549e2BiYgI9PT307NkT8fHx2LFjh6pfTk4Oli5dqvFz6tWrF2xsbHDq1CnMmjUL6enpasvv3r0LX19fZGZmwtfXV3VYz8XFBS9fvsTChQvVXuMrV65g27ZtKF++/DtdpPr8+fPYtm1bnmsuKk8cUX72evXqBZlMhlWrVql90cnKyoKfnx9CQ0NVn197e3t88skn2L59u9rlVW7fvo2dO3fmqcHMzAz37t1Tm1t3//79PJcQql27Nlq1aoXjx4/nufbcvn37sHbtWpw4cSLfQ8dv0qtXL6SkpGDt2rVq7Vu2bMGLFy9U+z8XFxc8ffoUy5YtU5vveevWLcybNw+bNm1ChQoVoK+vj59++gmrV6/OE0SVU1/edr9GRY+HUKnYREVFqT7sQgikpKTg6tWriImJQdmyZbFy5UrUrFmzwMdXrlwZQ4YMwaZNm9CjRw906tQJUqkUJ06cwO3btzFq1CjVH4ipU6ciNjYWM2bMQHh4OBo2bIhLly7h7NmzcHBwUM3X6NevH7Zv346FCxfiwoULqFixIg4fPgxjY2O1kKOvr4+xY8di/vz56NGjBxwdHVG2bFmcPXsWly5dQu/evVX3bNW039twcnLCmTNn8PjxY8yZM6fQvn369EF0dDTCw8Nx48YNdOzYEVlZWTh48CCePn2KSZMmoU6dOm9dA5A7P+nu3buYPHkyOnTogF69eqFp06aIiYnB4MGD0bx5czx58gRRUVHIyMiAoaEhnjx58k7behfly5fH/PnzMXnyZLi4uMDBwQFVqlTBb7/9hkuXLsHKykp1H9fOnTtj+fLlWL9+Pe7cuYM6dergjz/+wJEjR1Tzs950r9kqVargzp07mD17Njp16qSVO2MoFAp4enrmO+r15Zdf4ty5c1iyZAkOHz6Mpk2b4uHDh4iIiECZMmWwcOFC1YTz8ePH48SJE5gzZw4OHz6MTz/9FGfPnsWdO3dQtmxZjSamSyQSrFu3DsOHD8fOnTsRGRmJzz77DBUrVsQff/yBY8eOITMzE25ubmpnu44YMQInT57E/v37cePGDdja2iIpKQlRUVEQQmDlypXvNId1+PDhOHjwICZPnoxDhw6hbt26uH//PiIiItTuWVuvXj1MmTIFixcvRo8ePWBvbw8TExMcP34ct2/fRufOndGrVy8AuV8cFy9eDB8fH/Tv3x/Ozs6QSqU4dOhQvvP+Pv/8c/j5+cHd3R09evRARkYGDh48CIVCoXatNgCYN28eXF1dMW7cONjZ2aFhw4aIj4/H0aNHUaFCBcyePfutXwMg92z7o0ePIigoCGfPnoW1tTXu3LmDo0ePwsrKCkOGDAGQe6b0yZMnsXXrVsTGxqJ169ZITk7GoUOHkJaWhqVLl6p+DxMnToSvry9cXFzQtWtXmJiY4PLly/jll1/QunVrtG/f/p1qpaLDAEfF5vDhw2p3FTA0NETNmjXh5uaGIUOGaBQqpkyZgrp162L37t34/vvvkZ2djU8//RSLFy9WO6W/atWq2L17NwIDA3HkyBGcOXMGVatWhY+Pj9rdFRo1aoQNGzZgzZo1OHjwIORyORwcHDB58uQ8f4zd3d1Vk3gPHDiAtLQ01KtXD9OnT1e7mbmm/d6Go6Mj/Pz8UL58edja2hbaVyKRICAgAN9++y327t2L3bt3o2zZsvj000/h4eGhugDvu5gyZQq++uorHDp0CElJSfjvf/+LdevWYcWKFTh16hSuXLmCatWqwc7ODj4+Pli+fDmioqKQkJDwzqHxbXXr1g3VqlXD+vXrceLECaSlpaFmzZoYNWoUPD09VXPFqlatik2bNmHFihX45ZdfcPLkSdSoUQPu7u7w8vKCk5MTTpw4ASFEgZdImDVrFubPn489e/YgKytLa7c2GzVqFA4dOqR26QgAqFSpEnbt2oX169cjMjISW7duRaVKlWBvb49Ro0ahUaNGan137NiBZcuW4cSJE/jtt99gbW2NLVu2wMvLK89tsQqiXM9PP/2Effv24fTp00hKSoJcLkeHDh3g5uaGDh06qD3GwMAAmzdvRkhICPbv348dO3agfPny6Ny5M7y8vGBhYfFOr0utWrWwY8cOrFu3DnFxcYiOjkbFihXRq1cvjB49Wu1kAA8PD5iZmSE0NBQRERHIyclB7dq1MW3aNLi6uqqNcnfs2BHbtm3DypUrcfDgQRgZGWHw4MEoX748li1bplaDm5sbsrOzsX37doSFhaF69erw8vJC27Zt89wL2szMDHv37sW6detw7NgxnDlzBlWqVEHv3r3h6+v7xvl5BTEyMsL27duxbt06HDp0SPXl1M3NDePHj1eN6pUtWxZbtmxBcHAwDhw4gO3bt8PY2BjNmzeHl5eX2rzGLl26ICQkBBs3bsSRI0eQnJyMGjVqwNfXFyNGjOCZqKWARJS2SR9ERFTkEhISUK1atTyH6DIyMtC8eXO0bdsWGzduLKHqdMPmzZuxaNEiLFq0KE84I9I2Rmgioo/AqFGj0L59+zzXcfvmm2+QmZlZ6IkyRFT68BAqEdFHYNCgQZg3bx569uyJLl26wNDQEFevXsXp06dhbm4Od3f3ki6RiN4CAxwR0UfA1dUVlStXxtatW3HgwAG8ePFCNV/Ly8uryC9ETETFi3PgiIiIiHQM58ARERER6ZiP6hCqEAIcbyQiIqLSTiJBgZc0Aj66AAckJeV/L0AiIiKi0sLUVI5C8hsPoRIRERHpGgY4IiIiIh3DAEdERESkYxjgiIiIiHQMAxwRERGRjmGAIyIiItIxDHBEREREOoYBjoiIiEjHMMARERER6RgGOCIiIiIdwwBHREREpGMY4IiIiIh0zEd1M3ttMjTUg0zGfExUUrKzc5CWllnSZRARFQsGuGIik0nx5z8p+OdJakmXQvTR+aSiHDU+MS7pMoiIig0DXDH650kq9kZeKukyiD46fRytGOCI6IPGY3xEREREOoYBjoiIiEjHMMARERER6RgGOCIiIiIdwwBHREREpGO0HuDOnj2LQYMGwdraGh06dICfnx+eP3+uWn7y5En07dsX1tbWsLe3R2hoqLZLJCIiIirVtBrgzp8/Dw8PD1SuXBlff/01fH198eOPP2LGjBkAgLi4OHh7e8PMzAyBgYHo2bMn/P39ERISos0yiYiIiEo1rV4HbtmyZWjWrBlWr14NiUSCdu3aIScnB5s2bUJaWhoCAgJgYWGBpUuXAgDs7OyQlZWFoKAguLu7Q19fX5vlEhEREZVKWhuBe/z4MWJiYjBo0CBIJBJVu6urK6KioiCVShETEwMnJye1xzk7OyM5ORlxcXHaKpWIiIioVNPaCNzNmzchhICJiQnGjx+Po0ePQiaToUePHpg+fTru3buHzHK2cdEAACAASURBVMxM1K9fX+1xdevWBQDEx8fD1tb2vWqQSAATE8P3WoemZDIpJBIJ74dKVAIkEgn09cvAxISfPyLSTa+MdeVLawHu8ePHAIBp06bB0dERX3/9NW7cuIFVq1YhPT0dAwYMAADI5XK1xxkZGQEAUlN5T1EiIiIiQIsBLjMzEwDQvHlzzJ49GwDQtm1bCCGwZMkSfP755wCgdnj1VVLp+3+TFgJ49iztvdejCbncAEIIZGfnaGV7RPQvIQQyMrKQmppe0qUQEb0TU1N5oaNwWju+oBxJs7OzU2vv0KEDhBC4dCn3pu+vj7QpfzY25o2piYiIiAAtBrh69eoBADIyMtTalSNztWrVgkwmQ0JCgtpy5c+vz40jIiIi+lhpLcA1aNAANWvWxIEDB9Tajxw5gjJlysDGxgYtW7ZEREQEhBCq5eHh4TA2NoalpaW2SiUiIiIq1bQW4CQSCSZPnoyYmBhMnjwZp0+fxoYNG/D111/D3d0dlSpVgo+PD+Li4jBhwgQcO3YMq1atQkhICLy8vGBoqJ2zR4mIiIhKO4l4dbhLC6KiorB27VrcunULpqamGDBgALy8vFQnKURGRiIgIADx8fGoWrUqXF1dMWzYsCLZdk6OQFKSds5mlcsNcPH3B9gbeUkr2yOif/VxtELThtV5EgMR6SxTUzmk0oLPYtB6gCtJDHBEHwcGOCLSdW8KcLzKJREREZGOYYAjIiIi0jEMcEREREQ6hgGOiIiISMcwwBERERHpGAY4IiIiIh3DAEdERESkYxjgiIiIiHQMAxwRERGRjmGAIyIiItIxDHBEREREOoYBjoiIiEjHMMARERER6RgGOCIiIiIdwwBHREREpGMY4IiIiIh0DAMcERERkY5hgCMiIiLSMQxwRERERDqGAY6IiIhIxzDAEREREekYBjgiIiIiHcMAR0RERKRjGOCIiIiIdAwDHBEREZGOYYAjIiIi0jEMcEREREQ6hgGOiIiISMcwwBERERHpGAY4IiIiIh3DAEdERESkYxjgiIiIiHQMAxwRERGRjmGAIyIiItIxDHBEREREOoYBjoiIiEjHlNHmxrKystC8eXOkp6ertZcrVw7nzp0DAJw8eRIrV67ErVu3YGpqCjc3NwwbNkybZRIRERGValoNcPHx8UhPT8eSJUtQr149VbtUmjsQGBcXB29vb3Tr1g3jxo1DbGws/P39IYSAp6enNkslIiIiKrW0GuCuX78OqVQKZ2dnGBoa5lkeEBAACwsLLF26FABgZ2eHrKwsBAUFwd3dHfr6+tosl4iIiKhU0uocuGvXrqFOnTr5hrf09HTExMTAyclJrd3Z2RnJycmIi4vTVplEREREpZpWA9yNGzegr68PT09P2NjYoFWrVpg1axZSU1ORmJiIzMxM1K9fX+0xdevWBZB7+JWIiIiISuAQampqKvr37w9vb29cvnwZgYGBiI+Px8SJEwEAcrlc7TFGRkYAgNTU1PfevkQCmJjkHf0rDjKZFBKJBDIZT/Ql0jaJRAJ9/TIwMeHnj4h0k0RS+HKtBriVK1fCxMQE5ubmAIBWrVrB1NQUU6ZMwalTpwDk7njzozzRgYiIiOhjp9UA17p16zxtn332mdrPr4+0KX82NjZ+7+0LATx7lvbe69GEXG4AIQSys3O0sj0i+pcQAhkZWUhNTX9zZyKiUsjUVF7oKJzWhrWSkpKwe/duJCYmqrW/fPkSAGBqagqZTIaEhAS15cqfX58bR0RERPSx0lqAk0gkmDVrFrZt26bWfuDAAchkMrRr1w4tW7ZEREQEhBCq5eHh4TA2NoalpaW2SiUiIiIq1bR2CLVSpUpwdXXF1q1bIZfL0bJlS8TGxiIoKAiurq6oW7cufHx84OHhgQkTJsDFxQXnzp1DSEgIJk2alO+lR4iIiIg+RhLx6nBXMcvMzMTmzZuxZ88e3L9/H1WrVsXnn3+O4cOHq05SiIyMREBAAOLj41G1alW4uroW2a20cnIEkpLe/2xWTcjlBrj4+wPsjbykle0R0b/6OFqhacPqnANHRDrL1FQOqbTgSXBaDXAljQGO6OPAAEdEuu5NAY7X5iAiIiLSMQxwRERERDqGAY6IiIhIxzDAEREREekYBjgiIiIiHcMAR0RERKRjGOCIiIiIdAwDHBEREZGOYYAjIiIi0jEMcEREREQ6hgGOiIiISMcwwBERERHpGAY4IiIiIh3DAEdERESkYxjgiIiIiHQMAxwRERGRjmGAIyIiItIxDHBEREREOoYBjoiIiEjHMMARERER6RgGOCIiIiIdwwBHREREpGMY4IiIiIh0jMYB7tSpU0hKSgIAfP/99xg5ciQCAgKQmZlZbMURERERUV4aBbgNGzbA19cXiYmJiI2NxYwZM1ClShUcOHAAS5YsKe4aiYiIiOgVGgW4sLAwrFq1Cs2aNcMPP/wAGxsbzJ8/H/7+/jhw4EBx10hEREREr9AowCUlJcHc3BwAcPToUXTu3BkAUKFCBbx8+bL4qiMiIiKiPMpo0qlBgwbYu3cvTE1N8ffff6NLly7IyMhAcHAwGjduXNw1EhEREdErNApwX375JcaOHYtnz57By8sL9erVw9y5cxEdHY3169cXd41ERERE9AqJEEJo0jEnJwcpKSkwMTEBAPzzzz8wMTFBSkoKKlWqVKxFFpWcHIGkpFStbEsuN8DF3x9gb+QlrWyPiP7Vx9EKTRtWR2pqekmXQkT0TkxN5ZBKJQUu12gOXOPGjfH06VNVeAOATz75BA8fPkSXLl3ev0oiIiIi0liBh1C///57fPfddwAAIQR8fHxQpox690ePHqFKlSrFWyERERERqSkwwDk7O+P+/fsAgNjYWDRv3hxGRkZqfYyMjODk5FS8FRIRERGRmgIDXLly5TB69GgAQM2aNdG9e3cYGBhorTAiIiIiyp9GZ6G6uLjg9u3buHz5MrKysvD6eQ/9+vUrluKIiIiIKC+NAtyGDRuwYsUKmJiY5DmMKpFIGOCIiIiItEijABcWFoYJEybAy8uruOshIiIiojfQ6DIiycnJcHZ2LtINjx49Go6OjmptJ0+eRN++fWFtbQ17e3uEhoYW6TaJiIiIPgQaBbjevXsjLCwsz9y3d/XDDz8gMjJSrS0uLg7e3t4wMzNDYGAgevbsCX9/f4SEhBTJNomIiIg+FBodQn3y5AkiIiKwf/9+1KxZE3p6emrLv/32W403+PDhQyxYsADVqlVTaw8ICICFhQWWLl0KALCzs0NWVhaCgoLg7u4OfX19jbdBRERE9CHTKMCZmZnB29u7SDY4Y8YMtG/fHgYGBoiNjQUApKenIyYmBuPHj1fr6+zsjODgYMTFxcHW1rZItk9ERESk6zQKcMrrwQFAVlYWZDIZJJKC789VkN27d+PKlSv46aef4O/vr2pPTExEZmYm6tevr9a/bt26AID4+HgGOCIiIqL/p1GAA3IPk27evBkPHjzAwYMHsWHDBlSsWBHjx4+HVPrmqXT379/HokWLsGjRIlSqVEltWUpKCgBALpertSsvWZKaWjQ3oJdIABMTwyJZ15vIZFJIJBLIZBpNMySiIiSRSKCvXwYmJvz8EZFuetM4mUZ7t02bNiE4OBi+vr6q+6G2b98ee/bswapVq974eCEEvvrqK3Tq1Cnfs1mVJ0cUNKqnSUAkIiIi+lhofB24efPmoWPHjpg7dy4AoGvXrjA2Nsb06dMxceLEQh//7bff4saNG9i/fz+ysrIA/BvasrKyYGxsDCDvSJvyZ+Xy9yUE8OxZWpGs603kcgMIIZCdnaOV7RHRv4QQyMjIQmpqekmXQkT0TkxN5YWOwmkU4P766y/Uq1cvT3u1atWQnJz8xseHh4fjyZMn6NChQ55lTZo0wZw5cyCTyZCQkKC2TPnz63PjiIiIiD5mGgW4Zs2aYc+ePWpniebk5CA4OBhNmzZ94+Pnzp2L58+fq7WtXbsW165dw5o1a1CrVi0cPHgQERERGDJkiOpQanh4OIyNjWFpafk2z4mIiIjog6ZRgJsxYwZGjBiBo0ePIiMjA7Nnz8bdu3eRkZGB4ODgNz7ezMwsT1uFChWgr68PKysrAICPjw88PDwwYcIEuLi44Ny5cwgJCcGkSZNgaKidEw+IiIiIdIFGAa5hw4YIDw/Hjz/+iDt37iA7OxuOjo7o1atXnpvbv6u2bdsiMDAQAQEB8PX1RdWqVTF16lQMGzasSNZPRERE9KGQiKK6P5YOyMkRSEoqmkuSvIlcboCLvz/A3shLWtkeEf2rj6MVmjaszpMYiEhnmZrKIZUWfBZDgSNw9vb2Gl+s9/Dhw29fGRERERG9kwIDnI+Pj+r/9+7dw9atWzFgwABYWVmhTJkyuHLlCsLCwuDu7q6VQomIiIgoV4EBrn///qr/9+vXDwsWLEC3bt1UbU5OTrCyssLq1avVbrVFRERERMVLo1sc3L59GwqFIk97rVq1cO/evSIvioiIiIgKptFZqC1atMDChQsxf/58VK9eHQBw9+5d1d0ZiIhIOwwN9XiPZaISlJ2dg7S0zJIuQ7MAt3DhQowdOxb29vaQy+UQQuD58+do06YN/Pz8irtGIiL6fzKZFNlP/0TGs6SSLoXoo6NvYgpZhRolXQYADQNclSpVEBYWht9//x23b98GkHttuAYNGhRrcURElFfGsyTcP7W/pMsg+ujUbN8ThroU4IDcm0MbGxujSZMmqrbExEQAQO3atYu+MiIiIiLKl0YB7tixY5g5cyYePXqk1i6EgEQiwbVr14qlOCIiIiLKS6MAt2zZMtjY2GDUqFGQy+XFXRMRERERFUKjAJeYmIjVq1fne1N6IiIiItIujc5Fb9myJS5evFjctRARERGRBjQagWvevDnmzp2L6Oho1KlTB3p6emrLx40bVyzFEREREVFeGgW4M2fOwNLSEk+ePMGTJ0/Ulml6w3siIiIiKhoaBbitW7cWdx1EREREpCGNrwN36dIlhISE4Pbt28jJyUH9+vXh6uqKtm3bFmd9RERERPQajU5iOHToEAYNGgSpVIrPP/8c/fv3h0wmw4gRIxAVFVXcNRIRERHRKzQagQsMDMTkyZMxdOhQVdvQoUOxefNmBAYGwsHBobjqIyIiIqLXaDQCd+/ePXTu3DlPe+fOnREfH1/kRRERERFRwTQKcA0aNMDx48fztB89ehS1atUq8qKIiIiIqGAaHUIdM2YMxowZg3PnzqFp06YAgIsXLyIiIgLLly8v1gKJiIiISJ1GI3CdO3fGxo0bkZmZiV27duGHH36ARCJBWFgYnJ2di7tGIiIiInqFxpcRadu2LS8ZQkRERFQKaBzgwsLCsHPnTty+fRtSqRTm5uZwc3NDz549i7M+IiIiInqNRgFu7dq12LRpE4YMGYKxY8ciOzsbly5dwpw5c5CcnAxXV9firpOIiIiI/p9GAW779u1YsmQJunTpompzcHCAhYUFFi1axABHREREpEUancSQnZ2NmjVr5mk3MzPDixcvirwoIiIiIiqYRgFuzJgxmDFjBq5fv65qS0xMxIIFCzBq1Cjk5OSo/hERERFR8dLoEOrXX3+Np0+fwsXFBQYGBpBKpUhLS4MQAr/++iuWLFmi6nvt2rViK5aIiIiINAxwK1asKO46iIiIiEhDGgW41q1bAwBycnIglUrx6NEjxMTEoHHjxqhXr15x1kdEREREr9FoDtz58+fRqVMn/Pbbb/jnn3/Qt29f/O9//0OPHj0QGRlZ3DUSERER0Ss0CnCLFy9Gly5dYGVlhe+++w5lypTBmTNnMHv2bKxevbq4ayQiIiKiV2gU4K5evQpPT08YGRkhOjoaXbp0gYGBAdq1a4eEhITirpGIiIiIXqFRgKtQoQIePHiAe/fu4dKlS/jss88AAJcvX0blypWLsz4iIiIieo1GJzH07dsXvr6+0NPTg7m5Odq2bYtvv/0WS5cuxfjx44u7RiIiIiJ6hUYBbty4cbCwsMD9+/fRq1cvSKVS1KpVCytXrkTnzp2Lu0YiIiIieoVGh1ABwNHREd26dcPNmzfx8uVLNGnS5K3DmxACmzdvhrOzM5o2bYpevXph//79an1OnjyJvn37wtraGvb29ggNDX2rbRARERF96DQagXv+/DmmT5+OiIgISKVShIeHY+HChXjy5AnWrl0LU1NTjTa2fv16BAQEYMyYMWjWrBmOHz+OyZMnQyaToXv37oiLi4O3tze6deuGcePGITY2Fv7+/hBCwNPT872eKBEREdGHQqMRuCVLluDJkyc4fPgwDAwMAADTpk0DAMyfP1+jDWVmZiI0NBSDBg2Cj48P2rZtiy+//BKtW7fGtm3bAAABAQGwsLDA0qVLYWdnhwkTJsDT0xNBQUHIyMh4l+dHRERE9MHRKMBFR0dj+vTpqFmzpqqtbt26mDNnDk6dOqXRhmQyGbZu3YqRI0eqtevp6SE9PR3p6emIiYmBk5OT2nJnZ2ckJycjLi5Oo+0QERERfeg0OoT68uVL6Onp5WnPyMiAEEKjDUmlUpibmwPInQuXlJSEvXv34vTp05g3bx4SExORmZmJ+vXrqz2ubt26AID4+HjY2tpqtK2CSCSAiYnhe61DUzKZFBKJBDKZxtMMiaiISCQS6OuXgYnJh/f5k8mkeCkB9y1EJUAigdb2LRJJ4cs1qqBLly5Yvnw5kpOTVW13796Fn5+f6ppwbyMiIgLt27fH8uXL0alTJ/Tq1QspKSkAALlcrtbXyMgIAJCamvrW2yEiIiL6EGk0Ajdz5kxMnz4dbdq0gRACvXv3RlpaGjp06ICvvvrqrTdqYWGBbdu24caNG1i9ejVGjhypup6cpIDIKZW+f9oVAnj2LO2916MJudwAQghkZ+doZXtE9C8hBDIyspCaml7SpRS53H0LuG8hKgFCQGv7FlNTeaGjcBoFOLlcjsDAQCQmJuL27dvIyspC/fr10aBBg3cqqnbt2qhduzZatWoFuVyOL7/8UnUo9vWRNuXPxsbG77QtIiIiog/NG4e1UlNTkZaWO2pVu3ZtfPbZZ3BwcECDBg3w999/Y9KkSRpt6OnTp9i3bx8ePnyo1m5hYQEAuHfvHmQyWZ57qyp/fn1uHBEREdHHqsAA99dff2Ho0KFo1aoVmjdvDi8vLzx79gwAkJ2djeDgYHTt2hUnT57UaEM5OTmYNm0adu7cqdauPIvVysoKLVu2REREhNqJEeHh4TA2NoalpeVbPzkiIiKiD1GBh1DnzZuH+/fvw9/fH3p6eggMDMSiRYswfvx4jBo1CtevX0e/fv0wYcIEjTZUqVIlDB48GBs2bEDZsmVhZWWF2NhYrF+/Hv3794eZmRl8fHzg4eGBCRMmwMXFBefOnUNISAgmTZoEQ0PtnD1KREREVNoVGOBiY2OxatUqtG3bFgDQqFEj9O3bFzdv3kR2djZ27twJKyurt9rY9OnTUb16dXz33XcIDAxEtWrVMGbMGAwfPhwA0LZtWwQGBiIgIAC+vr6oWrUqpk6dimHDhr3HUyQiIiL6sBQY4JKTk9VOUqhXrx4yMzNRs2ZNrFixIt/rwr2Jnp4eRowYgREjRhTYx9HREY6Ojm+9biIiIqKPRYFz4IQQkMlkam0ymQy+vr7vFN6IiIiIqGi89cXVlBfWJSIiIqKSUeh14H766Se1wJaTk4ODBw+iUqVKav369etXPNURERERUR4FBrgaNWrgm2++UWszNTVFWFiYWptEImGAIyIiItKiAgNcdHS0NusgIiIiIg29/w1GiYiIiEirGOCIiIiIdAwDHBEREZGOKTDA7d69G8+fP9dmLURERESkgQID3Pz58/H06VMAQOPGjfH48WOtFUVEREREBSvwLNQ6derA19cXDRs2hBACc+fOhYGBQb59/f39i61AIiIiIlJX4AhccHAwWrdujTJlcjOeVCqFTCbL9x8RERERaU+BI3BVq1bFV199BQC4d+8e5s6di/Lly2utMCIiIiLKX6G30lLaunUrXrx4ge3bt+POnTvIzs6GmZkZ/vOf/+S5rRYRERERFS+NLiNy/fp1ODk5YePGjXj48CEePnyI4OBgdO/eHbdu3SruGomIiIjoFRqNwC1YsAAdO3aEn5+fak5cVlYWZs6ciQULFmDTpk3FWiQRERER/UujEbiLFy9ixIgRqvAGAGXKlMGIESNw/vz5YiuOiIiIiPLSKMBVqVIFCQkJedrv3r0LuVxe5EURERERUcE0OoQ6YMAAzJgxA2PGjEHTpk0BABcuXMCaNWswcODAYi2QiIiIiNRpFOA8PT2RlpaGFStW4NmzZwCAypUrw9PTE0OHDi3O+oiIiIjoNRoFOIlEgjFjxmDMmDFISkqCgYEBD50SERERlRCNAtyrTE1Ni6MOIiIiItKQRicxEBEREVHpwQBHREREpGMY4IiIiIh0zFvPgTt48CAuXLgAIQSsra3RrVs3SCSS4qiNiIiIiPLxViNwfn5+2LRpE/T09CCVSrFu3TrMmDGjuGojIiIionwUOAIXExODli1bqrUdPnwY4eHhMDAwAAD07dsXgwYNwoIFC4q3SiIiIiJSKTDAbdmyBevWrYOvry9atGgBAGjfvj2GDBmC1q1bIycnB8eOHYOdnZ3WiiUiIiKiQgJcQEAArl27hjVr1mDdunUYM2YM/Pz8cPDgQZw7dw4SiQTDhw/Hf/7zH23WS0RERPTRK/QkhsaNG2Pt2rW4fPky1qxZg6ysLIwdO5ahjYiIiKgEvfEs1MePH6NJkyYICgrCxYsXERgYqLq1lpWVlTZqJCIiIqJXFHgW6pEjR2Bra4t27dqhRYsW2L17N5o2bYqNGzfCx8cHK1euhLe3Ny5fvqzNeomIiIg+egUGuHnz5uGrr77CxYsXERwcjHnz5iEtLQ0AYGNjg9DQUAwfPhzLli3TWrFEREREVEiAy8zMhEwmU/0TQkAIodanZcuW2Lx5c3HXSERERESvKHAO3KxZszBr1ixMnjwZZcuWxfTp01GuXDlt1kZERERE+SgwwDk5OcHR0RGPHz9GxYoVIZXytqlEREREpUGhqUwikcDU1LTIwltOTg527NiBnj17wsbGBg4ODli0aBFSU1NVfU6ePIm+ffvC2toa9vb2CA0NLZJtExEREX0o3vpm9u8jODgYq1atgqenJ9q2bYv4+HgEBATg1q1bCAkJQVxcHLy9vdGtWzeMGzcOsbGx8Pf3hxACnp6e2iyViIiIqNTSWoATQiA4OBgDBgzApEmTAADt2rVDxYoVMWHCBFy7dg0BAQGwsLDA0qVLAQB2dnbIyspCUFAQ3N3doa+vr61yiYiIiEotrU1se/78OXr16oUePXqotZuZmQEAfv/9d8TExMDJyUltubOzM5KTkxEXF6etUomIiIhKNa2NwMnlcsyYMSNPe1RUFADAwsICmZmZqF+/vtryunXrAgDi4+Nha2v7XjVIJICJieF7rUNTMpkUEokEMhlP/iDSNolEAn39MjAx+fA+fzKZFC8l4L6FqARIJNDavkUiKXx5ie4BLly4gA0bNsDBwQEpKSkAcoPeq4yMjABA7UQHIiIioo+ZVk9ieFVsbCy8vb1Rq1YtzJ8/H/Hx8QByvznnpyjOhBUCePYs7b3Xowm53ABCCGRn52hle0T0LyEEMjKykJqaXtKlFLncfQu4byEqAUJAa/sWU1N5oaNwJTICd+DAAXh4eKB69erYvHkzKlasCGNjYwB5R9qUPyuXExEREX3stB7gNm3ahIkTJ6JZs2b49ttvUaVKFQBAnTp1IJPJkJCQoNZf+fPrc+OIiIiIPlZaDXC7d+/G4sWL0a1bNwQHB6uNqhkYGKBly5aIiIhQu+dqeHg4jI2NYWlpqc1SiYiIiEotrc2BS0pKwoIFC1CzZk24urri6tWrasvr1KkDHx8feHh4YMKECXBxccG5c+cQEhKCSZMmwdBQO2ePEhEREZV2WgtwJ06cQFpaGu7fvw9XV9c8y/39/dG7d28EBgYiICAAvr6+qFq1KqZOnYphw4Zpq0wiIiKiUk9rAe6///0v/vvf/76xn6OjIxwdHbVQEREREZFu4pUgiYiIiHQMAxwRERGRjmGAIyIiItIxDHBEREREOoYBjoiIiEjHMMARERER6RgGOCIiIiIdwwBHREREpGMY4IiIiIh0DAMcERERkY5hgCMiIiLSMQxwRERERDqGAY6IiIhIxzDAEREREekYBjgiIiIiHcMAR0RERKRjGOCIiIiIdAwDHBEREZGOYYAjIiIi0jEMcEREREQ6hgGOiIiISMcwwBERERHpGAY4IiIiIh3DAEdERESkYxjgiIiIiHQMAxwRERGRjmGAIyIiItIxDHBEREREOoYBjoiIiEjHMMARERER6RgGOCIiIiIdwwBHREREpGMY4IiIiIh0DAMcERERkY5hgCMiIiLSMQxwRERERDqGAY6IiIhIx5RYgLt27RqaNGmCv/76S6395MmT6Nu3L6ytrWFvb4/Q0NASqpCIiIiodCqRAHfnzh14eXkhKytLrT0uLg7e3t4wMzNDYGAgevbsCX9/f4SEhJREmURERESlUhltbiwrKws7d+7E8uXLoaenl2d5QEAALCwssHTpUgCAnZ0dsrKyEBQUBHd3d+jr62uzXCIiIqJSSasjcLGxsVi2bBmGDRuGyZMnqy1LT09HTEwMnJyc1NqdnZ2RnJyMuLg4bZZKREREVGppdQSuQYMGiIqKgqmpKfbu3au2LDExEZmZmahfv75ae926dQEA8fHxsLW1fa/tSySAiYnhe61DUzKZFBKJBDIZzxMh0jaJRAJ9/TIwMfnwPn8ymRQvJeC+hagESCTQ2r5FIil8uVYD3CeffFLgspSUFACAXC5XazcyMgIApKamFl9hRERERDpEqwGuMEIIALnfnPMjlb5/2hUCePYs7b3Xowm53ABCCGRn52hle0T0LyEEMjKykJqaXtKlA/B71QAACO5JREFUFLncfQu4byEqAUJAa/sWU1N5oaNwpWYM3tjYGEDekTblz8rlRERERB+7UhPg6tSpA5lMhoSEBLV25c+vz40jIiIi+liVmgBnYGCAli1bIiIiQnU4FQDCw8NhbGwMS0vLEqyOiIiIqPQoNQEOAHx8fBAXF4cJEybg2LFjWLVqFUL+r527C4lq3eM4/htrokjNUhIrqXBXkOb2dE7Sq5iVL1lg0kUF2QtohGBl5ZT2Mk1dRFg6mJrYDrqIjLooEoqoQOgiMoIK6speFDXKwsmCskHPhW1pdnW62Ge71qPfD8zNehb6XxdNX9Z6ln/8oS1btmjUqIF5exQAAMDubBVw8+bNU0VFhZqampSfn6+rV6+qqKhIubm5Vo8GAABgG5a9hZqdna3s7Ozvji9btkzLli2zYCIAAAAz2OoOHAAAAH6NgAMAADAMAQcAAGAYAg4AAMAwBBwAAIBhCDgAAADDEHAAAACGIeAAAAAMQ8ABAAAYhoADAAAwDAEHAABgGAIOAADAMAQcAACAYQg4AAAAwxBwAAAAhiHgAAAADEPAAQAAGIaAAwAAMAwBBwAAYBgCDgAAwDAEHAAAgGEIOAAAAMMQcAAAAIYh4AAAAAxDwAEAABiGgAMAADAMAQcAAGAYAg4AAMAwBBwAAIBhCDgAAADDEHAAAACGIeAAAAAMQ8ABAAAYhoADAAAwDAEHAABgGAIOAADAMLYMuPr6emVmZio+Pl4ZGRm6fPmy1SMBAADYhu0C7tq1a9q1a5cWLFigyspKJSYmyuVy6fr161aPBgAAYAvDrR7gr06cOKGMjAwVFxdLkhYtWiSfzyev16v09HSLpwMAALCere7AtbS0qLm5WampqQHH09LS9OzZM7W0tFg0GQAAgH3YKuCePXsmSZo6dWrA8cmTJ0uSnj9/PuAzAQAA2I2tHqF2dXVJkoKDgwOOjx49WpL04cOHv/XzHQ4pIiL41yf+n/wnLlr/jo0esN8HoI/DIQU5HBo50mn1KP+IkdP/pbBpv1s9BjDkOBxBkk2+W2wVcL29vZIkh8Pxw+NBQX/vhuFff+4/bdgA/z4AQ4TDIYe9HqAAGGC2+gYICQmR9P2dto8fPwasAwAADGW2Crg/9741NzcHHH/58mXAOgAAwFBmq4CbPHmyJk2a9N3ffLtx44amTJmiCRMmWDQZAACAfdhqD5wk5efna+/evRozZoySk5N1+/ZtXbt2TWVlZVaPBgAAYAuO3j/fELCRuro6nTlzRu3t7YqOjlZeXp6ysrKsHgsAAMAWbBlwAAAA+Dlb7YEDAADArxFwAAAAhiHgAAAADEPAAQAAGIaAAwAAMAwBBwAAYBgCDgAAwDAEHAAAgGEIOAAAAMMQcBj0Dhw4oBkzZqihoeGH67du3dKMGTNUVVU1wJMBGGzWr1+v2NhYPX369IfrM2fOVEVFxQBPhcGIgMOgV1RUpKioKLndbn38+DFgraurS263W/Hx8dqyZYtFEwIYTPx+v4qLi+X3+60eBYMYAYdBLzg4WB6PR21tbSorKwtYO3bsmHw+n44ePaphw4ZZNCGAwSQkJERPnjxRbW2t1aNgECPgMCQkJSVp1apVOnfunB4+fChJamxs1MWLF1VYWKiYmJj+c8+fP6+MjAzFxcVpyZIlqq2tVW9vb/96R0eHCgsLNX/+fMXHxysrK0tXrlwZ8GsCYE9xcXHKzMxUVVWVmpqafnrep0+f5PV6lZaWplmzZmn58uW6cOHCAE4KkxFwGDL27t2r8PBweTwedXd369ChQ5ozZ442bNjQf05lZaU8Ho+Sk5N16tQpZWdnq7y8XKWlpf3n7Ny5Uy9evJDH41FNTY2mT5+uoqIi3b9/34rLAmBD+/bt0+jRo1VcXKyenp7v1nt7e5Wbm6uzZ89q7dq1qq6u1vz583Xw4EFVVlZaMDFMM9zqAYCBMmbMGLndbuXn52vz5s1qa2tTdXW1HA6HJMnn86mmpkbr16+Xy+WSJC1cuFCjRo3S8ePHlZOTo8jISN2/f1/bt2/X0qVLJUmJiYkKDw/X8OH8cwLQZ9y4cdq/f78KCwt19uxZbdq0KWC9oaFB9+7dk9frVXp6uqS+7xu/369Tp05p3bp1Gjt2rBWjwxDcgcOQsnTpUmVmZqqxsVF79uxRdHR0/9qDBw/0+fNnLV68WH6/v/+TkpIiv9+vu3fvSuoLtvLycm3btk2XLl3Su3fv5HK5lJCQYNVlAbChzMxMpaSkyOv1qrm5OWCtsbFRTqdTqampAcdXrlyp7u7u/q0ewM8QcBhyFi5cKKlvX9y3Ojs7JUkbN25UbGxs/yctLU2S9Pr1a0mS1+tVTk6OHj16pJKSEiUlJSk3N1ft7e0DeBUATOB2u+V0OlVSUhKwl9bn8yk8PFxBQYH/DUdEREjqe0Me+F945gN8FRISIqkv0CZOnPjdemRkpCQpNDRULpdLLpdLTU1NunXrlqqqqnTkyBH2rgAIEBkZKZfLpZKSEp0/f77/eGhoqN6+fauenp6AiHvz5o0k8fgUv8QdOOCrhIQEOZ1OdXR0aNasWf2fz58/q7y8XB0dHWptbVVSUpJu3rwpSYqJiVFeXp7mzp3LHTgAP7R69WotWLBApaWl/S80JCYm6suXL7px40bAufX19XI6nYqPj7diVBiEO3DAVxEREcrJyVFpaal8Pp9mz56t1tZWlZWVKSwsTL/99ptGjBihqKgoeTwevX//XpMmTdLjx491584dFRQUWH0JAGzq8OHDWrFiRf9j1KSkJM2ZM0clJSV69eqVpk2bpoaGBtXV1Wnr1q0KDQ21eGLYHQEHfGP37t0aP3686urqVF1drbCwMCUnJ2vHjh0aMWKEJOnkyZM6fvy4Tpw4oc7OTk2YMEEFBQXKzc21eHoAdjVx4kTt3LlThw8fliQFBQWppqZG5eXlOn36tHw+n6ZMmSK32601a9ZYPC1M4Oj9dlclAAAAbI89cAAAAIYh4AAAAAxDwAEAABiGgAMAADAMAQcAAGAYAg4AAMAwBBwAAIBhCDgAAADDEHAAAACG+S+DhQxx/Ze/HAAAAABJRU5ErkJggg==\n",
      "text/plain": [
       "<Figure size 720x432 with 1 Axes>"
      ]
     },
     "metadata": {},
     "output_type": "display_data"
    }
   ],
   "source": [
    "# plot binary target as percentage\n",
    "sns.set('talk')\n",
    "plt.figure(figsize=(10,6))\n",
    "sns.barplot(x=melt_bin_tar['index'], y=melt_bin_tar['percent'], alpha = .80)\n",
    "plt.title('Discuss Mental Health Neg Consequences', fontdict={'fontsize':20})\n",
    "plt.ylabel('% of Respondents', fontdict={'fontsize':14})\n",
    "plt.xlabel('')\n",
    "plt.savefig('binary_target_percent', dpi=300)"
   ]
  },
  {
   "cell_type": "code",
   "execution_count": 11,
   "metadata": {},
   "outputs": [],
   "source": [
    "# Making our Nan values Missing to add more information to the model that people may have felt uncomfortable \n",
    "# answering the questions at hand .\n",
    "\n",
    "df.work_interfere=df.work_interfere.fillna(\"Missing\")\n",
    "df.self_employed=df.self_employed.fillna(\"Missing\")"
   ]
  },
  {
   "cell_type": "code",
   "execution_count": 12,
   "metadata": {},
   "outputs": [],
   "source": [
    "# Binning countries location to better interpret the results from each area of the globe.\n",
    "north=['Canada','United States']\n",
    "uk=['United Kingdom']\n",
    "eu=['Germany','Ireland','Netherlands','France','Italy','Belgium','Spain','Norway']\n",
    "for x in df.country.index:\n",
    "    if df.country[x]in north:\n",
    "        df.country[x]= \"North America\"\n",
    "    elif df.country[x]in uk:\n",
    "        df.country[x]= \"United Kingdom\"\n",
    "    elif df.country[x]in eu:\n",
    "        df.country[x]= \"Europe\"\n",
    "    else:\n",
    "        df.country[x]= 'Other'"
   ]
  },
  {
   "cell_type": "code",
   "execution_count": 13,
   "metadata": {
    "scrolled": true
   },
   "outputs": [
    {
     "data": {
      "image/png": "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\n",
      "text/plain": [
       "<Figure size 360x360 with 1 Axes>"
      ]
     },
     "metadata": {},
     "output_type": "display_data"
    }
   ],
   "source": [
    "# graph continent feature against target\n",
    "continent_yes = df['country'].loc[df['mental_health_consequence'] == 1].value_counts().to_frame() # yes continent df\n",
    "continent_no = df['country'].loc[df['mental_health_consequence'] == 0].value_counts().to_frame() # no continent df\n",
    "\n",
    "# create df with yes and no continent\n",
    "continent_df = pd.DataFrame({'mental_health_yes':continent_yes['country'],\n",
    "                            'mental_health_no':continent_no['country']})\n",
    "continent_df.index.name = 'Answers'\n",
    "continent_df.reset_index(inplace=True)\n",
    "\n",
    "# melt df for bar graph\n",
    "continent_df = pd.melt(continent_df, id_vars='Answers', var_name='mental_health_yes', value_name='mental_health_no')\n",
    "\n",
    "# plot melted df\n",
    "sns.set(style='darkgrid')\n",
    "sns.catplot(x='mental_health_yes', y='mental_health_no', hue='Answers', data=continent_df, kind='bar', legend_out=False)\\\n",
    "    .set(ylabel='# of Respondents', xlabel='', title='Continent and Mental Health')\\\n",
    "    .set_xticklabels(['Mental Health Yes', 'Mental Health No'])\n",
    "plt.savefig('./images/continent_mental_health', dpi=300)"
   ]
  },
  {
   "cell_type": "code",
   "execution_count": 14,
   "metadata": {
    "scrolled": true
   },
   "outputs": [],
   "source": [
    "# Binning each state to be able to analize how each region may affect mental health. \n",
    "\n",
    "north= ['CT', 'DE', 'IL', 'IN', 'IA', 'KS', 'ME', 'MA', 'MD', 'MI', 'MN', 'MO', 'NE','NH', 'NJ', 'NY', 'ND', 'OH', 'PA', 'RI', 'SD', 'VT', 'WI','DC']\n",
    "south= ['AL', 'AR', 'FL', 'GA', 'KT', 'LA', 'MS', 'NC', 'OK', 'SC', 'TN', 'TX', 'VA', 'WV', 'PR']\n",
    "west= ['AK', 'AZ', 'CA', 'CO', 'HI', 'ID', 'MT', 'NV', 'NM', 'OR', 'UT', 'WA', 'WY']\n",
    "\n",
    "\n",
    "for x in df.state.index:\n",
    "    if df.state[x]in north:\n",
    "        df.state[x]= \"Northern State\"\n",
    "    elif df.state[x]in south:\n",
    "        df.state[x]= \"Southern State\"\n",
    "    elif df.state[x]in west:\n",
    "        df.state[x]= \"Western State\"\n",
    "    else:\n",
    "        df.state[x]= 'Non US'"
   ]
  },
  {
   "cell_type": "code",
   "execution_count": 15,
   "metadata": {},
   "outputs": [
    {
     "data": {
      "image/png": "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\n",
      "text/plain": [
       "<Figure size 360x360 with 1 Axes>"
      ]
     },
     "metadata": {},
     "output_type": "display_data"
    }
   ],
   "source": [
    "# graph region feature against target\n",
    "regional_yes = df['state'].loc[df['mental_health_consequence'] == 1].value_counts().to_frame() # yes regional df\n",
    "regional_no = df['state'].loc[df['mental_health_consequence'] == 0].value_counts().to_frame() # no regional df\n",
    "\n",
    "# create df with yes and no region\n",
    "regional_df = pd.DataFrame({'mental_health_yes':regional_yes['state'],\n",
    "                            'mental_health_no':regional_no['state']})\n",
    "regional_df.index.name = 'Answers'\n",
    "regional_df.reset_index(inplace=True)\n",
    "\n",
    "# melt df for bar graph\n",
    "regional_df = pd.melt(regional_df, id_vars='Answers', var_name='mental_health_yes', value_name='mental_health_no')\n",
    "\n",
    "# plot melted df\n",
    "sns.set(style='darkgrid')\n",
    "sns.catplot(x='mental_health_yes', y='mental_health_no', hue='Answers', data=regional_df, kind='bar', legend_out=False)\\\n",
    "    .set(ylabel='# of Respondents', xlabel='', title='US Region and Mental Health')\\\n",
    "    .set_xticklabels(['Mental Health Yes', 'Mental Health No'])\n",
    "plt.savefig('./images/us_region_mental_health', dpi=300)"
   ]
  },
  {
   "cell_type": "code",
   "execution_count": 16,
   "metadata": {},
   "outputs": [],
   "source": [
    "# Creating dummies for our models.\n",
    "df=pd.get_dummies(df,columns=['no_employees','gender','country','state','work_interfere','benefits','care_options','wellness_program','seek_help','anonymity','leave','phys_health_consequence','coworkers','supervisor','mental_health_interview','phys_health_interview','mental_vs_physical',\"self_employed\"],)"
   ]
  },
  {
   "cell_type": "code",
   "execution_count": 17,
   "metadata": {},
   "outputs": [],
   "source": [
    "# Manually dropping the columns from our dummies. We selected the tertiary answers as the ones to drop.\n",
    "df.drop([\"state_Non US\",\"no_employees_extra_small\",'gender_gender_variant','country_Other',\"work_interfere_Missing\",\"benefits_Don't know\",\"care_options_Not sure\",\"wellness_program_Don't know\",\"seek_help_Don't know\",\"anonymity_Don't know\",\"leave_Don't know\",\"phys_health_consequence_Maybe\",'coworkers_Some of them',\"supervisor_Some of them\",\"mental_health_interview_Maybe\",\"phys_health_interview_Maybe\",\"mental_vs_physical_Don't know\",'self_employed_Missing'],axis=1,inplace=True)"
   ]
  },
  {
   "cell_type": "code",
   "execution_count": 18,
   "metadata": {},
   "outputs": [],
   "source": [
    "def binary(column):\n",
    "    \"\"\"\n",
    "    Converts Yes or No answers into variables.\n",
    "    \"\"\"\n",
    "    conditions=[\n",
    "        (df[column].str.lower()=='yes'),            \n",
    "        (df[column].str.lower()=='no'),\n",
    "    ]\n",
    "    choises=[\n",
    "        1,\n",
    "        0,\n",
    "\n",
    "    ]\n",
    "    df[column]=np.select(conditions,choises,default=0)"
   ]
  },
  {
   "cell_type": "code",
   "execution_count": 19,
   "metadata": {},
   "outputs": [],
   "source": [
    "# Converting our columns into binaries. \n",
    "columns=[\"family_history\",\"treatment\",\"remote_work\",\"tech_company\",\"obs_consequence\"]\n",
    "for c in columns:\n",
    "    binary(str(c))"
   ]
  },
  {
   "cell_type": "code",
   "execution_count": 20,
   "metadata": {},
   "outputs": [],
   "source": [
    "# Function to find outliers in Age column\n",
    "def outliers(df):\n",
    "    '''Takes in a dataframe and returns a list of outliers > 99th and < 1 percentile'''\n",
    "    outliers = []\n",
    "    for i in df:\n",
    "        q1 = np.percentile(df, .5)\n",
    "        q3 = np.percentile(df, 99.5)\n",
    "        if i > q3 or i < q1:\n",
    "            outliers.append(i)\n",
    "    print(\"Outliers:\", outliers)\n",
    "    return outliers"
   ]
  },
  {
   "cell_type": "code",
   "execution_count": 21,
   "metadata": {},
   "outputs": [
    {
     "name": "stdout",
     "output_type": "stream",
     "text": [
      "Outliers: [-29, 60, 329, 58, 62, -1726, 5, 72, 60]\n"
     ]
    }
   ],
   "source": [
    "# Removing the age outliers.\n",
    "age_outliers = outliers(df['age'])\n",
    "df = df.loc[~df['age'].isin(age_outliers)]"
   ]
  },
  {
   "cell_type": "code",
   "execution_count": 22,
   "metadata": {},
   "outputs": [],
   "source": [
    "# Transforming our date time column into a timestamp to be able to create dummies.\n",
    "df['timestamp'] = pd.to_datetime(df['timestamp'])"
   ]
  },
  {
   "cell_type": "code",
   "execution_count": 23,
   "metadata": {},
   "outputs": [],
   "source": [
    "# create columns for years, months, days, dow, hour to see when majority of surveys were administered\n",
    "df['Year'] = df['timestamp'].dt.year\n",
    "df['Month'] = df['timestamp'].dt.month\n",
    "df['Day'] = df['timestamp'].dt.day\n",
    "df['Dow'] = df['timestamp'].dt.dayofweek"
   ]
  },
  {
   "cell_type": "code",
   "execution_count": 24,
   "metadata": {},
   "outputs": [
    {
     "data": {
      "text/html": [
       "<div>\n",
       "<style scoped>\n",
       "    .dataframe tbody tr th:only-of-type {\n",
       "        vertical-align: middle;\n",
       "    }\n",
       "\n",
       "    .dataframe tbody tr th {\n",
       "        vertical-align: top;\n",
       "    }\n",
       "\n",
       "    .dataframe thead th {\n",
       "        text-align: right;\n",
       "    }\n",
       "</style>\n",
       "<table border=\"1\" class=\"dataframe\">\n",
       "  <thead>\n",
       "    <tr style=\"text-align: right;\">\n",
       "      <th></th>\n",
       "      <th>timestamp</th>\n",
       "      <th>age</th>\n",
       "      <th>family_history</th>\n",
       "      <th>treatment</th>\n",
       "      <th>remote_work</th>\n",
       "      <th>tech_company</th>\n",
       "      <th>mental_health_consequence</th>\n",
       "      <th>obs_consequence</th>\n",
       "      <th>no_employees_extra_large</th>\n",
       "      <th>no_employees_large</th>\n",
       "      <th>no_employees_medium</th>\n",
       "      <th>no_employees_medium_large</th>\n",
       "      <th>no_employees_small</th>\n",
       "      <th>gender_female</th>\n",
       "      <th>gender_male</th>\n",
       "      <th>country_Europe</th>\n",
       "      <th>country_North America</th>\n",
       "      <th>country_United Kingdom</th>\n",
       "      <th>state_Northern State</th>\n",
       "      <th>state_Southern State</th>\n",
       "      <th>state_Western State</th>\n",
       "      <th>work_interfere_Never</th>\n",
       "      <th>work_interfere_Often</th>\n",
       "      <th>work_interfere_Rarely</th>\n",
       "      <th>work_interfere_Sometimes</th>\n",
       "      <th>benefits_No</th>\n",
       "      <th>benefits_Yes</th>\n",
       "      <th>care_options_No</th>\n",
       "      <th>care_options_Yes</th>\n",
       "      <th>wellness_program_No</th>\n",
       "      <th>wellness_program_Yes</th>\n",
       "      <th>seek_help_No</th>\n",
       "      <th>seek_help_Yes</th>\n",
       "      <th>anonymity_No</th>\n",
       "      <th>anonymity_Yes</th>\n",
       "      <th>leave_Somewhat difficult</th>\n",
       "      <th>leave_Somewhat easy</th>\n",
       "      <th>leave_Very difficult</th>\n",
       "      <th>leave_Very easy</th>\n",
       "      <th>phys_health_consequence_No</th>\n",
       "      <th>phys_health_consequence_Yes</th>\n",
       "      <th>coworkers_No</th>\n",
       "      <th>coworkers_Yes</th>\n",
       "      <th>supervisor_No</th>\n",
       "      <th>supervisor_Yes</th>\n",
       "      <th>mental_health_interview_No</th>\n",
       "      <th>mental_health_interview_Yes</th>\n",
       "      <th>phys_health_interview_No</th>\n",
       "      <th>phys_health_interview_Yes</th>\n",
       "      <th>mental_vs_physical_No</th>\n",
       "      <th>mental_vs_physical_Yes</th>\n",
       "      <th>self_employed_No</th>\n",
       "      <th>Year</th>\n",
       "      <th>Month</th>\n",
       "      <th>Day</th>\n",
       "      <th>Dow</th>\n",
       "    </tr>\n",
       "  </thead>\n",
       "  <tbody>\n",
       "    <tr>\n",
       "      <th>0</th>\n",
       "      <td>2014-08-27</td>\n",
       "      <td>37</td>\n",
       "      <td>0</td>\n",
       "      <td>1</td>\n",
       "      <td>0</td>\n",
       "      <td>1</td>\n",
       "      <td>0</td>\n",
       "      <td>0</td>\n",
       "      <td>0</td>\n",
       "      <td>0</td>\n",
       "      <td>0</td>\n",
       "      <td>0</td>\n",
       "      <td>1</td>\n",
       "      <td>1</td>\n",
       "      <td>0</td>\n",
       "      <td>0</td>\n",
       "      <td>1</td>\n",
       "      <td>0</td>\n",
       "      <td>1</td>\n",
       "      <td>0</td>\n",
       "      <td>0</td>\n",
       "      <td>0</td>\n",
       "      <td>1</td>\n",
       "      <td>0</td>\n",
       "      <td>0</td>\n",
       "      <td>0</td>\n",
       "      <td>1</td>\n",
       "      <td>0</td>\n",
       "      <td>0</td>\n",
       "      <td>1</td>\n",
       "      <td>0</td>\n",
       "      <td>0</td>\n",
       "      <td>1</td>\n",
       "      <td>0</td>\n",
       "      <td>1</td>\n",
       "      <td>0</td>\n",
       "      <td>1</td>\n",
       "      <td>0</td>\n",
       "      <td>0</td>\n",
       "      <td>1</td>\n",
       "      <td>0</td>\n",
       "      <td>0</td>\n",
       "      <td>0</td>\n",
       "      <td>0</td>\n",
       "      <td>1</td>\n",
       "      <td>1</td>\n",
       "      <td>0</td>\n",
       "      <td>0</td>\n",
       "      <td>0</td>\n",
       "      <td>0</td>\n",
       "      <td>1</td>\n",
       "      <td>0</td>\n",
       "      <td>2014</td>\n",
       "      <td>8</td>\n",
       "      <td>27</td>\n",
       "      <td>2</td>\n",
       "    </tr>\n",
       "    <tr>\n",
       "      <th>1</th>\n",
       "      <td>2014-08-27</td>\n",
       "      <td>44</td>\n",
       "      <td>0</td>\n",
       "      <td>0</td>\n",
       "      <td>0</td>\n",
       "      <td>0</td>\n",
       "      <td>1</td>\n",
       "      <td>0</td>\n",
       "      <td>1</td>\n",
       "      <td>0</td>\n",
       "      <td>0</td>\n",
       "      <td>0</td>\n",
       "      <td>0</td>\n",
       "      <td>0</td>\n",
       "      <td>1</td>\n",
       "      <td>0</td>\n",
       "      <td>1</td>\n",
       "      <td>0</td>\n",
       "      <td>1</td>\n",
       "      <td>0</td>\n",
       "      <td>0</td>\n",
       "      <td>0</td>\n",
       "      <td>0</td>\n",
       "      <td>1</td>\n",
       "      <td>0</td>\n",
       "      <td>0</td>\n",
       "      <td>0</td>\n",
       "      <td>1</td>\n",
       "      <td>0</td>\n",
       "      <td>0</td>\n",
       "      <td>0</td>\n",
       "      <td>0</td>\n",
       "      <td>0</td>\n",
       "      <td>0</td>\n",
       "      <td>0</td>\n",
       "      <td>0</td>\n",
       "      <td>0</td>\n",
       "      <td>0</td>\n",
       "      <td>0</td>\n",
       "      <td>1</td>\n",
       "      <td>0</td>\n",
       "      <td>1</td>\n",
       "      <td>0</td>\n",
       "      <td>1</td>\n",
       "      <td>0</td>\n",
       "      <td>1</td>\n",
       "      <td>0</td>\n",
       "      <td>1</td>\n",
       "      <td>0</td>\n",
       "      <td>0</td>\n",
       "      <td>0</td>\n",
       "      <td>0</td>\n",
       "      <td>2014</td>\n",
       "      <td>8</td>\n",
       "      <td>27</td>\n",
       "      <td>2</td>\n",
       "    </tr>\n",
       "    <tr>\n",
       "      <th>2</th>\n",
       "      <td>2014-08-27</td>\n",
       "      <td>32</td>\n",
       "      <td>0</td>\n",
       "      <td>0</td>\n",
       "      <td>0</td>\n",
       "      <td>1</td>\n",
       "      <td>0</td>\n",
       "      <td>0</td>\n",
       "      <td>0</td>\n",
       "      <td>0</td>\n",
       "      <td>0</td>\n",
       "      <td>0</td>\n",
       "      <td>1</td>\n",
       "      <td>0</td>\n",
       "      <td>1</td>\n",
       "      <td>0</td>\n",
       "      <td>1</td>\n",
       "      <td>0</td>\n",
       "      <td>0</td>\n",
       "      <td>0</td>\n",
       "      <td>0</td>\n",
       "      <td>0</td>\n",
       "      <td>0</td>\n",
       "      <td>1</td>\n",
       "      <td>0</td>\n",
       "      <td>1</td>\n",
       "      <td>0</td>\n",
       "      <td>1</td>\n",
       "      <td>0</td>\n",
       "      <td>1</td>\n",
       "      <td>0</td>\n",
       "      <td>1</td>\n",
       "      <td>0</td>\n",
       "      <td>0</td>\n",
       "      <td>0</td>\n",
       "      <td>1</td>\n",
       "      <td>0</td>\n",
       "      <td>0</td>\n",
       "      <td>0</td>\n",
       "      <td>1</td>\n",
       "      <td>0</td>\n",
       "      <td>0</td>\n",
       "      <td>1</td>\n",
       "      <td>0</td>\n",
       "      <td>1</td>\n",
       "      <td>0</td>\n",
       "      <td>1</td>\n",
       "      <td>0</td>\n",
       "      <td>1</td>\n",
       "      <td>1</td>\n",
       "      <td>0</td>\n",
       "      <td>0</td>\n",
       "      <td>2014</td>\n",
       "      <td>8</td>\n",
       "      <td>27</td>\n",
       "      <td>2</td>\n",
       "    </tr>\n",
       "    <tr>\n",
       "      <th>3</th>\n",
       "      <td>2014-08-27</td>\n",
       "      <td>31</td>\n",
       "      <td>1</td>\n",
       "      <td>1</td>\n",
       "      <td>0</td>\n",
       "      <td>1</td>\n",
       "      <td>1</td>\n",
       "      <td>1</td>\n",
       "      <td>0</td>\n",
       "      <td>0</td>\n",
       "      <td>1</td>\n",
       "      <td>0</td>\n",
       "      <td>0</td>\n",
       "      <td>0</td>\n",
       "      <td>1</td>\n",
       "      <td>0</td>\n",
       "      <td>0</td>\n",
       "      <td>1</td>\n",
       "      <td>0</td>\n",
       "      <td>0</td>\n",
       "      <td>0</td>\n",
       "      <td>0</td>\n",
       "      <td>1</td>\n",
       "      <td>0</td>\n",
       "      <td>0</td>\n",
       "      <td>1</td>\n",
       "      <td>0</td>\n",
       "      <td>0</td>\n",
       "      <td>1</td>\n",
       "      <td>1</td>\n",
       "      <td>0</td>\n",
       "      <td>1</td>\n",
       "      <td>0</td>\n",
       "      <td>1</td>\n",
       "      <td>0</td>\n",
       "      <td>1</td>\n",
       "      <td>0</td>\n",
       "      <td>0</td>\n",
       "      <td>0</td>\n",
       "      <td>0</td>\n",
       "      <td>1</td>\n",
       "      <td>0</td>\n",
       "      <td>0</td>\n",
       "      <td>1</td>\n",
       "      <td>0</td>\n",
       "      <td>0</td>\n",
       "      <td>0</td>\n",
       "      <td>0</td>\n",
       "      <td>0</td>\n",
       "      <td>1</td>\n",
       "      <td>0</td>\n",
       "      <td>0</td>\n",
       "      <td>2014</td>\n",
       "      <td>8</td>\n",
       "      <td>27</td>\n",
       "      <td>2</td>\n",
       "    </tr>\n",
       "    <tr>\n",
       "      <th>4</th>\n",
       "      <td>2014-08-27</td>\n",
       "      <td>31</td>\n",
       "      <td>0</td>\n",
       "      <td>0</td>\n",
       "      <td>1</td>\n",
       "      <td>1</td>\n",
       "      <td>0</td>\n",
       "      <td>0</td>\n",
       "      <td>0</td>\n",
       "      <td>0</td>\n",
       "      <td>0</td>\n",
       "      <td>1</td>\n",
       "      <td>0</td>\n",
       "      <td>0</td>\n",
       "      <td>1</td>\n",
       "      <td>0</td>\n",
       "      <td>1</td>\n",
       "      <td>0</td>\n",
       "      <td>0</td>\n",
       "      <td>1</td>\n",
       "      <td>0</td>\n",
       "      <td>1</td>\n",
       "      <td>0</td>\n",
       "      <td>0</td>\n",
       "      <td>0</td>\n",
       "      <td>0</td>\n",
       "      <td>1</td>\n",
       "      <td>1</td>\n",
       "      <td>0</td>\n",
       "      <td>0</td>\n",
       "      <td>0</td>\n",
       "      <td>0</td>\n",
       "      <td>0</td>\n",
       "      <td>0</td>\n",
       "      <td>0</td>\n",
       "      <td>0</td>\n",
       "      <td>0</td>\n",
       "      <td>0</td>\n",
       "      <td>0</td>\n",
       "      <td>1</td>\n",
       "      <td>0</td>\n",
       "      <td>0</td>\n",
       "      <td>0</td>\n",
       "      <td>0</td>\n",
       "      <td>1</td>\n",
       "      <td>0</td>\n",
       "      <td>1</td>\n",
       "      <td>0</td>\n",
       "      <td>1</td>\n",
       "      <td>0</td>\n",
       "      <td>0</td>\n",
       "      <td>0</td>\n",
       "      <td>2014</td>\n",
       "      <td>8</td>\n",
       "      <td>27</td>\n",
       "      <td>2</td>\n",
       "    </tr>\n",
       "  </tbody>\n",
       "</table>\n",
       "</div>"
      ],
      "text/plain": [
       "   timestamp  age  family_history  treatment  remote_work  tech_company  \\\n",
       "0 2014-08-27   37               0          1            0             1   \n",
       "1 2014-08-27   44               0          0            0             0   \n",
       "2 2014-08-27   32               0          0            0             1   \n",
       "3 2014-08-27   31               1          1            0             1   \n",
       "4 2014-08-27   31               0          0            1             1   \n",
       "\n",
       "   mental_health_consequence  obs_consequence  no_employees_extra_large  \\\n",
       "0                          0                0                         0   \n",
       "1                          1                0                         1   \n",
       "2                          0                0                         0   \n",
       "3                          1                1                         0   \n",
       "4                          0                0                         0   \n",
       "\n",
       "   no_employees_large  no_employees_medium  no_employees_medium_large  \\\n",
       "0                   0                    0                          0   \n",
       "1                   0                    0                          0   \n",
       "2                   0                    0                          0   \n",
       "3                   0                    1                          0   \n",
       "4                   0                    0                          1   \n",
       "\n",
       "   no_employees_small  gender_female  gender_male  country_Europe  \\\n",
       "0                   1              1            0               0   \n",
       "1                   0              0            1               0   \n",
       "2                   1              0            1               0   \n",
       "3                   0              0            1               0   \n",
       "4                   0              0            1               0   \n",
       "\n",
       "   country_North America  country_United Kingdom  state_Northern State  \\\n",
       "0                      1                       0                     1   \n",
       "1                      1                       0                     1   \n",
       "2                      1                       0                     0   \n",
       "3                      0                       1                     0   \n",
       "4                      1                       0                     0   \n",
       "\n",
       "   state_Southern State  state_Western State  work_interfere_Never  \\\n",
       "0                     0                    0                     0   \n",
       "1                     0                    0                     0   \n",
       "2                     0                    0                     0   \n",
       "3                     0                    0                     0   \n",
       "4                     1                    0                     1   \n",
       "\n",
       "   work_interfere_Often  work_interfere_Rarely  work_interfere_Sometimes  \\\n",
       "0                     1                      0                         0   \n",
       "1                     0                      1                         0   \n",
       "2                     0                      1                         0   \n",
       "3                     1                      0                         0   \n",
       "4                     0                      0                         0   \n",
       "\n",
       "   benefits_No  benefits_Yes  care_options_No  care_options_Yes  \\\n",
       "0            0             1                0                 0   \n",
       "1            0             0                1                 0   \n",
       "2            1             0                1                 0   \n",
       "3            1             0                0                 1   \n",
       "4            0             1                1                 0   \n",
       "\n",
       "   wellness_program_No  wellness_program_Yes  seek_help_No  seek_help_Yes  \\\n",
       "0                    1                     0             0              1   \n",
       "1                    0                     0             0              0   \n",
       "2                    1                     0             1              0   \n",
       "3                    1                     0             1              0   \n",
       "4                    0                     0             0              0   \n",
       "\n",
       "   anonymity_No  anonymity_Yes  leave_Somewhat difficult  leave_Somewhat easy  \\\n",
       "0             0              1                         0                    1   \n",
       "1             0              0                         0                    0   \n",
       "2             0              0                         1                    0   \n",
       "3             1              0                         1                    0   \n",
       "4             0              0                         0                    0   \n",
       "\n",
       "   leave_Very difficult  leave_Very easy  phys_health_consequence_No  \\\n",
       "0                     0                0                           1   \n",
       "1                     0                0                           1   \n",
       "2                     0                0                           1   \n",
       "3                     0                0                           0   \n",
       "4                     0                0                           1   \n",
       "\n",
       "   phys_health_consequence_Yes  coworkers_No  coworkers_Yes  supervisor_No  \\\n",
       "0                            0             0              0              0   \n",
       "1                            0             1              0              1   \n",
       "2                            0             0              1              0   \n",
       "3                            1             0              0              1   \n",
       "4                            0             0              0              0   \n",
       "\n",
       "   supervisor_Yes  mental_health_interview_No  mental_health_interview_Yes  \\\n",
       "0               1                           1                            0   \n",
       "1               0                           1                            0   \n",
       "2               1                           0                            1   \n",
       "3               0                           0                            0   \n",
       "4               1                           0                            1   \n",
       "\n",
       "   phys_health_interview_No  phys_health_interview_Yes  mental_vs_physical_No  \\\n",
       "0                         0                          0                      0   \n",
       "1                         1                          0                      0   \n",
       "2                         0                          1                      1   \n",
       "3                         0                          0                      1   \n",
       "4                         0                          1                      0   \n",
       "\n",
       "   mental_vs_physical_Yes  self_employed_No  Year  Month  Day  Dow  \n",
       "0                       1                 0  2014      8   27    2  \n",
       "1                       0                 0  2014      8   27    2  \n",
       "2                       0                 0  2014      8   27    2  \n",
       "3                       0                 0  2014      8   27    2  \n",
       "4                       0                 0  2014      8   27    2  "
      ]
     },
     "execution_count": 24,
     "metadata": {},
     "output_type": "execute_result"
    }
   ],
   "source": [
    "# Final Dataset to begin generating models.\n",
    "df.head(5)"
   ]
  },
  {
   "cell_type": "markdown",
   "metadata": {},
   "source": [
    "## Logistic Regression"
   ]
  },
  {
   "cell_type": "code",
   "execution_count": 25,
   "metadata": {},
   "outputs": [],
   "source": [
    "#generating our X and Y variables.\n",
    "x=df.drop(['timestamp','mental_health_consequence'],axis=1)\n",
    "y=df.mental_health_consequence"
   ]
  },
  {
   "cell_type": "code",
   "execution_count": 26,
   "metadata": {},
   "outputs": [],
   "source": [
    "# Creating our first split\n",
    "X_train, X_test, y_train, y_test = train_test_split(x, y, random_state=2020,test_size=0.2)"
   ]
  },
  {
   "cell_type": "code",
   "execution_count": 27,
   "metadata": {},
   "outputs": [
    {
     "data": {
      "text/plain": [
       "LogisticRegression(class_weight='balanced')"
      ]
     },
     "execution_count": 27,
     "metadata": {},
     "output_type": "execute_result"
    }
   ],
   "source": [
    "# Fitting our model\n",
    "from sklearn.linear_model import LogisticRegression\n",
    "lr=LogisticRegression(class_weight='balanced')\n",
    "lr.fit(X_train,y_train)"
   ]
  },
  {
   "cell_type": "code",
   "execution_count": 28,
   "metadata": {},
   "outputs": [],
   "source": [
    "# Generating Predictions\n",
    "y_pred_lr = lr.predict(X_test)"
   ]
  },
  {
   "cell_type": "code",
   "execution_count": 29,
   "metadata": {},
   "outputs": [
    {
     "name": "stdout",
     "output_type": "stream",
     "text": [
      "Logistic Regression Accuracy: 0.8597285067873304\n",
      "Logistic Regression Accuracy: 0.8904593639575972\n"
     ]
    }
   ],
   "source": [
    "# Pulling out our scores.\n",
    "from sklearn import metrics\n",
    "print('Logistic Regression Accuracy: {}'.format(metrics.accuracy_score(y_test, y_pred_lr)))\n",
    "print('Logistic Regression Accuracy: {}'.format(metrics.f1_score(y_test,y_pred_lr)))"
   ]
  },
  {
   "cell_type": "code",
   "execution_count": 30,
   "metadata": {},
   "outputs": [
    {
     "data": {
      "text/html": [
       "<div>\n",
       "<style scoped>\n",
       "    .dataframe tbody tr th:only-of-type {\n",
       "        vertical-align: middle;\n",
       "    }\n",
       "\n",
       "    .dataframe tbody tr th {\n",
       "        vertical-align: top;\n",
       "    }\n",
       "\n",
       "    .dataframe thead th {\n",
       "        text-align: right;\n",
       "    }\n",
       "</style>\n",
       "<table border=\"1\" class=\"dataframe\">\n",
       "  <thead>\n",
       "    <tr style=\"text-align: right;\">\n",
       "      <th></th>\n",
       "      <th>Coeficients</th>\n",
       "    </tr>\n",
       "  </thead>\n",
       "  <tbody>\n",
       "    <tr>\n",
       "      <th>supervisor_No</th>\n",
       "      <td>0.893443</td>\n",
       "    </tr>\n",
       "    <tr>\n",
       "      <th>mental_vs_physical_No</th>\n",
       "      <td>0.615651</td>\n",
       "    </tr>\n",
       "    <tr>\n",
       "      <th>mental_health_interview_No</th>\n",
       "      <td>0.542782</td>\n",
       "    </tr>\n",
       "    <tr>\n",
       "      <th>coworkers_No</th>\n",
       "      <td>0.522709</td>\n",
       "    </tr>\n",
       "    <tr>\n",
       "      <th>benefits_Yes</th>\n",
       "      <td>0.497532</td>\n",
       "    </tr>\n",
       "  </tbody>\n",
       "</table>\n",
       "</div>"
      ],
      "text/plain": [
       "                            Coeficients\n",
       "supervisor_No                  0.893443\n",
       "mental_vs_physical_No          0.615651\n",
       "mental_health_interview_No     0.542782\n",
       "coworkers_No                   0.522709\n",
       "benefits_Yes                   0.497532"
      ]
     },
     "execution_count": 30,
     "metadata": {},
     "output_type": "execute_result"
    }
   ],
   "source": [
    "# Creating a DF were we can identify which coeficient goes with each feature.\n",
    "coef=list(lr.coef_[0])\n",
    "col=x.columns\n",
    "final_coef={}\n",
    "for i in range(len(coef)):\n",
    "    final_coef[col[i]]=coef[i]\n",
    "final_coef=pd.DataFrame(final_coef,index=[0]).T\n",
    "final_coef.columns=['Coeficients']\n",
    "final_coef=final_coef.sort_values(ascending=False,by='Coeficients').head(20)\n",
    "final_coef.head(5)"
   ]
  },
  {
   "cell_type": "markdown",
   "metadata": {},
   "source": [
    "### Logistic Regression with Recursive Feature Elimination"
   ]
  },
  {
   "cell_type": "code",
   "execution_count": 31,
   "metadata": {},
   "outputs": [],
   "source": [
    "# Creating our RFECV\n",
    "from sklearn.feature_selection import RFECV\n",
    "\n",
    "lr = LogisticRegression()\n",
    "selector = RFECV(estimator=lr, step=1, cv=5, scoring='f1', n_jobs=-1)\n",
    "selector.fit(X_train, y_train)\n",
    "rfe_features = x.columns[(selector.get_support())]\n"
   ]
  },
  {
   "cell_type": "code",
   "execution_count": 32,
   "metadata": {},
   "outputs": [],
   "source": [
    "# Re creating our X and Y variables\n",
    "X = df[rfe_features]\n",
    "Y= y.copy()"
   ]
  },
  {
   "cell_type": "code",
   "execution_count": 33,
   "metadata": {},
   "outputs": [],
   "source": [
    "# Instantiating our new Logistic Regression model\n",
    "lr2=LogisticRegression(class_weight=\"balanced\")"
   ]
  },
  {
   "cell_type": "code",
   "execution_count": 34,
   "metadata": {},
   "outputs": [],
   "source": [
    "# Re creating our splits with new features.\n",
    "X_train2,X_test2,y_train2,y_test2=train_test_split(X,Y,random_state=2020, test_size=.2)"
   ]
  },
  {
   "cell_type": "code",
   "execution_count": 35,
   "metadata": {},
   "outputs": [],
   "source": [
    "# Creating our new predictions.\n",
    "lr2.fit(X_train2,y_train2)\n",
    "\n",
    "y_predict_lr2=lr2.predict(X_test2)"
   ]
  },
  {
   "cell_type": "code",
   "execution_count": 36,
   "metadata": {},
   "outputs": [
    {
     "name": "stdout",
     "output_type": "stream",
     "text": [
      "Logistic Regression Accuracy: 0.8687782805429864\n",
      "Logistic Regression Accuracy: 0.8960573476702508\n"
     ]
    }
   ],
   "source": [
    "# Pulling out our scores \n",
    "print('Logistic Regression Accuracy: {}'.format(metrics.accuracy_score(y_test2, y_predict_lr2)))\n",
    "print('Logistic Regression Accuracy: {}'.format(metrics.f1_score(y_test2,y_predict_lr2)))"
   ]
  },
  {
   "cell_type": "code",
   "execution_count": 37,
   "metadata": {
    "scrolled": true
   },
   "outputs": [
    {
     "data": {
      "text/html": [
       "<div>\n",
       "<style scoped>\n",
       "    .dataframe tbody tr th:only-of-type {\n",
       "        vertical-align: middle;\n",
       "    }\n",
       "\n",
       "    .dataframe tbody tr th {\n",
       "        vertical-align: top;\n",
       "    }\n",
       "\n",
       "    .dataframe thead th {\n",
       "        text-align: right;\n",
       "    }\n",
       "</style>\n",
       "<table border=\"1\" class=\"dataframe\">\n",
       "  <thead>\n",
       "    <tr style=\"text-align: right;\">\n",
       "      <th></th>\n",
       "      <th>Coeficients</th>\n",
       "    </tr>\n",
       "  </thead>\n",
       "  <tbody>\n",
       "    <tr>\n",
       "      <th>leave_Very difficult</th>\n",
       "      <td>1.461061</td>\n",
       "    </tr>\n",
       "    <tr>\n",
       "      <th>supervisor_No</th>\n",
       "      <td>1.055773</td>\n",
       "    </tr>\n",
       "    <tr>\n",
       "      <th>work_interfere_Often</th>\n",
       "      <td>0.950929</td>\n",
       "    </tr>\n",
       "    <tr>\n",
       "      <th>mental_health_interview_No</th>\n",
       "      <td>0.814949</td>\n",
       "    </tr>\n",
       "    <tr>\n",
       "      <th>anonymity_No</th>\n",
       "      <td>0.787106</td>\n",
       "    </tr>\n",
       "  </tbody>\n",
       "</table>\n",
       "</div>"
      ],
      "text/plain": [
       "                            Coeficients\n",
       "leave_Very difficult           1.461061\n",
       "supervisor_No                  1.055773\n",
       "work_interfere_Often           0.950929\n",
       "mental_health_interview_No     0.814949\n",
       "anonymity_No                   0.787106"
      ]
     },
     "execution_count": 37,
     "metadata": {},
     "output_type": "execute_result"
    }
   ],
   "source": [
    "# Creating a DF were we can identify which coeficient goes with each feature.\n",
    "coef=list(lr2.coef_[0])\n",
    "col=X.columns\n",
    "final_coef_rfe={}\n",
    "for i in range(len(coef)):\n",
    "    final_coef_rfe[col[i]]=coef[i]\n",
    "final_coef_rfe=pd.DataFrame(final_coef_rfe,index=[0]).T\n",
    "final_coef_rfe.columns=['Coeficients']\n",
    "final_coef_rfe=final_coef_rfe.sort_values(ascending=False,by='Coeficients')\n",
    "final_coef_rfe.head(5)"
   ]
  },
  {
   "cell_type": "markdown",
   "metadata": {},
   "source": [
    "### Decision Tree"
   ]
  },
  {
   "cell_type": "code",
   "execution_count": 38,
   "metadata": {},
   "outputs": [],
   "source": [
    "# Importing our Decision Tree \n",
    "from sklearn.tree import DecisionTreeClassifier"
   ]
  },
  {
   "cell_type": "code",
   "execution_count": 39,
   "metadata": {},
   "outputs": [
    {
     "name": "stdout",
     "output_type": "stream",
     "text": [
      "0.8377358490566039\n"
     ]
    }
   ],
   "source": [
    "# Fitting, predicting and generating our F1 Score\n",
    "dtc = DecisionTreeClassifier(max_depth=5, class_weight='balanced')\n",
    "\n",
    "dtc.fit(X_train, y_train)\n",
    "\n",
    "dtc_preds  = dtc.predict(X_test)\n",
    "\n",
    "dtc_f1 = metrics.f1_score(y_test, dtc_preds)\n",
    "\n",
    "print(dtc_f1)"
   ]
  },
  {
   "cell_type": "markdown",
   "metadata": {},
   "source": [
    "Using RFECV on Decition Tree"
   ]
  },
  {
   "cell_type": "code",
   "execution_count": 40,
   "metadata": {},
   "outputs": [],
   "source": [
    "# Using RFECV on Decision tree to generate new features.\n",
    "dt2 = DecisionTreeClassifier(class_weight='balanced')\n",
    "selector2 = RFECV(estimator=dt2, step=1, cv=5, scoring='f1', n_jobs=-1)\n",
    "selector2.fit(X_train, y_train)\n",
    "rfe_features2 = x.columns[(selector.get_support())]"
   ]
  },
  {
   "cell_type": "code",
   "execution_count": 41,
   "metadata": {},
   "outputs": [
    {
     "name": "stdout",
     "output_type": "stream",
     "text": [
      "0.8475836431226766\n"
     ]
    }
   ],
   "source": [
    "# Fitting the new features, predicting and generating our F1 Score\n",
    "dtc_RFE = DecisionTreeClassifier(max_depth=5, class_weight='balanced')\n",
    "\n",
    "dtc_RFE.fit(X_train2, y_train2)\n",
    "\n",
    "dtc_RFE_preds2 = dtc_RFE.predict(X_test2)\n",
    "\n",
    "dtc_RFE_f1 = metrics.f1_score(y_test2, dtc_RFE_preds2)\n",
    "\n",
    "print(dtc_RFE_f1)"
   ]
  },
  {
   "cell_type": "markdown",
   "metadata": {},
   "source": [
    "### Decision Tree Grid Search "
   ]
  },
  {
   "cell_type": "code",
   "execution_count": 42,
   "metadata": {},
   "outputs": [],
   "source": [
    "# importing Grid Search\n",
    "from sklearn.model_selection import GridSearchCV"
   ]
  },
  {
   "cell_type": "code",
   "execution_count": 43,
   "metadata": {},
   "outputs": [],
   "source": [
    "# Choosing our Parameters.\n",
    "param_grid = {\n",
    "    'max_depth': range(1,21,1),\n",
    "    'criterion':['gini', 'entropy'],\n",
    "    'min_samples_split': range(1,11,1)\n",
    "}"
   ]
  },
  {
   "cell_type": "code",
   "execution_count": 44,
   "metadata": {},
   "outputs": [],
   "source": [
    "# Instantiating our Grid Search \n",
    "grid_dt = GridSearchCV(dtc, param_grid, cv=5, scoring='f1', verbose=1, n_jobs=-1)"
   ]
  },
  {
   "cell_type": "code",
   "execution_count": 45,
   "metadata": {},
   "outputs": [
    {
     "name": "stdout",
     "output_type": "stream",
     "text": [
      "Fitting 5 folds for each of 400 candidates, totalling 2000 fits\n"
     ]
    },
    {
     "name": "stderr",
     "output_type": "stream",
     "text": [
      "[Parallel(n_jobs=-1)]: Using backend LokyBackend with 8 concurrent workers.\n",

      "[Parallel(n_jobs=-1)]: Done  34 tasks      | elapsed:    0.5s\n",
      "[Parallel(n_jobs=-1)]: Done 1800 tasks      | elapsed:    4.1s\n",
      "[Parallel(n_jobs=-1)]: Done 2000 out of 2000 | elapsed:    4.5s finished\n"

     ]
    },
    {
     "data": {
      "text/plain": [
       "GridSearchCV(cv=5,\n",
       "             estimator=DecisionTreeClassifier(class_weight='balanced',\n",
       "                                              max_depth=5),\n",
       "             n_jobs=-1,\n",
       "             param_grid={'criterion': ['gini', 'entropy'],\n",
       "                         'max_depth': range(1, 21),\n",
       "                         'min_samples_split': range(1, 11)},\n",
       "             scoring='f1', verbose=1)"
      ]
     },
     "execution_count": 45,
     "metadata": {},
     "output_type": "execute_result"
    }
   ],
   "source": [
    "# Fitting our model\n",
    "grid_dt.fit(X_train, y_train)"
   ]
  },
  {
   "cell_type": "code",
   "execution_count": 46,
   "metadata": {},
   "outputs": [
    {
     "name": "stdout",
     "output_type": "stream",
     "text": [
      "0.8429441657506296\n",
      "{'criterion': 'gini', 'max_depth': 2, 'min_samples_split': 2}\n",
      "DecisionTreeClassifier(class_weight='balanced', max_depth=2)\n"
     ]
    }
   ],
   "source": [
    "# Reviewing our results.\n",
    "print(grid_dt.best_score_)\n",
    "print(grid_dt.best_params_)\n",
    "print(grid_dt.best_estimator_)"
   ]
  },
  {
   "cell_type": "markdown",
   "metadata": {},
   "source": [
    "## Final Results"
   ]
  },
  {
   "cell_type": "code",
   "execution_count": 47,
   "metadata": {
    "scrolled": true
   },
   "outputs": [
    {
     "name": "stdout",
     "output_type": "stream",
     "text": [
      "Decition Tree F1: 0.8377358490566039\n",
      "\n",
      "\n",
      "Decition Tree RFE F1: 0.8475836431226766\n",
      "\n",
      "\n",
      "Decition Tree Grid Search F1: 0.8429441657506296\n",
      "\n",
      "\n",
      "Logistic Regression Without RFE F1: 0.8904593639575972\n",
      "\n",
      "\n",
      "Logistic Regression With RFE F1: 0.8960573476702508\n"
     ]
    }
   ],
   "source": [
    "print('Decition Tree F1: {}'.format(dtc_f1))\n",
    "print('\\n')\n",
    "print('Decition Tree RFE F1: {}'.format(dtc_RFE_f1))\n",
    "print('\\n')\n",
    "print('Decition Tree Grid Search F1: {}'.format(grid_dt.best_score_))\n",
    "print('\\n')\n",
    "print('Logistic Regression Without RFE F1: {}'.format(metrics.f1_score(y_test,y_pred_lr)))\n",
    "print('\\n')\n",
    "print('Logistic Regression With RFE F1: {}'.format(metrics.f1_score(y_test2,y_predict_lr2)))"
   ]
  },
  {
   "cell_type": "markdown",
   "metadata": {},
   "source": [
    "## Final Model"
   ]
  },
  {
   "cell_type": "code",
   "execution_count": 48,
   "metadata": {},
   "outputs": [
    {
     "name": "stdout",
     "output_type": "stream",
     "text": [
      ">> Logistic Regression With RFE F1: 0.8960573476702508 <<\n"
     ]
    }
   ],
   "source": [
    "print('>> Logistic Regression With RFE F1: {} <<'.format(metrics.f1_score(y_test2,y_predict_lr2)))"
   ]
  },
  {
   "cell_type": "code",

   "execution_count": 47,
   "metadata": {
    "scrolled": true
   },

   "outputs": [
    {
     "name": "stdout",
     "output_type": "stream",
     "text": [
      "                            Coeficients\n",
      "supervisor_No                  0.893443\n",
      "mental_vs_physical_No          0.615651\n",
      "mental_health_interview_No     0.542782\n",
      "coworkers_No                   0.522709\n",
      "benefits_Yes                   0.497532\n",
      "leave_Very difficult           0.402523\n",
      "work_interfere_Often           0.381609\n",
      "obs_consequence                0.356680\n",
      "treatment                      0.309000\n",
      "state_Southern State           0.267912\n",
      "\n",
      "\n",
      "                            Coeficients\n",
      "leave_Very difficult           1.461061\n",
      "supervisor_No                  1.055773\n",
      "work_interfere_Often           0.950929\n",
      "mental_health_interview_No     0.814949\n",
      "anonymity_No                   0.787106\n",
      "benefits_Yes                   0.758548\n",
      "country_United Kingdom         0.664014\n",
      "state_Southern State           0.660779\n",
      "phys_health_interview_Yes      0.633676\n",
      "obs_consequence                0.553888\n"
     ]
    }
   ],
   "source": [
    "# There is an interesting difference between the coefficients and features when the Logistic regression was ran\n",
    "# without RFE and with RFE\n",
    "print(final_coef.head(10))\n",
    "print('\\n')\n",
    "print(final_coef_rfe.head(10))"
   ]
  },
  {
   "cell_type": "code",
   "execution_count": 50,
   "metadata": {},
   "outputs": [
    {

     "data": {
      "text/html": [
       "<div>\n",
       "<style scoped>\n",
       "    .dataframe tbody tr th:only-of-type {\n",
       "        vertical-align: middle;\n",
       "    }\n",
       "\n",
       "    .dataframe tbody tr th {\n",
       "        vertical-align: top;\n",
       "    }\n",
       "\n",
       "    .dataframe thead th {\n",
       "        text-align: right;\n",
       "    }\n",
       "</style>\n",
       "<table border=\"1\" class=\"dataframe\">\n",
       "  <thead>\n",
       "    <tr style=\"text-align: right;\">\n",
       "      <th></th>\n",
       "      <th>Coeficients</th>\n",
       "      <th>Percentile</th>\n",
       "    </tr>\n",
       "  </thead>\n",
       "  <tbody>\n",
       "    <tr>\n",
       "      <th>leave_Very difficult</th>\n",
       "      <td>1.203038</td>\n",
       "      <td>0.945205</td>\n",
       "    </tr>\n",
       "    <tr>\n",
       "      <th>work_interfere_Often</th>\n",
       "      <td>0.975826</td>\n",
       "      <td>0.745614</td>\n",
       "    </tr>\n",
       "    <tr>\n",
       "      <th>supervisor_No</th>\n",
       "      <td>0.887506</td>\n",
       "      <td>0.922857</td>\n",
       "    </tr>\n",
       "    <tr>\n",
       "      <th>benefits_Yes</th>\n",
       "      <td>0.768986</td>\n",
       "      <td>0.637778</td>\n",
       "    </tr>\n",
       "    <tr>\n",
       "      <th>anonymity_No</th>\n",
       "      <td>0.748763</td>\n",
       "      <td>0.941176</td>\n",
       "    </tr>\n",
       "    <tr>\n",
       "      <th>mental_health_interview_No</th>\n",
       "      <td>0.747105</td>\n",
       "      <td>0.701226</td>\n",
       "    </tr>\n",
       "    <tr>\n",
       "      <th>country_United Kingdom</th>\n",
       "      <td>0.707869</td>\n",
       "      <td>0.634615</td>\n",
       "    </tr>\n",
       "    <tr>\n",
       "      <th>state_Southern State</th>\n",
       "      <td>0.686753</td>\n",
       "      <td>0.687075</td>\n",
       "    </tr>\n",
       "    <tr>\n",
       "      <th>country_Europe</th>\n",
       "      <td>0.681608</td>\n",
       "      <td>0.595960</td>\n",
       "    </tr>\n",
       "    <tr>\n",
       "      <th>self_employed_No</th>\n",
       "      <td>0.649984</td>\n",
       "      <td>0.627993</td>\n",
       "    </tr>\n",
       "    <tr>\n",
       "      <th>work_interfere_Sometimes</th>\n",
       "      <td>0.597012</td>\n",
       "      <td>0.704433</td>\n",
       "    </tr>\n",
       "    <tr>\n",
       "      <th>phys_health_interview_Yes</th>\n",
       "      <td>0.579670</td>\n",
       "      <td>0.511364</td>\n",
       "    </tr>\n",
       "    <tr>\n",
       "      <th>obs_consequence</th>\n",
       "      <td>0.503105</td>\n",
       "      <td>0.846667</td>\n",
       "    </tr>\n",
       "    <tr>\n",
       "      <th>state_Western State</th>\n",
       "      <td>0.498825</td>\n",
       "      <td>0.661355</td>\n",
       "    </tr>\n",
       "    <tr>\n",
       "      <th>mental_vs_physical_No</th>\n",
       "      <td>0.474879</td>\n",
       "      <td>0.841424</td>\n",
       "    </tr>\n",
       "    <tr>\n",
       "      <th>coworkers_No</th>\n",
       "      <td>0.437476</td>\n",
       "      <td>0.890295</td>\n",
       "    </tr>\n",
       "    <tr>\n",
       "      <th>leave_Somewhat easy</th>\n",
       "      <td>-0.456278</td>\n",
       "      <td>0.528634</td>\n",
       "    </tr>\n",
       "    <tr>\n",
       "      <th>leave_Somewhat difficult</th>\n",
       "      <td>-0.483060</td>\n",
       "      <td>0.786408</td>\n",
       "    </tr>\n",
       "    <tr>\n",
       "      <th>tech_company</th>\n",
       "      <td>-0.510535</td>\n",
       "      <td>0.595745</td>\n",
       "    </tr>\n",
       "    <tr>\n",
       "      <th>seek_help_Yes</th>\n",
       "      <td>-0.550054</td>\n",
       "      <td>0.527027</td>\n",
       "    </tr>\n",
       "    <tr>\n",
       "      <th>mental_vs_physical_Yes</th>\n",
       "      <td>-0.969332</td>\n",
       "      <td>0.302583</td>\n",
       "    </tr>\n",
       "    <tr>\n",
       "      <th>leave_Very easy</th>\n",
       "      <td>-1.028732</td>\n",
       "      <td>0.301775</td>\n",
       "    </tr>\n",
       "    <tr>\n",
       "      <th>mental_health_interview_Yes</th>\n",
       "      <td>-1.315919</td>\n",
       "      <td>0.151515</td>\n",
       "    </tr>\n",
       "    <tr>\n",
       "      <th>supervisor_Yes</th>\n",
       "      <td>-1.395258</td>\n",
       "      <td>0.306998</td>\n",
       "    </tr>\n",
       "    <tr>\n",
       "      <th>phys_health_consequence_No</th>\n",
       "      <td>-2.795907</td>\n",
       "      <td>0.498160</td>\n",
       "    </tr>\n",
       "  </tbody>\n",
       "</table>\n",
       "</div>"
      ],
      "text/plain": [
       "                             Coeficients  Percentile\n",
       "leave_Very difficult            1.203038    0.945205\n",
       "work_interfere_Often            0.975826    0.745614\n",
       "supervisor_No                   0.887506    0.922857\n",
       "benefits_Yes                    0.768986    0.637778\n",
       "anonymity_No                    0.748763    0.941176\n",
       "mental_health_interview_No      0.747105    0.701226\n",
       "country_United Kingdom          0.707869    0.634615\n",
       "state_Southern State            0.686753    0.687075\n",
       "country_Europe                  0.681608    0.595960\n",
       "self_employed_No                0.649984    0.627993\n",
       "work_interfere_Sometimes        0.597012    0.704433\n",
       "phys_health_interview_Yes       0.579670    0.511364\n",
       "obs_consequence                 0.503105    0.846667\n",
       "state_Western State             0.498825    0.661355\n",
       "mental_vs_physical_No           0.474879    0.841424\n",
       "coworkers_No                    0.437476    0.890295\n",
       "leave_Somewhat easy            -0.456278    0.528634\n",
       "leave_Somewhat difficult       -0.483060    0.786408\n",
       "tech_company                   -0.510535    0.595745\n",
       "seek_help_Yes                  -0.550054    0.527027\n",
       "mental_vs_physical_Yes         -0.969332    0.302583\n",
       "leave_Very easy                -1.028732    0.301775\n",
       "mental_health_interview_Yes    -1.315919    0.151515\n",
       "supervisor_Yes                 -1.395258    0.306998\n",
       "phys_health_consequence_No     -2.795907    0.498160"
      ]
     },
     "execution_count": 48,
     "metadata": {},
     "output_type": "execute_result"
    }
   ],
   "source": [
    "# Concatenated a percentile column to our coeficients to be able to see the percentace that influenced our\n",
    "# target variable.\n",
    "\n",
    "percentile=[]\n",
    "for c in final_coef_rfe.index:\n",
    "    per=pd.crosstab(df[c],df['mental_health_consequence']).apply(lambda x: x/x.sum(), axis=1) \n",
    "    hold=per.iloc[1,1]\n",
    "    percentile.append(hold)\n",
    "final_coef_rfe['Percentile']=percentile\n",
    "final_coef_rfe"
   ]
  },
  {
   "cell_type": "code",
   "execution_count": 49,
   "metadata": {},
   "outputs": [],


   "source": [
    "# Renaming the coeficients so we are able to interpret them in graphics \n",
    "final_coef_rfe.index=['Med leave for MH (Very Difficult)', 'Work Interference (Often)', 'Dis Supervisor (No)',\n",
    "       'MH Benefits (Yes)','Anonymity Protection (No)', 'Dis MH in Interview (No)',\n",
    "       'United Kingdom', 'Southern State',  'European Country',\n",
    "       'Self Employed (No)', 'Work Interfere (Sometimes)',\n",
    "       'Dis PH in Interview (Yes)', \"Obs Negative Consequesnce at Work\",'Western State',\n",
    "        'Mental vs Physical (No)', 'Dis MH with Coworkers (No)', 'Med leave for MH (Somewhat Easy)',\n",
    "       'Med leave for MH (Somewhat Difficult)', 'Tech Company (Yes)', 'MH Resourses (Yes)',\n",
    "       'Mental vs Physical (Yes)', 'Med leave for MH (Very Easy)',\n",
    "       'Dis MH in Interview (Yes)', 'Dis MH with Supervisor (Yes)',\n",
    "       \"Physical Hlth Consequence (No)\"]"
   ]
  },
  {
   "cell_type": "code",

   "execution_count": 50,
   "metadata": {
    "scrolled": true
   },
   "outputs": [
    {
     "data": {
      "text/html": [
       "<div>\n",
       "<style scoped>\n",
       "    .dataframe tbody tr th:only-of-type {\n",
       "        vertical-align: middle;\n",
       "    }\n",
       "\n",
       "    .dataframe tbody tr th {\n",
       "        vertical-align: top;\n",
       "    }\n",
       "\n",
       "    .dataframe thead th {\n",
       "        text-align: right;\n",
       "    }\n",
       "</style>\n",
       "<table border=\"1\" class=\"dataframe\">\n",
       "  <thead>\n",
       "    <tr style=\"text-align: right;\">\n",
       "      <th></th>\n",
       "      <th>Coeficients</th>\n",
       "      <th>Percentile</th>\n",
       "    </tr>\n",
       "  </thead>\n",
       "  <tbody>\n",
       "    <tr>\n",
       "      <th>Med leave for MH (Very Difficult)</th>\n",
       "      <td>1.203038</td>\n",
       "      <td>0.945205</td>\n",
       "    </tr>\n",
       "    <tr>\n",
       "      <th>Work Interference (Often)</th>\n",
       "      <td>0.975826</td>\n",
       "      <td>0.745614</td>\n",
       "    </tr>\n",
       "    <tr>\n",
       "      <th>Dis Supervisor (No)</th>\n",
       "      <td>0.887506</td>\n",
       "      <td>0.922857</td>\n",
       "    </tr>\n",
       "    <tr>\n",
       "      <th>MH Benefits (Yes)</th>\n",
       "      <td>0.768986</td>\n",
       "      <td>0.637778</td>\n",
       "    </tr>\n",
       "    <tr>\n",
       "      <th>Anonymity Protection (No)</th>\n",
       "      <td>0.748763</td>\n",
       "      <td>0.941176</td>\n",
       "    </tr>\n",
       "    <tr>\n",
       "      <th>Dis MH in Interview (No)</th>\n",
       "      <td>0.747105</td>\n",
       "      <td>0.701226</td>\n",
       "    </tr>\n",
       "    <tr>\n",
       "      <th>United Kingdom</th>\n",
       "      <td>0.707869</td>\n",
       "      <td>0.634615</td>\n",
       "    </tr>\n",
       "    <tr>\n",
       "      <th>Southern State</th>\n",
       "      <td>0.686753</td>\n",
       "      <td>0.687075</td>\n",
       "    </tr>\n",
       "    <tr>\n",
       "      <th>European Country</th>\n",
       "      <td>0.681608</td>\n",
       "      <td>0.595960</td>\n",
       "    </tr>\n",
       "    <tr>\n",
       "      <th>Self Employed (No)</th>\n",
       "      <td>0.649984</td>\n",
       "      <td>0.627993</td>\n",
       "    </tr>\n",
       "    <tr>\n",
       "      <th>Work Interfere (Sometimes)</th>\n",
       "      <td>0.597012</td>\n",
       "      <td>0.704433</td>\n",
       "    </tr>\n",
       "    <tr>\n",
       "      <th>Dis PH in Interview (Yes)</th>\n",
       "      <td>0.579670</td>\n",
       "      <td>0.511364</td>\n",
       "    </tr>\n",
       "    <tr>\n",
       "      <th>Obs Negative Consequesnce at Work</th>\n",
       "      <td>0.503105</td>\n",
       "      <td>0.846667</td>\n",
       "    </tr>\n",
       "    <tr>\n",
       "      <th>Western State</th>\n",
       "      <td>0.498825</td>\n",
       "      <td>0.661355</td>\n",
       "    </tr>\n",
       "    <tr>\n",
       "      <th>Mental vs Physical (No)</th>\n",
       "      <td>0.474879</td>\n",
       "      <td>0.841424</td>\n",
       "    </tr>\n",
       "    <tr>\n",
       "      <th>Dis MH with Coworkers (No)</th>\n",
       "      <td>0.437476</td>\n",
       "      <td>0.890295</td>\n",
       "    </tr>\n",
       "    <tr>\n",
       "      <th>Med leave for MH (Somewhat Easy)</th>\n",
       "      <td>-0.456278</td>\n",
       "      <td>0.528634</td>\n",
       "    </tr>\n",
       "    <tr>\n",
       "      <th>Med leave for MH (Somewhat Difficult)</th>\n",
       "      <td>-0.483060</td>\n",
       "      <td>0.786408</td>\n",
       "    </tr>\n",
       "    <tr>\n",
       "      <th>Tech Company (Yes)</th>\n",
       "      <td>-0.510535</td>\n",
       "      <td>0.595745</td>\n",
       "    </tr>\n",
       "    <tr>\n",
       "      <th>MH Resourses (Yes)</th>\n",
       "      <td>-0.550054</td>\n",
       "      <td>0.527027</td>\n",
       "    </tr>\n",
       "    <tr>\n",
       "      <th>Mental vs Physical (Yes)</th>\n",
       "      <td>-0.969332</td>\n",
       "      <td>0.302583</td>\n",
       "    </tr>\n",
       "    <tr>\n",
       "      <th>Med leave for MH (Very Easy)</th>\n",
       "      <td>-1.028732</td>\n",
       "      <td>0.301775</td>\n",
       "    </tr>\n",
       "    <tr>\n",
       "      <th>Dis MH in Interview (Yes)</th>\n",
       "      <td>-1.315919</td>\n",
       "      <td>0.151515</td>\n",
       "    </tr>\n",
       "    <tr>\n",
       "      <th>Dis MH with Supervisor (Yes)</th>\n",
       "      <td>-1.395258</td>\n",
       "      <td>0.306998</td>\n",
       "    </tr>\n",
       "    <tr>\n",
       "      <th>Physical Hlth Consequence (No)</th>\n",
       "      <td>-2.795907</td>\n",
       "      <td>0.498160</td>\n",
       "    </tr>\n",
       "  </tbody>\n",
       "</table>\n",
       "</div>"
      ],
      "text/plain": [
       "                                       Coeficients  Percentile\n",
       "Med leave for MH (Very Difficult)         1.203038    0.945205\n",
       "Work Interference (Often)                 0.975826    0.745614\n",
       "Dis Supervisor (No)                       0.887506    0.922857\n",
       "MH Benefits (Yes)                         0.768986    0.637778\n",
       "Anonymity Protection (No)                 0.748763    0.941176\n",
       "Dis MH in Interview (No)                  0.747105    0.701226\n",
       "United Kingdom                            0.707869    0.634615\n",
       "Southern State                            0.686753    0.687075\n",
       "European Country                          0.681608    0.595960\n",
       "Self Employed (No)                        0.649984    0.627993\n",
       "Work Interfere (Sometimes)                0.597012    0.704433\n",
       "Dis PH in Interview (Yes)                 0.579670    0.511364\n",
       "Obs Negative Consequesnce at Work         0.503105    0.846667\n",
       "Western State                             0.498825    0.661355\n",
       "Mental vs Physical (No)                   0.474879    0.841424\n",
       "Dis MH with Coworkers (No)                0.437476    0.890295\n",
       "Med leave for MH (Somewhat Easy)         -0.456278    0.528634\n",
       "Med leave for MH (Somewhat Difficult)    -0.483060    0.786408\n",
       "Tech Company (Yes)                       -0.510535    0.595745\n",
       "MH Resourses (Yes)                       -0.550054    0.527027\n",
       "Mental vs Physical (Yes)                 -0.969332    0.302583\n",
       "Med leave for MH (Very Easy)             -1.028732    0.301775\n",
       "Dis MH in Interview (Yes)                -1.315919    0.151515\n",
       "Dis MH with Supervisor (Yes)             -1.395258    0.306998\n",
       "Physical Hlth Consequence (No)           -2.795907    0.498160"
      ]
     },
     "execution_count": 50,
     "metadata": {},
     "output_type": "execute_result"
    }
   ],

   "source": [
    "# Final coefficients to interpret.\n",
    "final_coef_rfe"
   ]
  },
  {
   "cell_type": "code",

   "execution_count": 51,

   "metadata": {},
   "outputs": [
    {
     "data": {

      "text/plain": [
       "Text(0.5, 1.0, 'Features')"
      ]
     },
     "execution_count": 51,
     "metadata": {},
     "output_type": "execute_result"
    },
    {
     "data": {
      "image/png": "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\n",

      "text/plain": [
       "<Figure size 1080x720 with 1 Axes>"
      ]
     },
     "metadata": {},
     "output_type": "display_data"
    }
   ],
   "source": [
    "# Top 5 features that influenced our Y (yes) prediction\n",
    "plt.figure(figsize=(15,10))\n",
    "sns.set('talk')\n",
    "top=final_coef_rfe.head(5).copy()\n",
    "ax=sns.barplot(x=top.Coeficients,y=top.index,orient='h',palette=\"vlag\",ci=None)\n",
    "ax.set_xlabel('Size of Importance')\n",


    "ax.set_title('Features',fontsize=30)\n",
    "plt.savefig('./images/top_5_features_yes', dpi=300)"

   ]
  },
  {
   "cell_type": "code",

   "execution_count": 52,


   "metadata": {},
   "outputs": [
    {
     "data": {

      "text/plain": [
       "Text(0.5, 1.0, 'Features')"
      ]
     },
     "execution_count": 52,
     "metadata": {},
     "output_type": "execute_result"
    },
    {
     "data": {
      "image/png": "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\n",

      "text/plain": [
       "<Figure size 1080x720 with 1 Axes>"
      ]
     },
     "metadata": {},
     "output_type": "display_data"
    }
   ],
   "source": [

    "# Top 5 features that influenced our N (no) prediction\n",

    "plt.figure(figsize=(15,10))\n",
    "sns.set('talk')\n",
    "bottom=final_coef_rfe.tail(5).copy()\n",
    "ax=sns.barplot(x=bottom.Coeficients,y=bottom.index,orient='h',palette=\"vlag\",ci=None)\n",
    "ax.set_xlabel('Size of Importance')\n",

    "ax.set_title('Features',fontsize=30)\n",
    "plt.savefig('./images/top_5_no_features', dpi=300)"

   ]
  },
  {
   "cell_type": "code",

   "execution_count": 53,

   "metadata": {},
   "outputs": [
    {
     "data": {

      "text/plain": [
       "Text(0.5, 1.0, 'Features')"
      ]
     },
     "execution_count": 53,
     "metadata": {},
     "output_type": "execute_result"
    },
    {
     "data": {
      "image/png": "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\n",

      "text/plain": [
       "<Figure size 1080x720 with 1 Axes>"
      ]
     },
     "metadata": {},
     "output_type": "display_data"
    }
   ],
   "source": [
    "# Final Plot that reflects all the coefficients influence in our predictions.\n",
    "plt.figure(figsize=(15,10))\n",
    "sns.set('talk')\n",
    "ax=sns.barplot(x=final_coef_rfe.Coeficients,y=final_coef_rfe.index,orient='h',palette=\"vlag\",ci=None)\n",
    "ax.set_xlabel('Size of Importance')\n",

   ]
  },
  {
   "cell_type": "code",
   "execution_count": 56,
   "metadata": {},
   "outputs": [
    {
     "data": {
      "text/plain": [
       "31.747282608695652"
      ]
     },
     "execution_count": 56,
     "metadata": {},
     "output_type": "execute_result"
    }
   ],
   "source": [
    "df.age.mean()"

    "ax.set_title('Features',fontsize=30)\n",
    "plt.savefig('./images/final_features_coeff_all', dpi=300)"

   ]
  },
  {
   "cell_type": "code",
   "execution_count": null,
   "metadata": {},
   "outputs": [],
   "source": []
  }
 ],
 "metadata": {
  "kernelspec": {
   "display_name": "Python 3",
   "language": "python",
   "name": "python3"
  },
  "language_info": {
   "codemirror_mode": {
    "name": "ipython",
    "version": 3
   },
   "file_extension": ".py",
   "mimetype": "text/x-python",
   "name": "python",
   "nbconvert_exporter": "python",
   "pygments_lexer": "ipython3",
   "version": "3.6.9"
  }
 },
 "nbformat": 4,
 "nbformat_minor": 4
}
